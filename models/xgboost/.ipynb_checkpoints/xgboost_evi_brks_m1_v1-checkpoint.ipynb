{
 "cells": [
  {
   "cell_type": "markdown",
   "id": "5796f876",
   "metadata": {},
   "source": [
    "## XGBoost EVI Negative Breaks"
   ]
  },
  {
   "cell_type": "markdown",
   "id": "e6e34ca0",
   "metadata": {},
   "source": [
    "Peter R., 2023-07-27"
   ]
  },
  {
   "cell_type": "code",
   "execution_count": 11,
   "id": "b327cd33",
   "metadata": {},
   "outputs": [
    {
     "name": "stdout",
     "output_type": "stream",
     "text": [
      "C:\\Users\\Peter R\\Documents\\xgboost\\tutorial\n"
     ]
    }
   ],
   "source": [
    "# Import the os module\n",
    "import os\n",
    "\n",
    "# Get the current working directory\n",
    "cwd = os.getcwd()\n",
    "\n",
    "print(cwd)"
   ]
  },
  {
   "cell_type": "code",
   "execution_count": 47,
   "id": "fe069639",
   "metadata": {},
   "outputs": [
    {
     "name": "stdout",
     "output_type": "stream",
     "text": [
      "174\n",
      "9\n",
      "['setosa', 'versicolor', 'virginica']\n"
     ]
    }
   ],
   "source": [
    "# Set up libraries\n",
    "from numpy import loadtxt\n",
    "\n",
    "from sklearn.datasets import load_iris\n",
    "\n",
    "iris = load_iris()\n",
    "# load data\n",
    "evi = loadtxt(r'.\\data\\forest_drivers1.csv', delimiter=',')\n",
    "evi2 = loadtxt(r'.\\data\\forest_drivers_unk1.csv', delimiter=',')\n",
    "\n",
    "numSamples, numFeatures = evi.data.shape\n",
    "\n",
    "print(numSamples)\n",
    "print(numFeatures)\n",
    "print(list(iris.target_names))"
   ]
  },
  {
   "cell_type": "code",
   "execution_count": 166,
   "id": "911fd651",
   "metadata": {},
   "outputs": [
    {
     "data": {
      "text/html": [
       "<div>\n",
       "<style scoped>\n",
       "    .dataframe tbody tr th:only-of-type {\n",
       "        vertical-align: middle;\n",
       "    }\n",
       "\n",
       "    .dataframe tbody tr th {\n",
       "        vertical-align: top;\n",
       "    }\n",
       "\n",
       "    .dataframe thead th {\n",
       "        text-align: right;\n",
       "    }\n",
       "</style>\n",
       "<table border=\"1\" class=\"dataframe\">\n",
       "  <thead>\n",
       "    <tr style=\"text-align: right;\">\n",
       "      <th></th>\n",
       "      <th>-765</th>\n",
       "      <th>56.42</th>\n",
       "      <th>24.7</th>\n",
       "      <th>74.8</th>\n",
       "      <th>0</th>\n",
       "      <th>373</th>\n",
       "      <th>813</th>\n",
       "      <th>4.40</th>\n",
       "      <th>0.1</th>\n",
       "    </tr>\n",
       "  </thead>\n",
       "  <tbody>\n",
       "    <tr>\n",
       "      <th>0</th>\n",
       "      <td>-432</td>\n",
       "      <td>34.42</td>\n",
       "      <td>22.7</td>\n",
       "      <td>76.7</td>\n",
       "      <td>0</td>\n",
       "      <td>374</td>\n",
       "      <td>813</td>\n",
       "      <td>4.40</td>\n",
       "      <td>0</td>\n",
       "    </tr>\n",
       "    <tr>\n",
       "      <th>1</th>\n",
       "      <td>-614</td>\n",
       "      <td>53.18</td>\n",
       "      <td>18.5</td>\n",
       "      <td>78.8</td>\n",
       "      <td>0</td>\n",
       "      <td>380</td>\n",
       "      <td>1018</td>\n",
       "      <td>5.06</td>\n",
       "      <td>0</td>\n",
       "    </tr>\n",
       "    <tr>\n",
       "      <th>2</th>\n",
       "      <td>-276</td>\n",
       "      <td>72.76</td>\n",
       "      <td>70.2</td>\n",
       "      <td>29.5</td>\n",
       "      <td>0</td>\n",
       "      <td>454</td>\n",
       "      <td>998</td>\n",
       "      <td>4.22</td>\n",
       "      <td>0</td>\n",
       "    </tr>\n",
       "    <tr>\n",
       "      <th>3</th>\n",
       "      <td>-291</td>\n",
       "      <td>88.82</td>\n",
       "      <td>29.7</td>\n",
       "      <td>30.7</td>\n",
       "      <td>0</td>\n",
       "      <td>167</td>\n",
       "      <td>819</td>\n",
       "      <td>6.90</td>\n",
       "      <td>0</td>\n",
       "    </tr>\n",
       "    <tr>\n",
       "      <th>4</th>\n",
       "      <td>-1190</td>\n",
       "      <td>81.18</td>\n",
       "      <td>85.0</td>\n",
       "      <td>14.9</td>\n",
       "      <td>0</td>\n",
       "      <td>363</td>\n",
       "      <td>1024</td>\n",
       "      <td>4.29</td>\n",
       "      <td>0</td>\n",
       "    </tr>\n",
       "  </tbody>\n",
       "</table>\n",
       "</div>"
      ],
      "text/plain": [
       "    -765   56.42  24.7  74.8  0  373   813  4.40  0.1\n",
       "0   -432   34.42  22.7  76.7  0  374   813  4.40    0\n",
       "1   -614   53.18  18.5  78.8  0  380  1018  5.06    0\n",
       "2   -276   72.76  70.2  29.5  0  454   998  4.22    0\n",
       "3   -291   88.82  29.7  30.7  0  167   819  6.90    0\n",
       "4  -1190   81.18  85.0  14.9  0  363  1024  4.29    0"
      ]
     },
     "execution_count": 166,
     "metadata": {},
     "output_type": "execute_result"
    }
   ],
   "source": [
    "import pandas as pd\n",
    "#from pandas import read_csv\n",
    "\n",
    "df1 = pd.read_csv(r'.\\data\\forest_drivers1.csv')\n",
    "df1.head()"
   ]
  },
  {
   "cell_type": "code",
   "execution_count": 32,
   "id": "d2e29f04",
   "metadata": {},
   "outputs": [
    {
     "name": "stdout",
     "output_type": "stream",
     "text": [
      "[[5.1 3.5 1.4 0.2]\n",
      " [4.9 3.  1.4 0.2]\n",
      " [4.7 3.2 1.3 0.2]]\n"
     ]
    }
   ],
   "source": [
    "#print(iris.data[:3, :])"
   ]
  },
  {
   "cell_type": "code",
   "execution_count": 49,
   "id": "3d77475b",
   "metadata": {},
   "outputs": [],
   "source": [
    "# split data into X and y\n",
    "X1 = evi[:,0:8]\n",
    "Y1 = evi[:,8]\n",
    "\n",
    "# New data\n",
    "X2 = evi2[:,0:7]\n",
    "#Y1 = evi2[:,7]"
   ]
  },
  {
   "cell_type": "code",
   "execution_count": 34,
   "id": "25cd871a",
   "metadata": {},
   "outputs": [
    {
     "name": "stdout",
     "output_type": "stream",
     "text": [
      "[0 0 0 0 0 0 0 0 0 0 0 0 0 0 0 0 0 0 0 0 0 0 0 0 0 0 0 0 0 0 0 0 0 0 0 0 0\n",
      " 0 0 0 0 0 0 0 0 0 0 0 0 0]\n"
     ]
    }
   ],
   "source": [
    "#print(iris.target[:50])"
   ]
  },
  {
   "cell_type": "code",
   "execution_count": 45,
   "id": "97678fff",
   "metadata": {
    "scrolled": true
   },
   "outputs": [
    {
     "data": {
      "text/plain": [
       "([], [])"
      ]
     },
     "execution_count": 45,
     "metadata": {},
     "output_type": "execute_result"
    },
    {
     "data": {
      "image/png": "[encoded data removed]",
      "text/plain": [
       "<Figure size 800x600 with 1 Axes>"
      ]
     },
     "metadata": {},
     "output_type": "display_data"
    }
   ],
   "source": [
    "import matplotlib.pyplot as plt\n",
    "\n",
    "# import some data to play with\n",
    "X = evi[:, [2,6]]  # we only take the first two features.\n",
    "y = Y1\n",
    "\n",
    "x_min, x_max = X[:, 0].min() - 0.5, X[:, 0].max() + 0.5\n",
    "y_min, y_max = X[:, 1].min() - 0.5, X[:, 1].max() + 0.5\n",
    "\n",
    "plt.figure(2, figsize=(8, 6))\n",
    "plt.clf()\n",
    "\n",
    "# Plot the training points\n",
    "plt.scatter(X[:, 0], X[:, 1], c=y, cmap=plt.cm.Set1, edgecolor=\"k\")\n",
    "plt.xlabel(\"forest age\")\n",
    "plt.ylabel(\"elevation\")\n",
    "\n",
    "plt.xlim(x_min, x_max)\n",
    "plt.ylim(y_min, y_max)\n",
    "plt.xticks(())\n",
    "plt.yticks(())"
   ]
  },
  {
   "cell_type": "code",
   "execution_count": 8,
   "id": "bfcea84d",
   "metadata": {},
   "outputs": [],
   "source": [
    "#from sklearn.model_selection import train_test_split\n",
    "\n",
    "#x_train, x_test, y_train, y_test = train_test_split(iris.data, iris.target, test_size=0.2, random_state=0)"
   ]
  },
  {
   "cell_type": "code",
   "execution_count": 134,
   "id": "4267940a",
   "metadata": {},
   "outputs": [],
   "source": [
    "# using EVI breaks\n",
    "from sklearn.model_selection import train_test_split\n",
    "\n",
    "seed = 7\n",
    "testsize1 = 0.2\n",
    "\n",
    "# to help deal with unbalanced data use stratify=yes. But don't use here yet.\n",
    "x_train, x_test, y_train, y_test = train_test_split(X1, Y1, test_size=testsize1, random_state=seed)\n",
    "\n"
   ]
  },
  {
   "cell_type": "code",
   "execution_count": 136,
   "id": "266ae3ef",
   "metadata": {},
   "outputs": [
    {
     "data": {
      "text/plain": [
       "0.7985611510791367"
      ]
     },
     "execution_count": 136,
     "metadata": {},
     "output_type": "execute_result"
    }
   ],
   "source": [
    "sum(y_train)/len(y_train) # values should be the same as below\n"
   ]
  },
  {
   "cell_type": "code",
   "execution_count": 137,
   "id": "2630ff65",
   "metadata": {},
   "outputs": [
    {
     "data": {
      "text/plain": [
       "0.9142857142857143"
      ]
     },
     "execution_count": 137,
     "metadata": {},
     "output_type": "execute_result"
    }
   ],
   "source": [
    "\n",
    "sum(y_test)/len(y_test)"
   ]
  },
  {
   "cell_type": "markdown",
   "id": "4df53608",
   "metadata": {},
   "source": [
    "Load xgboost"
   ]
  },
  {
   "cell_type": "code",
   "execution_count": 36,
   "id": "489a4ec2",
   "metadata": {},
   "outputs": [],
   "source": [
    "import xgboost as xgb\n",
    "\n",
    "# Model 1: Baseline model\n",
    "train = xgb.DMatrix(x_train, label=y_train)\n",
    "test = xgb.DMatrix(x_test, label=y_test)\n",
    "\n",
    "# Model 1: uses train() and parameters below\n",
    "\n",
    "# change parameters accordingly. Ideally, do a sensitivity test with GridSearch\n",
    "param = {\n",
    "    'max_depth': 4,\n",
    "    'eta':0.3,\n",
    "    'objective': 'multi:softmax',\n",
    "    'num_class': 3}\n",
    "\n",
    "epochs = 10\n",
    "\n",
    "# train() defaults to 'multisoftmax' when more than two classes are found in y_train.\n",
    "model = xgb.train(param, train, epochs)\n"
   ]
  },
  {
   "cell_type": "code",
   "execution_count": 155,
   "id": "8434291a",
   "metadata": {},
   "outputs": [
    {
     "name": "stdout",
     "output_type": "stream",
     "text": [
      "[1. 0. 1.]\n",
      "[0.45874587 1.4040404  0.45874587]\n"
     ]
    }
   ],
   "source": [
    "# Model 1_2: This model includes weights to help with imbalanced data\n",
    "# Weights acn help for imbalanced data\n",
    "from sklearn.utils import class_weight\n",
    "\n",
    "weights1  = class_weight.compute_sample_weight(\n",
    "    class_weight='balanced',\n",
    "    y=y_train\n",
    ")\n",
    "\n",
    "print(y_train[:3])\n",
    "print(weights1[:3])\n",
    "\n",
    "train2 = xgb.DMatrix(x_train, label=y_train, weight=weights1)\n",
    "\n",
    "# Model 1_2: uses train() and default parameters and weights\n",
    "# train() defaults to 'multisoftmax' when more than two classes are found in y_train.\n",
    "model1_2 = xgb.train(param, train2, epochs)"
   ]
  },
  {
   "cell_type": "markdown",
   "id": "e8f987ff",
   "metadata": {},
   "source": [
    "Test the model with brand new data"
   ]
  },
  {
   "cell_type": "code",
   "execution_count": 188,
   "id": "f9cf9823",
   "metadata": {},
   "outputs": [
    {
     "name": "stdout",
     "output_type": "stream",
     "text": [
      "<xgboost.core.DMatrix object at 0x000001EAE6986140>\n"
     ]
    }
   ],
   "source": [
    "# DElete. not needed\n",
    "# This is the brand new data to test how well the model does.\n",
    "# in this data set I don't have a label\n",
    "testNewData = xgb.DMatrix(X2)\n",
    "print(testNewData)"
   ]
  },
  {
   "cell_type": "markdown",
   "id": "44815596",
   "metadata": {},
   "source": [
    "Now let's run the model"
   ]
  },
  {
   "cell_type": "code",
   "execution_count": 38,
   "id": "04f7ae8c",
   "metadata": {},
   "outputs": [],
   "source": [
    "# Model 1: uses train() and default parameters\n",
    "# train() defaults to 'multisoftmax' when more than two classes are found in y_train.\n",
    "#model = xgb.train(param, train, epochs)"
   ]
  },
  {
   "cell_type": "code",
   "execution_count": 149,
   "id": "bfb0d659",
   "metadata": {
    "scrolled": false
   },
   "outputs": [
    {
     "name": "stdout",
     "output_type": "stream",
     "text": [
      "0.8273381294964028\n",
      "0.8\n",
      "[0]\tvalidation_0-aucpr:0.61718\n",
      "[1]\tvalidation_0-aucpr:0.66632\n",
      "[2]\tvalidation_0-aucpr:0.67090\n",
      "[3]\tvalidation_0-aucpr:0.67741\n",
      "[4]\tvalidation_0-aucpr:0.67544\n",
      "[5]\tvalidation_0-aucpr:0.71241\n",
      "[6]\tvalidation_0-aucpr:0.70939\n",
      "[7]\tvalidation_0-aucpr:0.70884\n",
      "[8]\tvalidation_0-aucpr:0.93846\n",
      "[9]\tvalidation_0-aucpr:0.93846\n",
      "[10]\tvalidation_0-aucpr:0.93989\n",
      "[11]\tvalidation_0-aucpr:0.94103\n",
      "[12]\tvalidation_0-aucpr:0.94745\n",
      "[13]\tvalidation_0-aucpr:0.95396\n",
      "[14]\tvalidation_0-aucpr:0.94971\n",
      "[15]\tvalidation_0-aucpr:0.95549\n",
      "[16]\tvalidation_0-aucpr:0.95525\n",
      "[17]\tvalidation_0-aucpr:0.95324\n",
      "[18]\tvalidation_0-aucpr:0.95592\n",
      "[19]\tvalidation_0-aucpr:0.95592\n",
      "[20]\tvalidation_0-aucpr:0.95592\n",
      "[21]\tvalidation_0-aucpr:0.95592\n",
      "[22]\tvalidation_0-aucpr:0.95714\n",
      "[23]\tvalidation_0-aucpr:0.95714\n",
      "[24]\tvalidation_0-aucpr:0.95998\n",
      "[25]\tvalidation_0-aucpr:0.95998\n",
      "[26]\tvalidation_0-aucpr:0.95998\n",
      "[27]\tvalidation_0-aucpr:0.95998\n",
      "[28]\tvalidation_0-aucpr:0.95714\n",
      "[29]\tvalidation_0-aucpr:0.95714\n",
      "[30]\tvalidation_0-aucpr:0.95714\n",
      "[31]\tvalidation_0-aucpr:0.95651\n",
      "[32]\tvalidation_0-aucpr:0.95790\n",
      "[33]\tvalidation_0-aucpr:0.95790\n"
     ]
    },
    {
     "data": {
      "text/html": [
       "<style>#sk-container-id-14 {color: black;background-color: white;}#sk-container-id-14 pre{padding: 0;}#sk-container-id-14 div.sk-toggleable {background-color: white;}#sk-container-id-14 label.sk-toggleable__label {cursor: pointer;display: block;width: 100%;margin-bottom: 0;padding: 0.3em;box-sizing: border-box;text-align: center;}#sk-container-id-14 label.sk-toggleable__label-arrow:before {content: \"▸\";float: left;margin-right: 0.25em;color: #696969;}#sk-container-id-14 label.sk-toggleable__label-arrow:hover:before {color: black;}#sk-container-id-14 div.sk-estimator:hover label.sk-toggleable__label-arrow:before {color: black;}#sk-container-id-14 div.sk-toggleable__content {max-height: 0;max-width: 0;overflow: hidden;text-align: left;background-color: #f0f8ff;}#sk-container-id-14 div.sk-toggleable__content pre {margin: 0.2em;color: black;border-radius: 0.25em;background-color: #f0f8ff;}#sk-container-id-14 input.sk-toggleable__control:checked~div.sk-toggleable__content {max-height: 200px;max-width: 100%;overflow: auto;}#sk-container-id-14 input.sk-toggleable__control:checked~label.sk-toggleable__label-arrow:before {content: \"▾\";}#sk-container-id-14 div.sk-estimator input.sk-toggleable__control:checked~label.sk-toggleable__label {background-color: #d4ebff;}#sk-container-id-14 div.sk-label input.sk-toggleable__control:checked~label.sk-toggleable__label {background-color: #d4ebff;}#sk-container-id-14 input.sk-hidden--visually {border: 0;clip: rect(1px 1px 1px 1px);clip: rect(1px, 1px, 1px, 1px);height: 1px;margin: -1px;overflow: hidden;padding: 0;position: absolute;width: 1px;}#sk-container-id-14 div.sk-estimator {font-family: monospace;background-color: #f0f8ff;border: 1px dotted black;border-radius: 0.25em;box-sizing: border-box;margin-bottom: 0.5em;}#sk-container-id-14 div.sk-estimator:hover {background-color: #d4ebff;}#sk-container-id-14 div.sk-parallel-item::after {content: \"\";width: 100%;border-bottom: 1px solid gray;flex-grow: 1;}#sk-container-id-14 div.sk-label:hover label.sk-toggleable__label {background-color: #d4ebff;}#sk-container-id-14 div.sk-serial::before {content: \"\";position: absolute;border-left: 1px solid gray;box-sizing: border-box;top: 0;bottom: 0;left: 50%;z-index: 0;}#sk-container-id-14 div.sk-serial {display: flex;flex-direction: column;align-items: center;background-color: white;padding-right: 0.2em;padding-left: 0.2em;position: relative;}#sk-container-id-14 div.sk-item {position: relative;z-index: 1;}#sk-container-id-14 div.sk-parallel {display: flex;align-items: stretch;justify-content: center;background-color: white;position: relative;}#sk-container-id-14 div.sk-item::before, #sk-container-id-14 div.sk-parallel-item::before {content: \"\";position: absolute;border-left: 1px solid gray;box-sizing: border-box;top: 0;bottom: 0;left: 50%;z-index: -1;}#sk-container-id-14 div.sk-parallel-item {display: flex;flex-direction: column;z-index: 1;position: relative;background-color: white;}#sk-container-id-14 div.sk-parallel-item:first-child::after {align-self: flex-end;width: 50%;}#sk-container-id-14 div.sk-parallel-item:last-child::after {align-self: flex-start;width: 50%;}#sk-container-id-14 div.sk-parallel-item:only-child::after {width: 0;}#sk-container-id-14 div.sk-dashed-wrapped {border: 1px dashed gray;margin: 0 0.4em 0.5em 0.4em;box-sizing: border-box;padding-bottom: 0.4em;background-color: white;}#sk-container-id-14 div.sk-label label {font-family: monospace;font-weight: bold;display: inline-block;line-height: 1.2em;}#sk-container-id-14 div.sk-label-container {text-align: center;}#sk-container-id-14 div.sk-container {/* jupyter's `normalize.less` sets `[hidden] { display: none; }` but bootstrap.min.css set `[hidden] { display: none !important; }` so we also need the `!important` here to be able to override the default hidden behavior on the sphinx rendered scikit-learn.org. See: https://github.com/scikit-learn/scikit-learn/issues/21755 */display: inline-block !important;position: relative;}#sk-container-id-14 div.sk-text-repr-fallback {display: none;}</style><div id=\"sk-container-id-14\" class=\"sk-top-container\"><div class=\"sk-text-repr-fallback\"><pre>XGBClassifier(base_score=None, booster=None, callbacks=None,\n",
       "              colsample_bylevel=None, colsample_bynode=None,\n",
       "              colsample_bytree=None, early_stopping_rounds=10,\n",
       "              enable_categorical=False, eval_metric=&#x27;aucpr&#x27;, feature_types=None,\n",
       "              gamma=None, gpu_id=None, grow_policy=None, importance_type=None,\n",
       "              interaction_constraints=None, learning_rate=None, max_bin=None,\n",
       "              max_cat_threshold=None, max_cat_to_onehot=None,\n",
       "              max_delta_step=None, max_depth=None, max_leaves=None,\n",
       "              min_child_weight=None, missing=nan, monotone_constraints=None,\n",
       "              n_estimators=100, n_jobs=None, num_parallel_tree=None,\n",
       "              objective=&#x27;multi:softmax&#x27;, predictor=None, ...)</pre><b>In a Jupyter environment, please rerun this cell to show the HTML representation or trust the notebook. <br />On GitHub, the HTML representation is unable to render, please try loading this page with nbviewer.org.</b></div><div class=\"sk-container\" hidden><div class=\"sk-item\"><div class=\"sk-estimator sk-toggleable\"><input class=\"sk-toggleable__control sk-hidden--visually\" id=\"sk-estimator-id-14\" type=\"checkbox\" checked><label for=\"sk-estimator-id-14\" class=\"sk-toggleable__label sk-toggleable__label-arrow\">XGBClassifier</label><div class=\"sk-toggleable__content\"><pre>XGBClassifier(base_score=None, booster=None, callbacks=None,\n",
       "              colsample_bylevel=None, colsample_bynode=None,\n",
       "              colsample_bytree=None, early_stopping_rounds=10,\n",
       "              enable_categorical=False, eval_metric=&#x27;aucpr&#x27;, feature_types=None,\n",
       "              gamma=None, gpu_id=None, grow_policy=None, importance_type=None,\n",
       "              interaction_constraints=None, learning_rate=None, max_bin=None,\n",
       "              max_cat_threshold=None, max_cat_to_onehot=None,\n",
       "              max_delta_step=None, max_depth=None, max_leaves=None,\n",
       "              min_child_weight=None, missing=nan, monotone_constraints=None,\n",
       "              n_estimators=100, n_jobs=None, num_parallel_tree=None,\n",
       "              objective=&#x27;multi:softmax&#x27;, predictor=None, ...)</pre></div></div></div></div></div>"
      ],
      "text/plain": [
       "XGBClassifier(base_score=None, booster=None, callbacks=None,\n",
       "              colsample_bylevel=None, colsample_bynode=None,\n",
       "              colsample_bytree=None, early_stopping_rounds=10,\n",
       "              enable_categorical=False, eval_metric='aucpr', feature_types=None,\n",
       "              gamma=None, gpu_id=None, grow_policy=None, importance_type=None,\n",
       "              interaction_constraints=None, learning_rate=None, max_bin=None,\n",
       "              max_cat_threshold=None, max_cat_to_onehot=None,\n",
       "              max_delta_step=None, max_depth=None, max_leaves=None,\n",
       "              min_child_weight=None, missing=nan, monotone_constraints=None,\n",
       "              n_estimators=100, n_jobs=None, num_parallel_tree=None,\n",
       "              objective='multi:softmax', predictor=None, ...)"
      ]
     },
     "execution_count": 149,
     "metadata": {},
     "output_type": "execute_result"
    }
   ],
   "source": [
    "# Model 2: uses XGBClassifier for more flexibility. Note: XGBClassifier does not need DMatrix\n",
    "from xgboost import XGBClassifier\n",
    "from sklearn.model_selection import GridSearchCV\n",
    "from sklearn.metrics import balanced_accuracy_score\n",
    "from sklearn.metrics import make_scorer\n",
    "from sklearn.metrics import roc_auc_score\n",
    "from sklearn.metrics import confusion_matrix\n",
    "#from sklearn.metrics import plot_confusion_matrix\n",
    "\n",
    "x2_train, x2_test, y2_train, y2_test = train_test_split(X1, Y1, test_size=testsize1, random_state=seed, stratify=y)\n",
    "\n",
    "print(sum(y2_train)/len(y2_train)) # values should be the same as below\n",
    "\n",
    "print(sum(y2_test)/len(y2_test))\n",
    "\n",
    "# Model using the XGBClassifier wrapper\n",
    "# You can't use scale_pos_weight when dealting with multinomial/multiclass data. Only works with binary.\n",
    "model2 = xgb.XGBClassifier(objective='multi:softmax', seed=seed, eval_metric='aucpr', early_stopping_rounds=10) # scale_pos_weight on?\n",
    "model2.fit(x2_train, y2_train, verbose=True, eval_set= [(x2_test, y2_test)])"
   ]
  },
  {
   "cell_type": "markdown",
   "id": "35a46a26",
   "metadata": {},
   "source": [
    "Fine tune parameters to find a better model (potentially)"
   ]
  },
  {
   "cell_type": "code",
   "execution_count": 142,
   "id": "e65e8335",
   "metadata": {
    "scrolled": false
   },
   "outputs": [
    {
     "name": "stdout",
     "output_type": "stream",
     "text": [
      "Fitting 3 folds for each of 81 candidates, totalling 243 fits\n"
     ]
    },
    {
     "name": "stderr",
     "output_type": "stream",
     "text": [
      "C:\\Users\\Peter R\\anaconda3\\envs\\xgboost1\\lib\\site-packages\\sklearn\\model_selection\\_search.py:952: UserWarning: One or more of the test scores are non-finite: [nan nan nan nan nan nan nan nan nan nan nan nan nan nan nan nan nan nan\n",
      " nan nan nan nan nan nan nan nan nan nan nan nan nan nan nan nan nan nan\n",
      " nan nan nan nan nan nan nan nan nan nan nan nan nan nan nan nan nan nan\n",
      " nan nan nan nan nan nan nan nan nan nan nan nan nan nan nan nan nan nan\n",
      " nan nan nan nan nan nan nan nan nan]\n",
      "  warnings.warn(\n"
     ]
    },
    {
     "data": {
      "text/html": [
       "<style>#sk-container-id-12 {color: black;background-color: white;}#sk-container-id-12 pre{padding: 0;}#sk-container-id-12 div.sk-toggleable {background-color: white;}#sk-container-id-12 label.sk-toggleable__label {cursor: pointer;display: block;width: 100%;margin-bottom: 0;padding: 0.3em;box-sizing: border-box;text-align: center;}#sk-container-id-12 label.sk-toggleable__label-arrow:before {content: \"▸\";float: left;margin-right: 0.25em;color: #696969;}#sk-container-id-12 label.sk-toggleable__label-arrow:hover:before {color: black;}#sk-container-id-12 div.sk-estimator:hover label.sk-toggleable__label-arrow:before {color: black;}#sk-container-id-12 div.sk-toggleable__content {max-height: 0;max-width: 0;overflow: hidden;text-align: left;background-color: #f0f8ff;}#sk-container-id-12 div.sk-toggleable__content pre {margin: 0.2em;color: black;border-radius: 0.25em;background-color: #f0f8ff;}#sk-container-id-12 input.sk-toggleable__control:checked~div.sk-toggleable__content {max-height: 200px;max-width: 100%;overflow: auto;}#sk-container-id-12 input.sk-toggleable__control:checked~label.sk-toggleable__label-arrow:before {content: \"▾\";}#sk-container-id-12 div.sk-estimator input.sk-toggleable__control:checked~label.sk-toggleable__label {background-color: #d4ebff;}#sk-container-id-12 div.sk-label input.sk-toggleable__control:checked~label.sk-toggleable__label {background-color: #d4ebff;}#sk-container-id-12 input.sk-hidden--visually {border: 0;clip: rect(1px 1px 1px 1px);clip: rect(1px, 1px, 1px, 1px);height: 1px;margin: -1px;overflow: hidden;padding: 0;position: absolute;width: 1px;}#sk-container-id-12 div.sk-estimator {font-family: monospace;background-color: #f0f8ff;border: 1px dotted black;border-radius: 0.25em;box-sizing: border-box;margin-bottom: 0.5em;}#sk-container-id-12 div.sk-estimator:hover {background-color: #d4ebff;}#sk-container-id-12 div.sk-parallel-item::after {content: \"\";width: 100%;border-bottom: 1px solid gray;flex-grow: 1;}#sk-container-id-12 div.sk-label:hover label.sk-toggleable__label {background-color: #d4ebff;}#sk-container-id-12 div.sk-serial::before {content: \"\";position: absolute;border-left: 1px solid gray;box-sizing: border-box;top: 0;bottom: 0;left: 50%;z-index: 0;}#sk-container-id-12 div.sk-serial {display: flex;flex-direction: column;align-items: center;background-color: white;padding-right: 0.2em;padding-left: 0.2em;position: relative;}#sk-container-id-12 div.sk-item {position: relative;z-index: 1;}#sk-container-id-12 div.sk-parallel {display: flex;align-items: stretch;justify-content: center;background-color: white;position: relative;}#sk-container-id-12 div.sk-item::before, #sk-container-id-12 div.sk-parallel-item::before {content: \"\";position: absolute;border-left: 1px solid gray;box-sizing: border-box;top: 0;bottom: 0;left: 50%;z-index: -1;}#sk-container-id-12 div.sk-parallel-item {display: flex;flex-direction: column;z-index: 1;position: relative;background-color: white;}#sk-container-id-12 div.sk-parallel-item:first-child::after {align-self: flex-end;width: 50%;}#sk-container-id-12 div.sk-parallel-item:last-child::after {align-self: flex-start;width: 50%;}#sk-container-id-12 div.sk-parallel-item:only-child::after {width: 0;}#sk-container-id-12 div.sk-dashed-wrapped {border: 1px dashed gray;margin: 0 0.4em 0.5em 0.4em;box-sizing: border-box;padding-bottom: 0.4em;background-color: white;}#sk-container-id-12 div.sk-label label {font-family: monospace;font-weight: bold;display: inline-block;line-height: 1.2em;}#sk-container-id-12 div.sk-label-container {text-align: center;}#sk-container-id-12 div.sk-container {/* jupyter's `normalize.less` sets `[hidden] { display: none; }` but bootstrap.min.css set `[hidden] { display: none !important; }` so we also need the `!important` here to be able to override the default hidden behavior on the sphinx rendered scikit-learn.org. See: https://github.com/scikit-learn/scikit-learn/issues/21755 */display: inline-block !important;position: relative;}#sk-container-id-12 div.sk-text-repr-fallback {display: none;}</style><div id=\"sk-container-id-12\" class=\"sk-top-container\"><div class=\"sk-text-repr-fallback\"><pre>XGBClassifier(base_score=None, booster=None, callbacks=None,\n",
       "              colsample_bylevel=None, colsample_bynode=None,\n",
       "              colsample_bytree=0.5, early_stopping_rounds=None,\n",
       "              enable_categorical=False, eval_metric=&#x27;aucpr&#x27;, feature_types=None,\n",
       "              gamma=0, gpu_id=None, grow_policy=None, importance_type=None,\n",
       "              interaction_constraints=None, learning_rate=0.1, max_bin=None,\n",
       "              max_cat_threshold=None, max_cat_to_onehot=None,\n",
       "              max_delta_step=None, max_depth=3, max_leaves=None,\n",
       "              min_child_weight=None, missing=nan, monotone_constraints=None,\n",
       "              n_estimators=100, n_jobs=None, num_parallel_tree=None,\n",
       "              objective=&#x27;multi:softmax&#x27;, predictor=None, ...)</pre><b>In a Jupyter environment, please rerun this cell to show the HTML representation or trust the notebook. <br />On GitHub, the HTML representation is unable to render, please try loading this page with nbviewer.org.</b></div><div class=\"sk-container\" hidden><div class=\"sk-item\"><div class=\"sk-estimator sk-toggleable\"><input class=\"sk-toggleable__control sk-hidden--visually\" id=\"sk-estimator-id-12\" type=\"checkbox\" checked><label for=\"sk-estimator-id-12\" class=\"sk-toggleable__label sk-toggleable__label-arrow\">XGBClassifier</label><div class=\"sk-toggleable__content\"><pre>XGBClassifier(base_score=None, booster=None, callbacks=None,\n",
       "              colsample_bylevel=None, colsample_bynode=None,\n",
       "              colsample_bytree=0.5, early_stopping_rounds=None,\n",
       "              enable_categorical=False, eval_metric=&#x27;aucpr&#x27;, feature_types=None,\n",
       "              gamma=0, gpu_id=None, grow_policy=None, importance_type=None,\n",
       "              interaction_constraints=None, learning_rate=0.1, max_bin=None,\n",
       "              max_cat_threshold=None, max_cat_to_onehot=None,\n",
       "              max_delta_step=None, max_depth=3, max_leaves=None,\n",
       "              min_child_weight=None, missing=nan, monotone_constraints=None,\n",
       "              n_estimators=100, n_jobs=None, num_parallel_tree=None,\n",
       "              objective=&#x27;multi:softmax&#x27;, predictor=None, ...)</pre></div></div></div></div></div>"
      ],
      "text/plain": [
       "XGBClassifier(base_score=None, booster=None, callbacks=None,\n",
       "              colsample_bylevel=None, colsample_bynode=None,\n",
       "              colsample_bytree=0.5, early_stopping_rounds=None,\n",
       "              enable_categorical=False, eval_metric='aucpr', feature_types=None,\n",
       "              gamma=0, gpu_id=None, grow_policy=None, importance_type=None,\n",
       "              interaction_constraints=None, learning_rate=0.1, max_bin=None,\n",
       "              max_cat_threshold=None, max_cat_to_onehot=None,\n",
       "              max_delta_step=None, max_depth=3, max_leaves=None,\n",
       "              min_child_weight=None, missing=nan, monotone_constraints=None,\n",
       "              n_estimators=100, n_jobs=None, num_parallel_tree=None,\n",
       "              objective='multi:softmax', predictor=None, ...)"
      ]
     },
     "execution_count": 142,
     "metadata": {},
     "output_type": "execute_result"
    }
   ],
   "source": [
    "# Fine tune parameters using GridSearchCV. This won't work becasue of the limitation of the data\n",
    "\n",
    "# Model 3: GridSearch Model\n",
    "param_grid1 = {\n",
    "'max_depth' : [3,4,5],\n",
    "'learning_rate': [0.1, 0.01, 0.05],\n",
    "'gamma': [0, 0.25, 1.0],\n",
    "'reg_lambda': [0, 1.0, 10.0],\n",
    "}\n",
    "\n",
    "\n",
    "# grid_search is my new model\n",
    "# subsample is for running the model faster\n",
    "model3 = GridSearchCV(\n",
    "    estimator=xgb.XGBClassifier(objective='multi:softmax', seed=seed, eval_metric='aucpr', subsample=0.9,  colsample_bytree=0.5) ,\n",
    "    param_grid=param_grid1,\n",
    "    scoring = 'roc_auc',\n",
    "    n_jobs = 10,\n",
    "    cv = 3, #Can't be bigger than the number of records per group\n",
    "    verbose=True\n",
    ")\n",
    "\n",
    "model3.fit(x2_train, y2_train)\n",
    "\n",
    "#model3.best_estimator_"
   ]
  },
  {
   "cell_type": "markdown",
   "id": "a2f4754c",
   "metadata": {},
   "source": [
    "Now let's test predictions"
   ]
  },
  {
   "cell_type": "code",
   "execution_count": 182,
   "id": "a10bbe9d",
   "metadata": {},
   "outputs": [
    {
     "name": "stdout",
     "output_type": "stream",
     "text": [
      "[1. 1. 1. 0. 1. 1. 1. 1. 1. 1. 1. 1. 1. 1. 1. 1. 1. 1. 1. 1. 1. 0. 0. 1.\n",
      " 1. 1. 1. 0. 0. 1. 0. 1. 1. 1. 1.]\n"
     ]
    }
   ],
   "source": [
    "predictions = model.predict(test)\n",
    "print(predictions)"
   ]
  },
  {
   "cell_type": "code",
   "execution_count": 167,
   "id": "0907046b",
   "metadata": {},
   "outputs": [
    {
     "name": "stdout",
     "output_type": "stream",
     "text": [
      "[1. 1. 1. 0. 1. 1. 1. 1. 1. 1. 1. 1. 1. 1. 1. 1. 1. 1. 1. 1. 1. 0. 0. 1.\n",
      " 1. 1. 1. 0. 0. 1. 0. 1. 1. 1. 1.]\n"
     ]
    }
   ],
   "source": [
    "predictions1_2 = model1_2.predict(test)\n",
    "print(predictions1_2)"
   ]
  },
  {
   "cell_type": "code",
   "execution_count": 174,
   "id": "49d45145",
   "metadata": {},
   "outputs": [
    {
     "name": "stdout",
     "output_type": "stream",
     "text": [
      "[1 1 1 1 1 1 1 2 1 0 1 1 0 1 1 1 0 1 0 1 1 1 1 0 0 1 1 1 1 1 2 1 2 1 1]\n"
     ]
    }
   ],
   "source": [
    "# can't use matrices with DMatrix\n",
    "predictions2 = model2.predict(x2_test)\n",
    "print(predictions2)"
   ]
  },
  {
   "cell_type": "code",
   "execution_count": 178,
   "id": "b13f45b2",
   "metadata": {},
   "outputs": [],
   "source": [
    "# Prediction using new data (not initial train or test data)\n",
    "predictionsNew = model.predict(testNewData)"
   ]
  },
  {
   "cell_type": "code",
   "execution_count": 179,
   "id": "2295d5b3",
   "metadata": {},
   "outputs": [
    {
     "name": "stdout",
     "output_type": "stream",
     "text": [
      "[1. 1. 0. 2. 1. 2. 1. 1. 1. 0. 1. 2. 1. 1. 1. 1. 1. 1. 1. 1. 1. 1. 1. 1.\n",
      " 1. 1. 1. 1. 1. 1. 1. 1. 1. 1. 1. 1. 1. 2. 1. 1. 1. 1. 1. 1. 1. 1. 1. 1.\n",
      " 1. 2. 1. 1. 0. 1. 1. 1. 1. 2. 1. 1. 1. 1. 1. 1. 1. 1. 0. 1. 1. 1. 1. 1.\n",
      " 2. 2. 1. 1. 1. 1. 1. 1. 1. 1. 1. 1. 1. 1. 1. 1. 2. 0. 1. 1. 1. 1. 1. 1.\n",
      " 1. 1. 0. 1. 1. 1. 1. 1.]\n"
     ]
    }
   ],
   "source": [
    "print(predictionsNew)"
   ]
  },
  {
   "cell_type": "markdown",
   "id": "9b553749",
   "metadata": {},
   "source": [
    "Let's measure the accuracy"
   ]
  },
  {
   "cell_type": "code",
   "execution_count": 181,
   "id": "4664a192",
   "metadata": {},
   "outputs": [
    {
     "name": "stdout",
     "output_type": "stream",
     "text": [
      "model1 0.9142857142857143\n",
      "0.9142857142857143\n",
      "0.9142857142857143\n"
     ]
    }
   ],
   "source": [
    "from sklearn.metrics import accuracy_score #0.9142857142857143\n",
    "\n",
    "print('model1:', accuracy_score(y_test, predictions))\n",
    "print(accuracy_score(y_test, predictions1_2))\n",
    "print(accuracy_score(y2_test, predictions2)) # All the same? SO stratify does not help?"
   ]
  },
  {
   "cell_type": "code",
   "execution_count": 180,
   "id": "458e801e",
   "metadata": {},
   "outputs": [
    {
     "data": {
      "text/plain": [
       "0.9142857142857143"
      ]
     },
     "execution_count": 180,
     "metadata": {},
     "output_type": "execute_result"
    }
   ],
   "source": [
    "from sklearn.metrics import accuracy_score\n",
    "\n",
    "accuracy_score(y2_test, predictions2)"
   ]
  },
  {
   "cell_type": "code",
   "execution_count": 153,
   "id": "7d5a640f",
   "metadata": {},
   "outputs": [
    {
     "name": "stdout",
     "output_type": "stream",
     "text": [
      "Accuracy: 80.16% (23.28%)\n"
     ]
    }
   ],
   "source": [
    "# Cross-Validation model - Does not work yet\n",
    "from sklearn.model_selection import KFold\n",
    "from sklearn.model_selection import cross_val_score\n",
    "\n",
    "model4 = xgb.XGBClassifier() #Why do I have to give it a new empty model\n",
    "\n",
    "kfold = KFold(n_splits=10) #(... , random_state=seed, shuffle=True)\n",
    "results = cross_val_score(model4, X1, Y1, cv=kfold)\n",
    "print(\"Accuracy: %.2f%% (%.2f%%)\" % (results.mean()*100, results.std()*100))"
   ]
  },
  {
   "cell_type": "code",
   "execution_count": 151,
   "id": "41b88c7d",
   "metadata": {},
   "outputs": [
    {
     "name": "stdout",
     "output_type": "stream",
     "text": [
      "Accuracy: 80.16% (23.28%)\n"
     ]
    }
   ],
   "source": [
    "# Cross-Validation model - Does not work yet\n",
    "from sklearn.model_selection import KFold\n",
    "from sklearn.model_selection import cross_val_score\n",
    "\n",
    "model4 = xgb.XGBClassifier() # new deafult model\n",
    "\n",
    "kfold = KFold(n_splits=10) #(... , random_state=seed, shuffle=True)\n",
    "results = cross_val_score(model4, X1, Y1, cv=kfold)\n",
    "print(\"Accuracy: %.2f%% (%.2f%%)\" % (results.mean()*100, results.std()*100))"
   ]
  },
  {
   "cell_type": "code",
   "execution_count": 69,
   "id": "9ff23da4",
   "metadata": {},
   "outputs": [
    {
     "name": "stdout",
     "output_type": "stream",
     "text": [
      "{'f0': 0.7902762293815613, 'f1': 0.8968190550804138, 'f2': 0.7901024222373962, 'f3': 2.1240828037261963, 'f5': 1.7510524988174438, 'f6': 2.3464765548706055, 'f7': 1.7616039514541626}\n"
     ]
    },
    {
     "data": {
      "image/png": "[encoded data removed]",
      "text/plain": [
       "<Figure size 640x480 with 1 Axes>"
      ]
     },
     "metadata": {},
     "output_type": "display_data"
    }
   ],
   "source": [
    "# feature importance\n",
    "print(model.get_score(importance_type='gain'))\n",
    "\n",
    "# plot\n",
    "xgb.plot_importance(model, max_num_features=10)\n",
    "plt.show()"
   ]
  },
  {
   "cell_type": "code",
   "execution_count": 156,
   "id": "4aedac05",
   "metadata": {},
   "outputs": [
    {
     "name": "stdout",
     "output_type": "stream",
     "text": [
      "{'f0': 1.1051844358444214, 'f1': 0.43424034118652344, 'f2': 0.9394307732582092, 'f3': 2.7889046669006348, 'f5': 5.488593101501465, 'f6': 2.5869030952453613, 'f7': 2.2757599353790283}\n"
     ]
    },
    {
     "data": {
      "image/png": "[encoded data removed]",
      "text/plain": [
       "<Figure size 640x480 with 1 Axes>"
      ]
     },
     "metadata": {},
     "output_type": "display_data"
    }
   ],
   "source": [
    "# feature importance\n",
    "print(model1_2.get_score(importance_type='gain'))\n",
    "\n",
    "# plot\n",
    "xgb.plot_importance(model1_2, max_num_features=10)\n",
    "plt.show()"
   ]
  },
  {
   "cell_type": "code",
   "execution_count": 164,
   "id": "3a5608bf",
   "metadata": {},
   "outputs": [
    {
     "data": {
      "image/png": "[encoded data removed]",
      "text/plain": [
       "<Figure size 640x480 with 1 Axes>"
      ]
     },
     "metadata": {},
     "output_type": "display_data"
    }
   ],
   "source": [
    "# feature importance. Error: 'XGBClassifier' object has no attribute 'get_score'\n",
    "\n",
    "#print(model2.get_fscore(importance_type='gain'))\n",
    "\n",
    "xgb.plot_importance(model2, max_num_features=10)\n",
    "plt.show()\n",
    "\n",
    "# plot\n",
    "#xgb.plot_importance(model2, max_num_features=10)\n",
    "#plt.show()"
   ]
  },
  {
   "cell_type": "code",
   "execution_count": 106,
   "id": "1dccfb58",
   "metadata": {},
   "outputs": [
    {
     "data": {
      "image/svg+xml": [
       "<?xml version=\"1.0\" encoding=\"UTF-8\" standalone=\"no\"?>\n",
       "<!DOCTYPE svg PUBLIC \"-//W3C//DTD SVG 1.1//EN\"\n",
       " \"http://www.w3.org/Graphics/SVG/1.1/DTD/svg11.dtd\">\n",
       "<!-- Generated by graphviz version 2.50.0 (0)\n",
       " -->\n",
       "<!-- Pages: 1 -->\n",
       "<svg width=\"1178pt\" height=\"392pt\"\n",
       " viewBox=\"0.00 0.00 1178.34 392.00\" xmlns=\"http://www.w3.org/2000/svg\" xmlns:xlink=\"http://www.w3.org/1999/xlink\">\n",
       "<g id=\"graph0\" class=\"graph\" transform=\"scale(1 1) rotate(0) translate(4 388)\">\n",
       "<polygon fill=\"white\" stroke=\"transparent\" points=\"-4,4 -4,-388 1174.34,-388 1174.34,4 -4,4\"/>\n",
       "<!-- 0 -->\n",
       "<g id=\"node1\" class=\"node\">\n",
       "<title>0</title>\n",
       "<ellipse fill=\"none\" stroke=\"black\" cx=\"691.64\" cy=\"-366\" rx=\"43.59\" ry=\"18\"/>\n",
       "<text text-anchor=\"middle\" x=\"691.64\" y=\"-362.3\" font-family=\"Times New Roman,serif\" font-size=\"14.00\">f6&lt;886.5</text>\n",
       "</g>\n",
       "<!-- 1 -->\n",
       "<g id=\"node2\" class=\"node\">\n",
       "<title>1</title>\n",
       "<ellipse fill=\"none\" stroke=\"black\" cx=\"504.64\" cy=\"-279\" rx=\"65.79\" ry=\"18\"/>\n",
       "<text text-anchor=\"middle\" x=\"504.64\" y=\"-275.3\" font-family=\"Times New Roman,serif\" font-size=\"14.00\">f7&lt;4.42000008</text>\n",
       "</g>\n",
       "<!-- 0&#45;&gt;1 -->\n",
       "<g id=\"edge1\" class=\"edge\">\n",
       "<title>0&#45;&gt;1</title>\n",
       "<path fill=\"none\" stroke=\"#0000ff\" d=\"M663.24,-352.09C632.1,-337.94 581.84,-315.09 546.25,-298.91\"/>\n",
       "<polygon fill=\"#0000ff\" stroke=\"#0000ff\" points=\"547.64,-295.7 537.09,-294.75 544.74,-302.07 547.64,-295.7\"/>\n",
       "<text text-anchor=\"middle\" x=\"644.14\" y=\"-318.8\" font-family=\"Times New Roman,serif\" font-size=\"14.00\">yes, missing</text>\n",
       "</g>\n",
       "<!-- 2 -->\n",
       "<g id=\"node3\" class=\"node\">\n",
       "<title>2</title>\n",
       "<ellipse fill=\"none\" stroke=\"black\" cx=\"843.64\" cy=\"-279\" rx=\"65.79\" ry=\"18\"/>\n",
       "<text text-anchor=\"middle\" x=\"843.64\" y=\"-275.3\" font-family=\"Times New Roman,serif\" font-size=\"14.00\">f3&lt;77.5500031</text>\n",
       "</g>\n",
       "<!-- 0&#45;&gt;2 -->\n",
       "<g id=\"edge2\" class=\"edge\">\n",
       "<title>0&#45;&gt;2</title>\n",
       "<path fill=\"none\" stroke=\"#ff0000\" d=\"M716.4,-351.15C741.07,-337.36 779.23,-316.02 807.32,-300.31\"/>\n",
       "<polygon fill=\"#ff0000\" stroke=\"#ff0000\" points=\"809.04,-303.36 816.06,-295.42 805.63,-297.25 809.04,-303.36\"/>\n",
       "<text text-anchor=\"middle\" x=\"784.64\" y=\"-318.8\" font-family=\"Times New Roman,serif\" font-size=\"14.00\">no</text>\n",
       "</g>\n",
       "<!-- 3 -->\n",
       "<g id=\"node4\" class=\"node\">\n",
       "<title>3</title>\n",
       "<ellipse fill=\"none\" stroke=\"black\" cx=\"297.64\" cy=\"-192\" rx=\"36.29\" ry=\"18\"/>\n",
       "<text text-anchor=\"middle\" x=\"297.64\" y=\"-188.3\" font-family=\"Times New Roman,serif\" font-size=\"14.00\">f6&lt;865</text>\n",
       "</g>\n",
       "<!-- 1&#45;&gt;3 -->\n",
       "<g id=\"edge3\" class=\"edge\">\n",
       "<title>1&#45;&gt;3</title>\n",
       "<path fill=\"none\" stroke=\"#0000ff\" d=\"M469.53,-263.58C431.94,-248.15 372.57,-223.77 334.37,-208.08\"/>\n",
       "<polygon fill=\"#0000ff\" stroke=\"#0000ff\" points=\"335.25,-204.66 324.67,-204.1 332.59,-211.13 335.25,-204.66\"/>\n",
       "<text text-anchor=\"middle\" x=\"448.14\" y=\"-231.8\" font-family=\"Times New Roman,serif\" font-size=\"14.00\">yes, missing</text>\n",
       "</g>\n",
       "<!-- 4 -->\n",
       "<g id=\"node5\" class=\"node\">\n",
       "<title>4</title>\n",
       "<ellipse fill=\"none\" stroke=\"black\" cx=\"504.64\" cy=\"-192\" rx=\"39.79\" ry=\"18\"/>\n",
       "<text text-anchor=\"middle\" x=\"504.64\" y=\"-188.3\" font-family=\"Times New Roman,serif\" font-size=\"14.00\">f0&lt;&#45;439</text>\n",
       "</g>\n",
       "<!-- 1&#45;&gt;4 -->\n",
       "<g id=\"edge4\" class=\"edge\">\n",
       "<title>1&#45;&gt;4</title>\n",
       "<path fill=\"none\" stroke=\"#ff0000\" d=\"M504.64,-260.8C504.64,-249.16 504.64,-233.55 504.64,-220.24\"/>\n",
       "<polygon fill=\"#ff0000\" stroke=\"#ff0000\" points=\"508.14,-220.18 504.64,-210.18 501.14,-220.18 508.14,-220.18\"/>\n",
       "<text text-anchor=\"middle\" x=\"511.64\" y=\"-231.8\" font-family=\"Times New Roman,serif\" font-size=\"14.00\">no</text>\n",
       "</g>\n",
       "<!-- 5 -->\n",
       "<g id=\"node12\" class=\"node\">\n",
       "<title>5</title>\n",
       "<ellipse fill=\"none\" stroke=\"black\" cx=\"843.64\" cy=\"-192\" rx=\"44.39\" ry=\"18\"/>\n",
       "<text text-anchor=\"middle\" x=\"843.64\" y=\"-188.3\" font-family=\"Times New Roman,serif\" font-size=\"14.00\">f0&lt;&#45;1652</text>\n",
       "</g>\n",
       "<!-- 2&#45;&gt;5 -->\n",
       "<g id=\"edge11\" class=\"edge\">\n",
       "<title>2&#45;&gt;5</title>\n",
       "<path fill=\"none\" stroke=\"#0000ff\" d=\"M843.64,-260.8C843.64,-249.16 843.64,-233.55 843.64,-220.24\"/>\n",
       "<polygon fill=\"#0000ff\" stroke=\"#0000ff\" points=\"847.14,-220.18 843.64,-210.18 840.14,-220.18 847.14,-220.18\"/>\n",
       "<text text-anchor=\"middle\" x=\"878.14\" y=\"-231.8\" font-family=\"Times New Roman,serif\" font-size=\"14.00\">yes, missing</text>\n",
       "</g>\n",
       "<!-- 6 -->\n",
       "<g id=\"node13\" class=\"node\">\n",
       "<title>6</title>\n",
       "<ellipse fill=\"none\" stroke=\"black\" cx=\"977.64\" cy=\"-192\" rx=\"71.49\" ry=\"18\"/>\n",
       "<text text-anchor=\"middle\" x=\"977.64\" y=\"-188.3\" font-family=\"Times New Roman,serif\" font-size=\"14.00\">leaf=0.24545455</text>\n",
       "</g>\n",
       "<!-- 2&#45;&gt;6 -->\n",
       "<g id=\"edge12\" class=\"edge\">\n",
       "<title>2&#45;&gt;6</title>\n",
       "<path fill=\"none\" stroke=\"#ff0000\" d=\"M877.98,-263.6C890.5,-257.82 904.55,-250.7 916.64,-243 928.98,-235.15 941.64,-225.15 952.2,-216.16\"/>\n",
       "<polygon fill=\"#ff0000\" stroke=\"#ff0000\" points=\"954.58,-218.73 959.83,-209.53 949.99,-213.44 954.58,-218.73\"/>\n",
       "<text text-anchor=\"middle\" x=\"943.64\" y=\"-231.8\" font-family=\"Times New Roman,serif\" font-size=\"14.00\">no</text>\n",
       "</g>\n",
       "<!-- 7 -->\n",
       "<g id=\"node6\" class=\"node\">\n",
       "<title>7</title>\n",
       "<ellipse fill=\"none\" stroke=\"black\" cx=\"164.64\" cy=\"-105\" rx=\"39.79\" ry=\"18\"/>\n",
       "<text text-anchor=\"middle\" x=\"164.64\" y=\"-101.3\" font-family=\"Times New Roman,serif\" font-size=\"14.00\">f0&lt;&#45;778</text>\n",
       "</g>\n",
       "<!-- 3&#45;&gt;7 -->\n",
       "<g id=\"edge5\" class=\"edge\">\n",
       "<title>3&#45;&gt;7</title>\n",
       "<path fill=\"none\" stroke=\"#0000ff\" d=\"M270.44,-179.89C256.33,-173.65 239.07,-165.27 224.64,-156 212.1,-147.94 199.26,-137.58 188.69,-128.38\"/>\n",
       "<polygon fill=\"#0000ff\" stroke=\"#0000ff\" points=\"190.9,-125.66 181.1,-121.63 186.25,-130.89 190.9,-125.66\"/>\n",
       "<text text-anchor=\"middle\" x=\"259.14\" y=\"-144.8\" font-family=\"Times New Roman,serif\" font-size=\"14.00\">yes, missing</text>\n",
       "</g>\n",
       "<!-- 8 -->\n",
       "<g id=\"node7\" class=\"node\">\n",
       "<title>8</title>\n",
       "<ellipse fill=\"none\" stroke=\"black\" cx=\"297.64\" cy=\"-105\" rx=\"75.29\" ry=\"18\"/>\n",
       "<text text-anchor=\"middle\" x=\"297.64\" y=\"-101.3\" font-family=\"Times New Roman,serif\" font-size=\"14.00\">leaf=0.352577329</text>\n",
       "</g>\n",
       "<!-- 3&#45;&gt;8 -->\n",
       "<g id=\"edge6\" class=\"edge\">\n",
       "<title>3&#45;&gt;8</title>\n",
       "<path fill=\"none\" stroke=\"#ff0000\" d=\"M297.64,-173.8C297.64,-162.16 297.64,-146.55 297.64,-133.24\"/>\n",
       "<polygon fill=\"#ff0000\" stroke=\"#ff0000\" points=\"301.14,-133.18 297.64,-123.18 294.14,-133.18 301.14,-133.18\"/>\n",
       "<text text-anchor=\"middle\" x=\"304.64\" y=\"-144.8\" font-family=\"Times New Roman,serif\" font-size=\"14.00\">no</text>\n",
       "</g>\n",
       "<!-- 9 -->\n",
       "<g id=\"node10\" class=\"node\">\n",
       "<title>9</title>\n",
       "<ellipse fill=\"none\" stroke=\"black\" cx=\"469.64\" cy=\"-105\" rx=\"78.79\" ry=\"18\"/>\n",
       "<text text-anchor=\"middle\" x=\"469.64\" y=\"-101.3\" font-family=\"Times New Roman,serif\" font-size=\"14.00\">leaf=&#45;0.189473704</text>\n",
       "</g>\n",
       "<!-- 4&#45;&gt;9 -->\n",
       "<g id=\"edge9\" class=\"edge\">\n",
       "<title>4&#45;&gt;9</title>\n",
       "<path fill=\"none\" stroke=\"#0000ff\" d=\"M497.73,-174.21C492.82,-162.29 486.14,-146.06 480.52,-132.42\"/>\n",
       "<polygon fill=\"#0000ff\" stroke=\"#0000ff\" points=\"483.71,-130.96 476.66,-123.05 477.23,-133.63 483.71,-130.96\"/>\n",
       "<text text-anchor=\"middle\" x=\"524.14\" y=\"-144.8\" font-family=\"Times New Roman,serif\" font-size=\"14.00\">yes, missing</text>\n",
       "</g>\n",
       "<!-- 10 -->\n",
       "<g id=\"node11\" class=\"node\">\n",
       "<title>10</title>\n",
       "<ellipse fill=\"none\" stroke=\"black\" cx=\"655.64\" cy=\"-105\" rx=\"89.88\" ry=\"18\"/>\n",
       "<text text-anchor=\"middle\" x=\"655.64\" y=\"-101.3\" font-family=\"Times New Roman,serif\" font-size=\"14.00\">leaf=&#45;7.66345476e&#45;09</text>\n",
       "</g>\n",
       "<!-- 4&#45;&gt;10 -->\n",
       "<g id=\"edge10\" class=\"edge\">\n",
       "<title>4&#45;&gt;10</title>\n",
       "<path fill=\"none\" stroke=\"#ff0000\" d=\"M528.57,-177.53C552.66,-163.97 590.16,-142.86 618.19,-127.08\"/>\n",
       "<polygon fill=\"#ff0000\" stroke=\"#ff0000\" points=\"619.93,-130.12 626.93,-122.16 616.5,-124.02 619.93,-130.12\"/>\n",
       "<text text-anchor=\"middle\" x=\"596.64\" y=\"-144.8\" font-family=\"Times New Roman,serif\" font-size=\"14.00\">no</text>\n",
       "</g>\n",
       "<!-- 13 -->\n",
       "<g id=\"node8\" class=\"node\">\n",
       "<title>13</title>\n",
       "<ellipse fill=\"none\" stroke=\"black\" cx=\"78.64\" cy=\"-18\" rx=\"78.79\" ry=\"18\"/>\n",
       "<text text-anchor=\"middle\" x=\"78.64\" y=\"-14.3\" font-family=\"Times New Roman,serif\" font-size=\"14.00\">leaf=&#45;0.155172437</text>\n",
       "</g>\n",
       "<!-- 7&#45;&gt;13 -->\n",
       "<g id=\"edge7\" class=\"edge\">\n",
       "<title>7&#45;&gt;13</title>\n",
       "<path fill=\"none\" stroke=\"#0000ff\" d=\"M148.87,-88.41C135.99,-75.68 117.56,-57.47 102.82,-42.89\"/>\n",
       "<polygon fill=\"#0000ff\" stroke=\"#0000ff\" points=\"105.07,-40.19 95.49,-35.65 100.14,-45.17 105.07,-40.19\"/>\n",
       "<text text-anchor=\"middle\" x=\"162.14\" y=\"-57.8\" font-family=\"Times New Roman,serif\" font-size=\"14.00\">yes, missing</text>\n",
       "</g>\n",
       "<!-- 14 -->\n",
       "<g id=\"node9\" class=\"node\">\n",
       "<title>14</title>\n",
       "<ellipse fill=\"none\" stroke=\"black\" cx=\"250.64\" cy=\"-18\" rx=\"75.29\" ry=\"18\"/>\n",
       "<text text-anchor=\"middle\" x=\"250.64\" y=\"-14.3\" font-family=\"Times New Roman,serif\" font-size=\"14.00\">leaf=0.128571421</text>\n",
       "</g>\n",
       "<!-- 7&#45;&gt;14 -->\n",
       "<g id=\"edge8\" class=\"edge\">\n",
       "<title>7&#45;&gt;14</title>\n",
       "<path fill=\"none\" stroke=\"#ff0000\" d=\"M180.82,-88.37C187.04,-82.33 194.19,-75.37 200.64,-69 209.21,-60.55 218.54,-51.25 226.8,-42.98\"/>\n",
       "<polygon fill=\"#ff0000\" stroke=\"#ff0000\" points=\"229.45,-45.28 234.03,-35.73 224.5,-40.33 229.45,-45.28\"/>\n",
       "<text text-anchor=\"middle\" x=\"221.64\" y=\"-57.8\" font-family=\"Times New Roman,serif\" font-size=\"14.00\">no</text>\n",
       "</g>\n",
       "<!-- 11 -->\n",
       "<g id=\"node14\" class=\"node\">\n",
       "<title>11</title>\n",
       "<ellipse fill=\"none\" stroke=\"black\" cx=\"843.64\" cy=\"-105\" rx=\"79.89\" ry=\"18\"/>\n",
       "<text text-anchor=\"middle\" x=\"843.64\" y=\"-101.3\" font-family=\"Times New Roman,serif\" font-size=\"14.00\">leaf=0.0310344752</text>\n",
       "</g>\n",
       "<!-- 5&#45;&gt;11 -->\n",
       "<g id=\"edge13\" class=\"edge\">\n",
       "<title>5&#45;&gt;11</title>\n",
       "<path fill=\"none\" stroke=\"#0000ff\" d=\"M843.64,-173.8C843.64,-162.16 843.64,-146.55 843.64,-133.24\"/>\n",
       "<polygon fill=\"#0000ff\" stroke=\"#0000ff\" points=\"847.14,-133.18 843.64,-123.18 840.14,-133.18 847.14,-133.18\"/>\n",
       "<text text-anchor=\"middle\" x=\"878.14\" y=\"-144.8\" font-family=\"Times New Roman,serif\" font-size=\"14.00\">yes, missing</text>\n",
       "</g>\n",
       "<!-- 12 -->\n",
       "<g id=\"node15\" class=\"node\">\n",
       "<title>12</title>\n",
       "<ellipse fill=\"none\" stroke=\"black\" cx=\"987.64\" cy=\"-105\" rx=\"46.29\" ry=\"18\"/>\n",
       "<text text-anchor=\"middle\" x=\"987.64\" y=\"-101.3\" font-family=\"Times New Roman,serif\" font-size=\"14.00\">f0&lt;&#45;441.5</text>\n",
       "</g>\n",
       "<!-- 5&#45;&gt;12 -->\n",
       "<g id=\"edge14\" class=\"edge\">\n",
       "<title>5&#45;&gt;12</title>\n",
       "<path fill=\"none\" stroke=\"#ff0000\" d=\"M873,-178.28C886.55,-172.07 902.7,-164.18 916.64,-156 931.23,-147.45 946.65,-136.8 959.39,-127.53\"/>\n",
       "<polygon fill=\"#ff0000\" stroke=\"#ff0000\" points=\"961.77,-130.12 967.73,-121.37 957.61,-124.49 961.77,-130.12\"/>\n",
       "<text text-anchor=\"middle\" x=\"946.64\" y=\"-144.8\" font-family=\"Times New Roman,serif\" font-size=\"14.00\">no</text>\n",
       "</g>\n",
       "<!-- 15 -->\n",
       "<g id=\"node16\" class=\"node\">\n",
       "<title>15</title>\n",
       "<ellipse fill=\"none\" stroke=\"black\" cx=\"894.64\" cy=\"-18\" rx=\"78.79\" ry=\"18\"/>\n",
       "<text text-anchor=\"middle\" x=\"894.64\" y=\"-14.3\" font-family=\"Times New Roman,serif\" font-size=\"14.00\">leaf=&#45;0.202431634</text>\n",
       "</g>\n",
       "<!-- 12&#45;&gt;15 -->\n",
       "<g id=\"edge15\" class=\"edge\">\n",
       "<title>12&#45;&gt;15</title>\n",
       "<path fill=\"none\" stroke=\"#0000ff\" d=\"M970.15,-88.01C956.13,-75.2 936.26,-57.04 920.42,-42.56\"/>\n",
       "<polygon fill=\"#0000ff\" stroke=\"#0000ff\" points=\"922.75,-39.95 913.01,-35.79 918.03,-45.12 922.75,-39.95\"/>\n",
       "<text text-anchor=\"middle\" x=\"982.14\" y=\"-57.8\" font-family=\"Times New Roman,serif\" font-size=\"14.00\">yes, missing</text>\n",
       "</g>\n",
       "<!-- 16 -->\n",
       "<g id=\"node17\" class=\"node\">\n",
       "<title>16</title>\n",
       "<ellipse fill=\"none\" stroke=\"black\" cx=\"1080.64\" cy=\"-18\" rx=\"89.88\" ry=\"18\"/>\n",
       "<text text-anchor=\"middle\" x=\"1080.64\" y=\"-14.3\" font-family=\"Times New Roman,serif\" font-size=\"14.00\">leaf=&#45;7.66345476e&#45;09</text>\n",
       "</g>\n",
       "<!-- 12&#45;&gt;16 -->\n",
       "<g id=\"edge16\" class=\"edge\">\n",
       "<title>12&#45;&gt;16</title>\n",
       "<path fill=\"none\" stroke=\"#ff0000\" d=\"M1005.14,-88.01C1019.15,-75.2 1039.03,-57.04 1054.87,-42.56\"/>\n",
       "<polygon fill=\"#ff0000\" stroke=\"#ff0000\" points=\"1057.25,-45.12 1062.27,-35.79 1052.53,-39.95 1057.25,-45.12\"/>\n",
       "<text text-anchor=\"middle\" x=\"1046.64\" y=\"-57.8\" font-family=\"Times New Roman,serif\" font-size=\"14.00\">no</text>\n",
       "</g>\n",
       "</g>\n",
       "</svg>\n"
      ],
      "text/plain": [
       "<graphviz.sources.Source at 0x1eae05a5870>"
      ]
     },
     "execution_count": 106,
     "metadata": {},
     "output_type": "execute_result"
    }
   ],
   "source": [
    "# Plot tree. (Note: I havd to install graphviz from the conda cmd line)\n",
    "import graphviz\n",
    "\n",
    "#fig, ax = plt.subplots(figsize=(8, 6)) #plt.figure(2, figsize=(8, 6))\n",
    "#xgb.plot_tree(model, num_trees=4)\n",
    "\n",
    "xgb.to_graphviz(model, size=6)\n"
   ]
  },
  {
   "cell_type": "markdown",
   "id": "0c055ee4",
   "metadata": {},
   "source": [
    "This example worked. See tutorials:\n",
    "https://www.youtube.com/watch?v=OQKQHNCVf5k\n",
    "https://www.youtube.com/watch?v=GrJP9FLV3FE&t=2167s\n",
    "https://datascience.stackexchange.com/questions/16342/unbalanced-multiclass-data-with-xgboost\n"
   ]
  },
  {
   "cell_type": "code",
   "execution_count": 89,
   "id": "c77a20da",
   "metadata": {},
   "outputs": [
    {
     "data": {
      "text/plain": [
       "'graph.pdf'"
      ]
     },
     "execution_count": 89,
     "metadata": {},
     "output_type": "execute_result"
    }
   ],
   "source": [
    "\n",
    "#dot = graphviz.Graph()\n",
    "\n",
    "#dot.node('A')\n",
    "#dot.node('B')\n",
    "#dot.edge('A', 'B')\n",
    "\n",
    "#dot.render('graph', view=True) # this creates a pdf by defaul\n"
   ]
  },
  {
   "cell_type": "code",
   "execution_count": null,
   "id": "6e210e91",
   "metadata": {},
   "outputs": [],
   "source": []
  }
 ],
 "metadata": {
  "kernelspec": {
   "display_name": "Python 3 (ipykernel)",
   "language": "python",
   "name": "python3"
  },
  "language_info": {
   "codemirror_mode": {
    "name": "ipython",
    "version": 3
   },
   "file_extension": ".py",
   "mimetype": "text/x-python",
   "name": "python",
   "nbconvert_exporter": "python",
   "pygments_lexer": "ipython3",
   "version": "3.10.12"
  }
 },
 "nbformat": 4,
 "nbformat_minor": 5
}
