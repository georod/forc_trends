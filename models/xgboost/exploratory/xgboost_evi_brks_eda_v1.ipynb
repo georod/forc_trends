{
 "cells": [
  {
   "cell_type": "markdown",
   "id": "5796f876",
   "metadata": {},
   "source": [
    "## Analysis of EVI Trend Break Magnitudes - Exploratory data analysis"
   ]
  },
  {
   "cell_type": "markdown",
   "id": "e6e34ca0",
   "metadata": {},
   "source": [
    "Peter R., 2024-02-20"
   ]
  },
  {
   "cell_type": "markdown",
   "id": "413f9ee6",
   "metadata": {},
   "source": [
    "### Intro\n",
    "There are several way to carry out Extreme Gradient Boosting (XGB) models. R has packages such as \"dismo\" and \"xgboosting\". Similarly, there are several ways to do XGB with Python. You can use the Sklearn framework and within it you can use train(), XGBClassifier(), XGBRegressor(), etc.  Here I use XGBRegressor() to analyze forest EVI breaks (both negative & positive breaks).\n",
    "\n",
    "Here is explore the new data set created wiht DuckDb which has more than 100 variables. The goal is to come up with a smaller set of variables to run with XGB.\n",
    "\n",
    "Note that driver data have been assigned in the df by using spatio-temporal matches between breaks and remote sensing derived disturbance data. So far, I only have data for fire, harvest, insects, Hansen, & CanLaD  The driver data are mainly nulls as I was not able to match most of the EVI breaks with disturbance data. An important missing driver is likely tree windthrow or drought.\n",
    "\n",
    "In analyze negative and positive breaks separately. I use variation inflation factors (VIF) to choose a smaller set of variables to run with XGB.\n",
    "\n"
   ]
  },
  {
   "cell_type": "markdown",
   "id": "3e9fe312",
   "metadata": {},
   "source": [
    "#### File and folder path settings"
   ]
  },
  {
   "cell_type": "code",
   "execution_count": 1,
   "id": "b327cd33",
   "metadata": {},
   "outputs": [
    {
     "name": "stdout",
     "output_type": "stream",
     "text": [
      "C:\\Users\\Peter R\\github\\forc_trends\\models\\xgboost\n"
     ]
    }
   ],
   "source": [
    "# Import the os module\n",
    "import os\n",
    "\n",
    "# Get the current working directory\n",
    "cwd = os.getcwd()\n",
    "\n",
    "print(cwd)"
   ]
  },
  {
   "cell_type": "markdown",
   "id": "1c656c99",
   "metadata": {},
   "source": [
    "#### Load, explore and prepare data for VIF"
   ]
  },
  {
   "cell_type": "code",
   "execution_count": 54,
   "id": "911fd651",
   "metadata": {
    "scrolled": true
   },
   "outputs": [
    {
     "data": {
      "text/html": [
       "<div>\n",
       "<style scoped>\n",
       "    .dataframe tbody tr th:only-of-type {\n",
       "        vertical-align: middle;\n",
       "    }\n",
       "\n",
       "    .dataframe tbody tr th {\n",
       "        vertical-align: top;\n",
       "    }\n",
       "\n",
       "    .dataframe thead th {\n",
       "        text-align: right;\n",
       "    }\n",
       "</style>\n",
       "<table border=\"1\" class=\"dataframe\">\n",
       "  <thead>\n",
       "    <tr style=\"text-align: right;\">\n",
       "      <th></th>\n",
       "      <th>pix</th>\n",
       "      <th>year</th>\n",
       "      <th>brk</th>\n",
       "      <th>brkdate25</th>\n",
       "      <th>brkdate</th>\n",
       "      <th>brkdate95</th>\n",
       "      <th>magnitude</th>\n",
       "      <th>no_brk</th>\n",
       "      <th>fire_year</th>\n",
       "      <th>harv_year</th>\n",
       "      <th>...</th>\n",
       "      <th>tave_wt_lag2</th>\n",
       "      <th>tave_wt_lag3</th>\n",
       "      <th>bffp</th>\n",
       "      <th>bffp_lag1</th>\n",
       "      <th>bffp_lag2</th>\n",
       "      <th>bffp_lag3</th>\n",
       "      <th>effp</th>\n",
       "      <th>effp_lag1</th>\n",
       "      <th>effp_lag2</th>\n",
       "      <th>effp_lag3</th>\n",
       "    </tr>\n",
       "  </thead>\n",
       "  <tbody>\n",
       "    <tr>\n",
       "      <th>0</th>\n",
       "      <td>308165</td>\n",
       "      <td>2005</td>\n",
       "      <td>0</td>\n",
       "      <td>2005.348</td>\n",
       "      <td>2005.391</td>\n",
       "      <td>2006.087</td>\n",
       "      <td>672.967</td>\n",
       "      <td>NaN</td>\n",
       "      <td>NaN</td>\n",
       "      <td>NaN</td>\n",
       "      <td>...</td>\n",
       "      <td>-12.796</td>\n",
       "      <td>-6.163</td>\n",
       "      <td>139.000</td>\n",
       "      <td>153.000</td>\n",
       "      <td>148.000</td>\n",
       "      <td>147.883</td>\n",
       "      <td>271.000</td>\n",
       "      <td>267.0</td>\n",
       "      <td>266.0</td>\n",
       "      <td>265.000</td>\n",
       "    </tr>\n",
       "    <tr>\n",
       "      <th>1</th>\n",
       "      <td>308324</td>\n",
       "      <td>2005</td>\n",
       "      <td>0</td>\n",
       "      <td>2005.565</td>\n",
       "      <td>2005.609</td>\n",
       "      <td>2006.174</td>\n",
       "      <td>1070.553</td>\n",
       "      <td>NaN</td>\n",
       "      <td>NaN</td>\n",
       "      <td>NaN</td>\n",
       "      <td>...</td>\n",
       "      <td>-12.370</td>\n",
       "      <td>-5.720</td>\n",
       "      <td>136.282</td>\n",
       "      <td>151.000</td>\n",
       "      <td>146.000</td>\n",
       "      <td>146.000</td>\n",
       "      <td>272.130</td>\n",
       "      <td>268.0</td>\n",
       "      <td>267.0</td>\n",
       "      <td>266.000</td>\n",
       "    </tr>\n",
       "    <tr>\n",
       "      <th>2</th>\n",
       "      <td>308326</td>\n",
       "      <td>2005</td>\n",
       "      <td>0</td>\n",
       "      <td>2005.565</td>\n",
       "      <td>2005.609</td>\n",
       "      <td>2006.391</td>\n",
       "      <td>1048.369</td>\n",
       "      <td>NaN</td>\n",
       "      <td>NaN</td>\n",
       "      <td>NaN</td>\n",
       "      <td>...</td>\n",
       "      <td>-12.393</td>\n",
       "      <td>-5.772</td>\n",
       "      <td>136.317</td>\n",
       "      <td>151.000</td>\n",
       "      <td>146.000</td>\n",
       "      <td>146.000</td>\n",
       "      <td>272.000</td>\n",
       "      <td>268.0</td>\n",
       "      <td>267.0</td>\n",
       "      <td>265.683</td>\n",
       "    </tr>\n",
       "    <tr>\n",
       "      <th>3</th>\n",
       "      <td>310381</td>\n",
       "      <td>2005</td>\n",
       "      <td>0</td>\n",
       "      <td>2005.348</td>\n",
       "      <td>2005.391</td>\n",
       "      <td>2006.304</td>\n",
       "      <td>781.968</td>\n",
       "      <td>NaN</td>\n",
       "      <td>NaN</td>\n",
       "      <td>NaN</td>\n",
       "      <td>...</td>\n",
       "      <td>-12.296</td>\n",
       "      <td>-5.687</td>\n",
       "      <td>136.000</td>\n",
       "      <td>150.964</td>\n",
       "      <td>145.964</td>\n",
       "      <td>146.000</td>\n",
       "      <td>272.354</td>\n",
       "      <td>268.0</td>\n",
       "      <td>267.0</td>\n",
       "      <td>266.000</td>\n",
       "    </tr>\n",
       "    <tr>\n",
       "      <th>4</th>\n",
       "      <td>124272</td>\n",
       "      <td>2004</td>\n",
       "      <td>0</td>\n",
       "      <td>2004.000</td>\n",
       "      <td>2004.043</td>\n",
       "      <td>2004.130</td>\n",
       "      <td>458.737</td>\n",
       "      <td>NaN</td>\n",
       "      <td>NaN</td>\n",
       "      <td>NaN</td>\n",
       "      <td>...</td>\n",
       "      <td>-6.200</td>\n",
       "      <td>-11.500</td>\n",
       "      <td>150.427</td>\n",
       "      <td>145.000</td>\n",
       "      <td>146.000</td>\n",
       "      <td>140.000</td>\n",
       "      <td>269.000</td>\n",
       "      <td>268.0</td>\n",
       "      <td>266.0</td>\n",
       "      <td>270.573</td>\n",
       "    </tr>\n",
       "  </tbody>\n",
       "</table>\n",
       "<p>5 rows × 157 columns</p>\n",
       "</div>"
      ],
      "text/plain": [
       "      pix  year  brk  brkdate25   brkdate  brkdate95  magnitude  no_brk  \\\n",
       "0  308165  2005    0   2005.348  2005.391   2006.087    672.967     NaN   \n",
       "1  308324  2005    0   2005.565  2005.609   2006.174   1070.553     NaN   \n",
       "2  308326  2005    0   2005.565  2005.609   2006.391   1048.369     NaN   \n",
       "3  310381  2005    0   2005.348  2005.391   2006.304    781.968     NaN   \n",
       "4  124272  2004    0   2004.000  2004.043   2004.130    458.737     NaN   \n",
       "\n",
       "   fire_year  harv_year  ...  tave_wt_lag2  tave_wt_lag3     bffp  bffp_lag1  \\\n",
       "0        NaN        NaN  ...       -12.796        -6.163  139.000    153.000   \n",
       "1        NaN        NaN  ...       -12.370        -5.720  136.282    151.000   \n",
       "2        NaN        NaN  ...       -12.393        -5.772  136.317    151.000   \n",
       "3        NaN        NaN  ...       -12.296        -5.687  136.000    150.964   \n",
       "4        NaN        NaN  ...        -6.200       -11.500  150.427    145.000   \n",
       "\n",
       "   bffp_lag2  bffp_lag3     effp  effp_lag1  effp_lag2  effp_lag3  \n",
       "0    148.000    147.883  271.000      267.0      266.0    265.000  \n",
       "1    146.000    146.000  272.130      268.0      267.0    266.000  \n",
       "2    146.000    146.000  272.000      268.0      267.0    265.683  \n",
       "3    145.964    146.000  272.354      268.0      267.0    266.000  \n",
       "4    146.000    140.000  269.000      268.0      266.0    270.573  \n",
       "\n",
       "[5 rows x 157 columns]"
      ]
     },
     "execution_count": 54,
     "metadata": {},
     "output_type": "execute_result"
    }
   ],
   "source": [
    "import pandas as pd\n",
    "#from pandas import read_csv\n",
    "import numpy as np\n",
    "from numpy import nan\n",
    "\n",
    "# Windows\n",
    "#df1 = pd.read_csv(r'.\\data\\version1\\forest_evi_breaks_positive_v1.csv', skipinitialspace=True)\n",
    "#df1 = pd.read_csv(r'.\\data\\forest_evi_breaks_positive_v2.csv', skipinitialspace=True)\n",
    "df1 = pd.read_csv(r'.\\data\\forest_evi_breaks_positive_v3.csv', skipinitialspace=True)\n",
    "df1.head()\n"
   ]
  },
  {
   "cell_type": "code",
   "execution_count": 55,
   "id": "3ac5c645",
   "metadata": {},
   "outputs": [
    {
     "data": {
      "text/html": [
       "<div>\n",
       "<style scoped>\n",
       "    .dataframe tbody tr th:only-of-type {\n",
       "        vertical-align: middle;\n",
       "    }\n",
       "\n",
       "    .dataframe tbody tr th {\n",
       "        vertical-align: top;\n",
       "    }\n",
       "\n",
       "    .dataframe thead th {\n",
       "        text-align: right;\n",
       "    }\n",
       "</style>\n",
       "<table border=\"1\" class=\"dataframe\">\n",
       "  <thead>\n",
       "    <tr style=\"text-align: right;\">\n",
       "      <th></th>\n",
       "      <th>pix</th>\n",
       "      <th>year</th>\n",
       "      <th>brk</th>\n",
       "      <th>brkdate25</th>\n",
       "      <th>brkdate</th>\n",
       "      <th>brkdate95</th>\n",
       "      <th>magnitude</th>\n",
       "      <th>no_brk</th>\n",
       "      <th>fire_year</th>\n",
       "      <th>harv_year</th>\n",
       "      <th>...</th>\n",
       "      <th>tave_wt_lag2</th>\n",
       "      <th>tave_wt_lag3</th>\n",
       "      <th>bffp</th>\n",
       "      <th>bffp_lag1</th>\n",
       "      <th>bffp_lag2</th>\n",
       "      <th>bffp_lag3</th>\n",
       "      <th>effp</th>\n",
       "      <th>effp_lag1</th>\n",
       "      <th>effp_lag2</th>\n",
       "      <th>effp_lag3</th>\n",
       "    </tr>\n",
       "  </thead>\n",
       "  <tbody>\n",
       "    <tr>\n",
       "      <th>count</th>\n",
       "      <td>3935.000000</td>\n",
       "      <td>3935.000000</td>\n",
       "      <td>3935.0</td>\n",
       "      <td>3935.000000</td>\n",
       "      <td>3935.000000</td>\n",
       "      <td>3935.000000</td>\n",
       "      <td>3935.000000</td>\n",
       "      <td>0.0</td>\n",
       "      <td>0.0</td>\n",
       "      <td>102.000000</td>\n",
       "      <td>...</td>\n",
       "      <td>3935.000000</td>\n",
       "      <td>3935.000000</td>\n",
       "      <td>3935.000000</td>\n",
       "      <td>3935.000000</td>\n",
       "      <td>3935.000000</td>\n",
       "      <td>3935.000000</td>\n",
       "      <td>3935.000000</td>\n",
       "      <td>3935.000000</td>\n",
       "      <td>3935.000000</td>\n",
       "      <td>3935.000000</td>\n",
       "    </tr>\n",
       "    <tr>\n",
       "      <th>mean</th>\n",
       "      <td>236681.719187</td>\n",
       "      <td>2012.323761</td>\n",
       "      <td>0.0</td>\n",
       "      <td>2012.462310</td>\n",
       "      <td>2012.781264</td>\n",
       "      <td>2013.527402</td>\n",
       "      <td>802.658876</td>\n",
       "      <td>NaN</td>\n",
       "      <td>NaN</td>\n",
       "      <td>2010.009804</td>\n",
       "      <td>...</td>\n",
       "      <td>-10.130569</td>\n",
       "      <td>-9.737617</td>\n",
       "      <td>141.954761</td>\n",
       "      <td>142.846732</td>\n",
       "      <td>144.181222</td>\n",
       "      <td>142.638365</td>\n",
       "      <td>269.959652</td>\n",
       "      <td>267.854668</td>\n",
       "      <td>268.369603</td>\n",
       "      <td>267.944833</td>\n",
       "    </tr>\n",
       "    <tr>\n",
       "      <th>std</th>\n",
       "      <td>143456.099575</td>\n",
       "      <td>4.882908</td>\n",
       "      <td>0.0</td>\n",
       "      <td>4.700422</td>\n",
       "      <td>4.795015</td>\n",
       "      <td>4.587775</td>\n",
       "      <td>390.213785</td>\n",
       "      <td>NaN</td>\n",
       "      <td>NaN</td>\n",
       "      <td>4.390573</td>\n",
       "      <td>...</td>\n",
       "      <td>1.722720</td>\n",
       "      <td>1.765085</td>\n",
       "      <td>4.829545</td>\n",
       "      <td>4.051770</td>\n",
       "      <td>4.797728</td>\n",
       "      <td>4.022379</td>\n",
       "      <td>5.123441</td>\n",
       "      <td>3.917180</td>\n",
       "      <td>4.344781</td>\n",
       "      <td>4.102968</td>\n",
       "    </tr>\n",
       "    <tr>\n",
       "      <th>min</th>\n",
       "      <td>601.000000</td>\n",
       "      <td>2003.000000</td>\n",
       "      <td>0.0</td>\n",
       "      <td>2003.739000</td>\n",
       "      <td>2003.957000</td>\n",
       "      <td>2004.000000</td>\n",
       "      <td>81.806000</td>\n",
       "      <td>NaN</td>\n",
       "      <td>NaN</td>\n",
       "      <td>2004.000000</td>\n",
       "      <td>...</td>\n",
       "      <td>-14.372000</td>\n",
       "      <td>-14.299000</td>\n",
       "      <td>129.248000</td>\n",
       "      <td>129.173000</td>\n",
       "      <td>129.168000</td>\n",
       "      <td>129.173000</td>\n",
       "      <td>261.000000</td>\n",
       "      <td>261.000000</td>\n",
       "      <td>260.470000</td>\n",
       "      <td>260.994000</td>\n",
       "    </tr>\n",
       "    <tr>\n",
       "      <th>25%</th>\n",
       "      <td>118067.000000</td>\n",
       "      <td>2009.000000</td>\n",
       "      <td>0.0</td>\n",
       "      <td>2009.217000</td>\n",
       "      <td>2009.348000</td>\n",
       "      <td>2010.826000</td>\n",
       "      <td>535.356000</td>\n",
       "      <td>NaN</td>\n",
       "      <td>NaN</td>\n",
       "      <td>2006.000000</td>\n",
       "      <td>...</td>\n",
       "      <td>-11.317000</td>\n",
       "      <td>-10.900000</td>\n",
       "      <td>138.203000</td>\n",
       "      <td>140.000000</td>\n",
       "      <td>140.819000</td>\n",
       "      <td>140.000000</td>\n",
       "      <td>265.180000</td>\n",
       "      <td>264.000000</td>\n",
       "      <td>264.911000</td>\n",
       "      <td>264.754500</td>\n",
       "    </tr>\n",
       "    <tr>\n",
       "      <th>50%</th>\n",
       "      <td>225129.000000</td>\n",
       "      <td>2011.000000</td>\n",
       "      <td>0.0</td>\n",
       "      <td>2011.304000</td>\n",
       "      <td>2011.652000</td>\n",
       "      <td>2012.435000</td>\n",
       "      <td>724.616000</td>\n",
       "      <td>NaN</td>\n",
       "      <td>NaN</td>\n",
       "      <td>2010.500000</td>\n",
       "      <td>...</td>\n",
       "      <td>-10.241000</td>\n",
       "      <td>-9.555000</td>\n",
       "      <td>141.000000</td>\n",
       "      <td>142.897000</td>\n",
       "      <td>143.000000</td>\n",
       "      <td>142.000000</td>\n",
       "      <td>269.780000</td>\n",
       "      <td>268.000000</td>\n",
       "      <td>268.000000</td>\n",
       "      <td>267.310000</td>\n",
       "    </tr>\n",
       "    <tr>\n",
       "      <th>75%</th>\n",
       "      <td>356961.500000</td>\n",
       "      <td>2016.000000</td>\n",
       "      <td>0.0</td>\n",
       "      <td>2015.739000</td>\n",
       "      <td>2016.130000</td>\n",
       "      <td>2016.478000</td>\n",
       "      <td>969.261500</td>\n",
       "      <td>NaN</td>\n",
       "      <td>NaN</td>\n",
       "      <td>2013.000000</td>\n",
       "      <td>...</td>\n",
       "      <td>-9.100000</td>\n",
       "      <td>-8.756500</td>\n",
       "      <td>145.000000</td>\n",
       "      <td>146.000000</td>\n",
       "      <td>148.875500</td>\n",
       "      <td>145.000000</td>\n",
       "      <td>273.531000</td>\n",
       "      <td>271.000000</td>\n",
       "      <td>272.000000</td>\n",
       "      <td>271.000000</td>\n",
       "    </tr>\n",
       "    <tr>\n",
       "      <th>max</th>\n",
       "      <td>493282.000000</td>\n",
       "      <td>2021.000000</td>\n",
       "      <td>0.0</td>\n",
       "      <td>2021.652000</td>\n",
       "      <td>2021.957000</td>\n",
       "      <td>2022.957000</td>\n",
       "      <td>3606.961000</td>\n",
       "      <td>NaN</td>\n",
       "      <td>NaN</td>\n",
       "      <td>2019.000000</td>\n",
       "      <td>...</td>\n",
       "      <td>-4.429000</td>\n",
       "      <td>-4.428000</td>\n",
       "      <td>155.000000</td>\n",
       "      <td>155.000000</td>\n",
       "      <td>155.000000</td>\n",
       "      <td>155.000000</td>\n",
       "      <td>285.000000</td>\n",
       "      <td>280.165000</td>\n",
       "      <td>281.000000</td>\n",
       "      <td>281.000000</td>\n",
       "    </tr>\n",
       "  </tbody>\n",
       "</table>\n",
       "<p>8 rows × 157 columns</p>\n",
       "</div>"
      ],
      "text/plain": [
       "                 pix         year     brk    brkdate25      brkdate  \\\n",
       "count    3935.000000  3935.000000  3935.0  3935.000000  3935.000000   \n",
       "mean   236681.719187  2012.323761     0.0  2012.462310  2012.781264   \n",
       "std    143456.099575     4.882908     0.0     4.700422     4.795015   \n",
       "min       601.000000  2003.000000     0.0  2003.739000  2003.957000   \n",
       "25%    118067.000000  2009.000000     0.0  2009.217000  2009.348000   \n",
       "50%    225129.000000  2011.000000     0.0  2011.304000  2011.652000   \n",
       "75%    356961.500000  2016.000000     0.0  2015.739000  2016.130000   \n",
       "max    493282.000000  2021.000000     0.0  2021.652000  2021.957000   \n",
       "\n",
       "         brkdate95    magnitude  no_brk  fire_year    harv_year  ...  \\\n",
       "count  3935.000000  3935.000000     0.0        0.0   102.000000  ...   \n",
       "mean   2013.527402   802.658876     NaN        NaN  2010.009804  ...   \n",
       "std       4.587775   390.213785     NaN        NaN     4.390573  ...   \n",
       "min    2004.000000    81.806000     NaN        NaN  2004.000000  ...   \n",
       "25%    2010.826000   535.356000     NaN        NaN  2006.000000  ...   \n",
       "50%    2012.435000   724.616000     NaN        NaN  2010.500000  ...   \n",
       "75%    2016.478000   969.261500     NaN        NaN  2013.000000  ...   \n",
       "max    2022.957000  3606.961000     NaN        NaN  2019.000000  ...   \n",
       "\n",
       "       tave_wt_lag2  tave_wt_lag3         bffp    bffp_lag1    bffp_lag2  \\\n",
       "count   3935.000000   3935.000000  3935.000000  3935.000000  3935.000000   \n",
       "mean     -10.130569     -9.737617   141.954761   142.846732   144.181222   \n",
       "std        1.722720      1.765085     4.829545     4.051770     4.797728   \n",
       "min      -14.372000    -14.299000   129.248000   129.173000   129.168000   \n",
       "25%      -11.317000    -10.900000   138.203000   140.000000   140.819000   \n",
       "50%      -10.241000     -9.555000   141.000000   142.897000   143.000000   \n",
       "75%       -9.100000     -8.756500   145.000000   146.000000   148.875500   \n",
       "max       -4.429000     -4.428000   155.000000   155.000000   155.000000   \n",
       "\n",
       "         bffp_lag3         effp    effp_lag1    effp_lag2    effp_lag3  \n",
       "count  3935.000000  3935.000000  3935.000000  3935.000000  3935.000000  \n",
       "mean    142.638365   269.959652   267.854668   268.369603   267.944833  \n",
       "std       4.022379     5.123441     3.917180     4.344781     4.102968  \n",
       "min     129.173000   261.000000   261.000000   260.470000   260.994000  \n",
       "25%     140.000000   265.180000   264.000000   264.911000   264.754500  \n",
       "50%     142.000000   269.780000   268.000000   268.000000   267.310000  \n",
       "75%     145.000000   273.531000   271.000000   272.000000   271.000000  \n",
       "max     155.000000   285.000000   280.165000   281.000000   281.000000  \n",
       "\n",
       "[8 rows x 157 columns]"
      ]
     },
     "execution_count": 55,
     "metadata": {},
     "output_type": "execute_result"
    }
   ],
   "source": [
    "# dataframe dimensions\n",
    "df1.describe()\n",
    "#print(df1.describe)\n",
    "# show all column names\n",
    "#print(df1.columns.tolist())"
   ]
  },
  {
   "cell_type": "code",
   "execution_count": 29,
   "id": "aad3f4d4",
   "metadata": {},
   "outputs": [],
   "source": [
    "#df1[\"rad_sm\"].describe() # remove rad vars given the -9999 nffd_wt\n",
    "#df1[\"nffd_wt\"].describe() # remove rad vars given the small range 0 to 2."
   ]
  },
  {
   "cell_type": "code",
   "execution_count": 56,
   "id": "09bacfbf",
   "metadata": {},
   "outputs": [
    {
     "data": {
      "text/plain": [
       "(3935, 157)"
      ]
     },
     "execution_count": 56,
     "metadata": {},
     "output_type": "execute_result"
    }
   ],
   "source": [
    "# dataframe dimensions\n",
    "df1.shape"
   ]
  },
  {
   "cell_type": "code",
   "execution_count": 57,
   "id": "6c2a8793",
   "metadata": {},
   "outputs": [
    {
     "data": {
      "text/html": [
       "<div>\n",
       "<style scoped>\n",
       "    .dataframe tbody tr th:only-of-type {\n",
       "        vertical-align: middle;\n",
       "    }\n",
       "\n",
       "    .dataframe tbody tr th {\n",
       "        vertical-align: top;\n",
       "    }\n",
       "\n",
       "    .dataframe thead th {\n",
       "        text-align: right;\n",
       "    }\n",
       "</style>\n",
       "<table border=\"1\" class=\"dataframe\">\n",
       "  <thead>\n",
       "    <tr style=\"text-align: right;\">\n",
       "      <th></th>\n",
       "      <th>for_age</th>\n",
       "      <th>for_con</th>\n",
       "      <th>cmd</th>\n",
       "      <th>cmd_lag1</th>\n",
       "      <th>cmd_lag2</th>\n",
       "      <th>cmd_lag3</th>\n",
       "      <th>cmi</th>\n",
       "      <th>cmi_lag1</th>\n",
       "      <th>cmi_lag2</th>\n",
       "      <th>cmi_lag3</th>\n",
       "      <th>...</th>\n",
       "      <th>tave_wt_lag2</th>\n",
       "      <th>tave_wt_lag3</th>\n",
       "      <th>bffp</th>\n",
       "      <th>bffp_lag1</th>\n",
       "      <th>bffp_lag2</th>\n",
       "      <th>bffp_lag3</th>\n",
       "      <th>effp</th>\n",
       "      <th>effp_lag1</th>\n",
       "      <th>effp_lag2</th>\n",
       "      <th>effp_lag3</th>\n",
       "    </tr>\n",
       "  </thead>\n",
       "  <tbody>\n",
       "    <tr>\n",
       "      <th>3930</th>\n",
       "      <td>66.368</td>\n",
       "      <td>0.942</td>\n",
       "      <td>161.563</td>\n",
       "      <td>135.743</td>\n",
       "      <td>114.988</td>\n",
       "      <td>162.371</td>\n",
       "      <td>42.250</td>\n",
       "      <td>58.782</td>\n",
       "      <td>68.837</td>\n",
       "      <td>52.986</td>\n",
       "      <td>...</td>\n",
       "      <td>-11.081</td>\n",
       "      <td>-10.652</td>\n",
       "      <td>137.0</td>\n",
       "      <td>146.27</td>\n",
       "      <td>150.447</td>\n",
       "      <td>147.447</td>\n",
       "      <td>277.730</td>\n",
       "      <td>263.000</td>\n",
       "      <td>264.259</td>\n",
       "      <td>267.259</td>\n",
       "    </tr>\n",
       "    <tr>\n",
       "      <th>3931</th>\n",
       "      <td>71.400</td>\n",
       "      <td>4.995</td>\n",
       "      <td>151.773</td>\n",
       "      <td>131.024</td>\n",
       "      <td>103.258</td>\n",
       "      <td>172.152</td>\n",
       "      <td>44.746</td>\n",
       "      <td>60.729</td>\n",
       "      <td>71.795</td>\n",
       "      <td>54.076</td>\n",
       "      <td>...</td>\n",
       "      <td>-11.100</td>\n",
       "      <td>-10.700</td>\n",
       "      <td>138.0</td>\n",
       "      <td>147.00</td>\n",
       "      <td>151.000</td>\n",
       "      <td>148.000</td>\n",
       "      <td>277.641</td>\n",
       "      <td>263.000</td>\n",
       "      <td>264.000</td>\n",
       "      <td>267.000</td>\n",
       "    </tr>\n",
       "    <tr>\n",
       "      <th>3932</th>\n",
       "      <td>93.352</td>\n",
       "      <td>18.592</td>\n",
       "      <td>227.234</td>\n",
       "      <td>147.678</td>\n",
       "      <td>174.031</td>\n",
       "      <td>112.024</td>\n",
       "      <td>39.376</td>\n",
       "      <td>53.872</td>\n",
       "      <td>49.332</td>\n",
       "      <td>62.020</td>\n",
       "      <td>...</td>\n",
       "      <td>-8.300</td>\n",
       "      <td>-10.000</td>\n",
       "      <td>135.0</td>\n",
       "      <td>139.00</td>\n",
       "      <td>138.000</td>\n",
       "      <td>146.000</td>\n",
       "      <td>273.000</td>\n",
       "      <td>275.406</td>\n",
       "      <td>271.000</td>\n",
       "      <td>268.000</td>\n",
       "    </tr>\n",
       "    <tr>\n",
       "      <th>3933</th>\n",
       "      <td>66.811</td>\n",
       "      <td>0.595</td>\n",
       "      <td>163.161</td>\n",
       "      <td>131.033</td>\n",
       "      <td>109.694</td>\n",
       "      <td>174.741</td>\n",
       "      <td>41.308</td>\n",
       "      <td>58.600</td>\n",
       "      <td>68.855</td>\n",
       "      <td>52.386</td>\n",
       "      <td>...</td>\n",
       "      <td>-11.800</td>\n",
       "      <td>-11.200</td>\n",
       "      <td>139.0</td>\n",
       "      <td>149.00</td>\n",
       "      <td>153.000</td>\n",
       "      <td>149.953</td>\n",
       "      <td>275.000</td>\n",
       "      <td>261.000</td>\n",
       "      <td>262.581</td>\n",
       "      <td>266.000</td>\n",
       "    </tr>\n",
       "    <tr>\n",
       "      <th>3934</th>\n",
       "      <td>89.369</td>\n",
       "      <td>3.758</td>\n",
       "      <td>160.240</td>\n",
       "      <td>26.309</td>\n",
       "      <td>221.054</td>\n",
       "      <td>135.407</td>\n",
       "      <td>62.260</td>\n",
       "      <td>81.296</td>\n",
       "      <td>43.739</td>\n",
       "      <td>37.514</td>\n",
       "      <td>...</td>\n",
       "      <td>-6.269</td>\n",
       "      <td>-12.900</td>\n",
       "      <td>146.0</td>\n",
       "      <td>140.00</td>\n",
       "      <td>144.000</td>\n",
       "      <td>145.000</td>\n",
       "      <td>268.966</td>\n",
       "      <td>276.025</td>\n",
       "      <td>272.000</td>\n",
       "      <td>270.000</td>\n",
       "    </tr>\n",
       "  </tbody>\n",
       "</table>\n",
       "<p>5 rows × 134 columns</p>\n",
       "</div>"
      ],
      "text/plain": [
       "      for_age  for_con      cmd  cmd_lag1  cmd_lag2  cmd_lag3     cmi  \\\n",
       "3930   66.368    0.942  161.563   135.743   114.988   162.371  42.250   \n",
       "3931   71.400    4.995  151.773   131.024   103.258   172.152  44.746   \n",
       "3932   93.352   18.592  227.234   147.678   174.031   112.024  39.376   \n",
       "3933   66.811    0.595  163.161   131.033   109.694   174.741  41.308   \n",
       "3934   89.369    3.758  160.240    26.309   221.054   135.407  62.260   \n",
       "\n",
       "      cmi_lag1  cmi_lag2  cmi_lag3  ...  tave_wt_lag2  tave_wt_lag3   bffp  \\\n",
       "3930    58.782    68.837    52.986  ...       -11.081       -10.652  137.0   \n",
       "3931    60.729    71.795    54.076  ...       -11.100       -10.700  138.0   \n",
       "3932    53.872    49.332    62.020  ...        -8.300       -10.000  135.0   \n",
       "3933    58.600    68.855    52.386  ...       -11.800       -11.200  139.0   \n",
       "3934    81.296    43.739    37.514  ...        -6.269       -12.900  146.0   \n",
       "\n",
       "      bffp_lag1  bffp_lag2  bffp_lag3     effp  effp_lag1  effp_lag2  \\\n",
       "3930     146.27    150.447    147.447  277.730    263.000    264.259   \n",
       "3931     147.00    151.000    148.000  277.641    263.000    264.000   \n",
       "3932     139.00    138.000    146.000  273.000    275.406    271.000   \n",
       "3933     149.00    153.000    149.953  275.000    261.000    262.581   \n",
       "3934     140.00    144.000    145.000  268.966    276.025    272.000   \n",
       "\n",
       "      effp_lag3  \n",
       "3930    267.259  \n",
       "3931    267.000  \n",
       "3932    268.000  \n",
       "3933    266.000  \n",
       "3934    270.000  \n",
       "\n",
       "[5 rows x 134 columns]"
      ]
     },
     "execution_count": 57,
     "metadata": {},
     "output_type": "execute_result"
    }
   ],
   "source": [
    "# Subset the data to run VIF function below\n",
    "\n",
    "# create non-protected dummy variable \n",
    "#X1 = pd.get_dummies(df1, columns=['for_pro'], dtype=float)\n",
    "\n",
    "# Remove records where precipitation is null. To check why map vals have NAs\n",
    "#df2= df2[df2['map'].notna()]\n",
    "\n",
    "#X1 = X1.iloc[:,11:]\n",
    "X1 = df1\n",
    "\n",
    "# Drop response variables, driver matched data, and categorical data as these arenot useful for VIF\n",
    "X1.drop(X1.columns[[0,1,2,3,4, 5, 6, 7, 8, 9,10, 11, 12, 15, 16]], axis=1, inplace=True)\n",
    "\n",
    "#These variables have way too many NULLS, so I need to drop them. The nulls in these variables are -9999. By dropping them I solved the problem of potentila bias with -9999 values\n",
    "X1.drop([\"rad_sm\",  \"rad_sm_lag1\",  \"rad_sm_lag2\", \"rad_sm_lag3\",\"rad_wt\", \"rad_wt_lag1\", \"rad_wt_lag2\", \"rad_wt_lag3\"], axis = 1, inplace = True)\n",
    "\n",
    "#replace -9999.0000\n",
    "#X1.replace(-9999.0, nan, inplace=True)\n",
    "\n",
    "# drop rows with NAs\n",
    "X1.tail()\n",
    "# 5 rows × 143 columns\n",
    "\n"
   ]
  },
  {
   "cell_type": "code",
   "execution_count": 41,
   "id": "68577ee2",
   "metadata": {},
   "outputs": [],
   "source": [
    "#X1 = df1[['map', 'mat']]\n",
    "# Count NAs per columns\n",
    "#X1.isna().sum()"
   ]
  },
  {
   "cell_type": "code",
   "execution_count": 42,
   "id": "4fac09df",
   "metadata": {
    "scrolled": true
   },
   "outputs": [],
   "source": [
    "#X1.describe()"
   ]
  },
  {
   "cell_type": "code",
   "execution_count": 58,
   "id": "e2fa55b9",
   "metadata": {},
   "outputs": [],
   "source": [
    "#X1['nffd_wt'].describe() # range: 0-2\n",
    "#X1['nffd_wt'].describe() # range: 0-2\n",
    "#X1['cmi_sm'].describe()"
   ]
  },
  {
   "cell_type": "code",
   "execution_count": 59,
   "id": "5ffd668b",
   "metadata": {},
   "outputs": [
    {
     "data": {
      "text/plain": [
       "(3935, 134)"
      ]
     },
     "execution_count": 59,
     "metadata": {},
     "output_type": "execute_result"
    }
   ],
   "source": [
    "# dataframe dimensions\n",
    "X1.shape"
   ]
  },
  {
   "cell_type": "code",
   "execution_count": 60,
   "id": "b8693492",
   "metadata": {},
   "outputs": [
    {
     "data": {
      "text/plain": [
       "for_age      42\n",
       "for_con      43\n",
       "cmd           0\n",
       "cmd_lag1      0\n",
       "cmd_lag2      0\n",
       "             ..\n",
       "bffp_lag3     0\n",
       "effp          0\n",
       "effp_lag1     0\n",
       "effp_lag2     0\n",
       "effp_lag3     0\n",
       "Length: 134, dtype: int64"
      ]
     },
     "execution_count": 60,
     "metadata": {},
     "output_type": "execute_result"
    }
   ],
   "source": [
    "# Count NAs per columns\n",
    "X1.isna().sum()\n",
    "\n",
    "#X1['rad_wt_lag3'].isna().sum()"
   ]
  },
  {
   "cell_type": "code",
   "execution_count": 61,
   "id": "39b25da5",
   "metadata": {},
   "outputs": [
    {
     "data": {
      "text/plain": [
       "for_age      42\n",
       "for_con      43\n",
       "cmd           0\n",
       "cmd_lag1      0\n",
       "cmd_lag2      0\n",
       "             ..\n",
       "bffp_lag3     0\n",
       "effp          0\n",
       "effp_lag1     0\n",
       "effp_lag2     0\n",
       "effp_lag3     0\n",
       "Length: 134, dtype: int64"
      ]
     },
     "execution_count": 61,
     "metadata": {},
     "output_type": "execute_result"
    }
   ],
   "source": [
    "# Count NAs per columns\n",
    "X1.isna().sum()"
   ]
  },
  {
   "cell_type": "code",
   "execution_count": 62,
   "id": "d36ac135",
   "metadata": {},
   "outputs": [
    {
     "data": {
      "text/plain": [
       "(3892, 134)"
      ]
     },
     "execution_count": 62,
     "metadata": {},
     "output_type": "execute_result"
    }
   ],
   "source": [
    "# drop rows with NAs (-9999.0 converted to nan) to run VIF below not for XGB model as XGB can handle NULLs\n",
    "X2 = X1.dropna()\n",
    "X2.shape"
   ]
  },
  {
   "cell_type": "code",
   "execution_count": 63,
   "id": "aae5e855",
   "metadata": {},
   "outputs": [
    {
     "data": {
      "text/plain": [
       "for_age      0\n",
       "for_con      0\n",
       "cmd          0\n",
       "cmd_lag1     0\n",
       "cmd_lag2     0\n",
       "            ..\n",
       "bffp_lag3    0\n",
       "effp         0\n",
       "effp_lag1    0\n",
       "effp_lag2    0\n",
       "effp_lag3    0\n",
       "Length: 134, dtype: int64"
      ]
     },
     "execution_count": 63,
     "metadata": {},
     "output_type": "execute_result"
    }
   ],
   "source": [
    "# Count NAs per columns to check that step above worked\n",
    "X2.isna().sum()\n"
   ]
  },
  {
   "cell_type": "code",
   "execution_count": 65,
   "id": "f40f4bc2",
   "metadata": {
    "scrolled": true
   },
   "outputs": [],
   "source": [
    "#X2['effp_lag3'].describe()\n",
    "#s = pd.Series([-9999.0, 2, 3, 4, 5])\n",
    "#s.replace(-9999.0, nan, inplace=True)\n",
    "#s.describe()\n"
   ]
  },
  {
   "cell_type": "code",
   "execution_count": 72,
   "id": "f055ced9",
   "metadata": {},
   "outputs": [],
   "source": [
    "#print(X2.columns.tolist())"
   ]
  },
  {
   "cell_type": "code",
   "execution_count": 109,
   "id": "b38d7a09",
   "metadata": {},
   "outputs": [
    {
     "data": {
      "text/plain": [
       "(3892, 134)"
      ]
     },
     "execution_count": 109,
     "metadata": {},
     "output_type": "execute_result"
    }
   ],
   "source": [
    "# drop dummy vars\n",
    "#X3 = X2.drop(['magnitude', 'for_pro_0',  'for_pro_1'], inplace = True)\n",
    "#X2.drop(X2.columns[[0,136,137]], axis=1, inplace=True)\n",
    "X2.shape"
   ]
  },
  {
   "cell_type": "code",
   "execution_count": 67,
   "id": "3b878c55",
   "metadata": {},
   "outputs": [],
   "source": [
    "# remove the bad seasonal vars nffd_wt, pas_sm but keep the others. As VIF fails when there are too many nulls\n",
    "cols1 =['for_age', 'for_con', 'cmd', 'cmd_lag1', 'cmd_lag2', 'cmd_lag3', 'cmi', 'cmi_lag1', 'cmi_lag2', 'cmi_lag3', 'cmi_sm', 'cmi_sm_lag1', 'cmi_sm_lag2', 'cmi_sm_lag3', 'cmi_wt', 'cmi_wt_lag1', 'cmi_wt_lag2', 'cmi_wt_lag3', 'dd1040', 'dd1040_lag1', 'dd1040_lag2', 'dd1040_lag3', 'dd18', 'dd18_lag1', 'dd18_lag2', 'dd18_lag3', 'dd18_sm', 'dd18_sm_lag1', 'dd18_sm_lag2', 'dd18_sm_lag3', 'dd5', 'dd5_lag1', 'dd5_lag2', 'dd5_lag3', 'dd5_wt', 'dd5_wt_lag1', 'dd5_wt_lag2', 'dd5_wt_lag3', 'dd_0', 'dd_0_lag1', 'dd_0_lag2', 'dd_0_lag3', 'dd_0_wt', 'dd_0_wt_lag1', 'dd_0_wt_lag2', 'dd_0_wt_lag3', 'dd_18', 'dd_18_lag1', 'dd_18_lag2', 'dd_18_lag3', 'dd_18_sm', 'dd_18_sm_lag1', 'dd_18_sm_lag2', 'dd_18_sm_lag3', 'eref', 'eref_lag1', 'eref_lag2', 'eref_lag3', 'ffp', 'ffp_lag1', 'ffp_lag2', 'ffp_lag3', 'map', 'map_lag1', 'map_lag2', 'map_lag3', 'mat', 'mat_lag1', 'mat_lag2', 'mat_lag3', 'msp', 'msp_lag1', 'msp_lag2', 'msp_lag3', 'nffd', 'nffd_lag1', 'nffd_lag2', 'nffd_lag3', 'pas', 'pas_lag1', 'pas_lag2', 'pas_lag3', 'pas_wt', 'pas_wt_lag1', 'pas_wt_lag2', 'pas_wt_lag3', 'ppt_sm', 'ppt_sm_lag1', 'ppt_sm_lag2', 'ppt_sm_lag3', 'ppt_wt', 'ppt_wt_lag1', 'ppt_wt_lag2', 'ppt_wt_lag3', 'rh', 'rh_lag1', 'rh_lag2', 'rh_lag3', 'rh_sm', 'rh_sm_lag1', 'rh_sm_lag2', 'rh_sm_lag3', 'rh_wt', 'rh_wt_lag1', 'rh_wt_lag2', 'rh_wt_lag3', 'td', 'td_lag1', 'td_lag2', 'td_lag3', 'tave_sm', 'tave_sm_lag1', 'tave_sm_lag2', 'tave_sm_lag3', 'tave_wt', 'tave_wt_lag1', 'tave_wt_lag2', 'tave_wt_lag3', 'bffp', 'bffp_lag1', 'bffp_lag2', 'bffp_lag3', 'effp', 'effp_lag1', 'effp_lag2', 'effp_lag3']\n",
    "X22 = X1[cols1]\n",
    "\n",
    "X22 = X22.dropna()\n"
   ]
  },
  {
   "cell_type": "code",
   "execution_count": 68,
   "id": "d8fd4f9a",
   "metadata": {
    "scrolled": true
   },
   "outputs": [
    {
     "name": "stdout",
     "output_type": "stream",
     "text": [
      "<bound method NDFrame.describe of       for_age  for_con      cmd  cmd_lag1  cmd_lag2  cmd_lag3     cmi  \\\n",
      "0      82.398   31.434  248.235   160.040   125.813   163.157  28.249   \n",
      "1      83.758   12.763  263.867   169.075   132.941   199.648  22.262   \n",
      "2      90.001   20.251  262.199   167.381   130.623   198.598  22.662   \n",
      "3      91.311   19.127  264.709   169.716   134.123   200.587  22.037   \n",
      "4      68.810   62.192  213.060   133.145   219.802   260.458  25.514   \n",
      "...       ...      ...      ...       ...       ...       ...     ...   \n",
      "3930   66.368    0.942  161.563   135.743   114.988   162.371  42.250   \n",
      "3931   71.400    4.995  151.773   131.024   103.258   172.152  44.746   \n",
      "3932   93.352   18.592  227.234   147.678   174.031   112.024  39.376   \n",
      "3933   66.811    0.595  163.161   131.033   109.694   174.741  41.308   \n",
      "3934   89.369    3.758  160.240    26.309   221.054   135.407  62.260   \n",
      "\n",
      "      cmi_lag1  cmi_lag2  cmi_lag3  ...  tave_wt_lag2  tave_wt_lag3     bffp  \\\n",
      "0       38.880    52.979    39.323  ...       -12.796        -6.163  139.000   \n",
      "1       33.231    46.252    30.917  ...       -12.370        -5.720  136.282   \n",
      "2       33.602    46.667    31.269  ...       -12.393        -5.772  136.317   \n",
      "3       33.062    46.013    30.696  ...       -12.296        -5.687  136.000   \n",
      "4       40.888    26.161    24.092  ...        -6.200       -11.500  150.427   \n",
      "...        ...       ...       ...  ...           ...           ...      ...   \n",
      "3930    58.782    68.837    52.986  ...       -11.081       -10.652  137.000   \n",
      "3931    60.729    71.795    54.076  ...       -11.100       -10.700  138.000   \n",
      "3932    53.872    49.332    62.020  ...        -8.300       -10.000  135.000   \n",
      "3933    58.600    68.855    52.386  ...       -11.800       -11.200  139.000   \n",
      "3934    81.296    43.739    37.514  ...        -6.269       -12.900  146.000   \n",
      "\n",
      "      bffp_lag1  bffp_lag2  bffp_lag3     effp  effp_lag1  effp_lag2  \\\n",
      "0       153.000    148.000    147.883  271.000    267.000    266.000   \n",
      "1       151.000    146.000    146.000  272.130    268.000    267.000   \n",
      "2       151.000    146.000    146.000  272.000    268.000    267.000   \n",
      "3       150.964    145.964    146.000  272.354    268.000    267.000   \n",
      "4       145.000    146.000    140.000  269.000    268.000    266.000   \n",
      "...         ...        ...        ...      ...        ...        ...   \n",
      "3930    146.270    150.447    147.447  277.730    263.000    264.259   \n",
      "3931    147.000    151.000    148.000  277.641    263.000    264.000   \n",
      "3932    139.000    138.000    146.000  273.000    275.406    271.000   \n",
      "3933    149.000    153.000    149.953  275.000    261.000    262.581   \n",
      "3934    140.000    144.000    145.000  268.966    276.025    272.000   \n",
      "\n",
      "      effp_lag3  \n",
      "0       265.000  \n",
      "1       266.000  \n",
      "2       265.683  \n",
      "3       266.000  \n",
      "4       270.573  \n",
      "...         ...  \n",
      "3930    267.259  \n",
      "3931    267.000  \n",
      "3932    268.000  \n",
      "3933    266.000  \n",
      "3934    270.000  \n",
      "\n",
      "[3892 rows x 126 columns]>\n"
     ]
    }
   ],
   "source": [
    "print(X22.describe)\n",
    "\n",
    "#[3328 rows x 135 columns]"
   ]
  },
  {
   "cell_type": "code",
   "execution_count": 24,
   "id": "aa8db935",
   "metadata": {},
   "outputs": [],
   "source": [
    "# Caluclate Varition inflation factors\n",
    "# https://datascience.stackexchange.com/questions/54280/multicollinearityvariance-inflation-factor-variables-to-remove-before-doing-a\n",
    "# Note VIF (variance_inflation_factor)\n",
    "from joblib import Parallel, delayed\n",
    "from statsmodels.stats.outliers_influence import variance_inflation_factor\n",
    "    \n",
    "def removeMultiColl(data, vif_threshold = 5.0):\n",
    "        for i in data.columns:\n",
    "            if data[i].nunique() == 1:\n",
    "                print(f\"Dropping {i} due to just 1 unique value\")\n",
    "                data.drop(columns = i, inplace = True)\n",
    "        drop = True\n",
    "        col_list = list(data.columns)\n",
    "        while drop == True:\n",
    "            drop = False\n",
    "            vif_list = Parallel(n_jobs = -1, verbose = 5)(delayed(variance_inflation_factor)(data[col_list].values, i) for i in range(data[col_list].shape[1]))\n",
    "            max_index = vif_list.index(max(vif_list))\n",
    "            if vif_list[max_index] > vif_threshold:\n",
    "                print(f\"Dropping column : {col_list[max_index]} at index - {max_index}\")\n",
    "                del col_list[max_index]\n",
    "                drop = True\n",
    "        print(\"Remaining columns :\\n\", list(data[col_list].columns))\n",
    "        return data[col_list]"
   ]
  },
  {
   "cell_type": "code",
   "execution_count": 70,
   "id": "c7194c29",
   "metadata": {
    "scrolled": true
   },
   "outputs": [
    {
     "name": "stderr",
     "output_type": "stream",
     "text": [
      "[Parallel(n_jobs=-1)]: Using backend LokyBackend with 6 concurrent workers.\n",
      "[Parallel(n_jobs=-1)]: Done   6 tasks      | elapsed:    0.1s\n",
      "[Parallel(n_jobs=-1)]: Done 108 tasks      | elapsed:    2.2s\n",
      "[Parallel(n_jobs=-1)]: Done 134 out of 134 | elapsed:    2.8s finished\n"
     ]
    },
    {
     "name": "stdout",
     "output_type": "stream",
     "text": [
      "Dropping column : dd_18_lag3 at index - 49\n"
     ]
    },
    {
     "name": "stderr",
     "output_type": "stream",
     "text": [
      "[Parallel(n_jobs=-1)]: Using backend LokyBackend with 6 concurrent workers.\n",
      "[Parallel(n_jobs=-1)]: Done   6 tasks      | elapsed:    0.2s\n",
      "[Parallel(n_jobs=-1)]: Done 108 tasks      | elapsed:    2.3s\n",
      "[Parallel(n_jobs=-1)]: Done 122 out of 133 | elapsed:    2.6s remaining:    0.1s\n",
      "[Parallel(n_jobs=-1)]: Done 133 out of 133 | elapsed:    2.7s finished\n"
     ]
    },
    {
     "name": "stdout",
     "output_type": "stream",
     "text": [
      "Dropping column : dd_18_lag1 at index - 47\n"
     ]
    },
    {
     "name": "stderr",
     "output_type": "stream",
     "text": [
      "[Parallel(n_jobs=-1)]: Using backend LokyBackend with 6 concurrent workers.\n",
      "[Parallel(n_jobs=-1)]: Done   6 tasks      | elapsed:    0.2s\n",
      "[Parallel(n_jobs=-1)]: Done 108 tasks      | elapsed:    2.2s\n",
      "[Parallel(n_jobs=-1)]: Done 132 out of 132 | elapsed:    2.6s finished\n"
     ]
    },
    {
     "name": "stdout",
     "output_type": "stream",
     "text": [
      "Dropping column : dd_18_lag2 at index - 47\n"
     ]
    },
    {
     "name": "stderr",
     "output_type": "stream",
     "text": [
      "[Parallel(n_jobs=-1)]: Using backend LokyBackend with 6 concurrent workers.\n",
      "[Parallel(n_jobs=-1)]: Done   6 tasks      | elapsed:    0.1s\n",
      "[Parallel(n_jobs=-1)]: Done 108 tasks      | elapsed:    2.2s\n",
      "[Parallel(n_jobs=-1)]: Done 120 out of 131 | elapsed:    2.3s remaining:    0.1s\n",
      "[Parallel(n_jobs=-1)]: Done 131 out of 131 | elapsed:    2.5s finished\n",
      "[Parallel(n_jobs=-1)]: Using backend LokyBackend with 6 concurrent workers.\n"
     ]
    },
    {
     "name": "stdout",
     "output_type": "stream",
     "text": [
      "Dropping column : dd_18 at index - 46\n"
     ]
    },
    {
     "name": "stderr",
     "output_type": "stream",
     "text": [
      "[Parallel(n_jobs=-1)]: Done   6 tasks      | elapsed:    0.1s\n",
      "[Parallel(n_jobs=-1)]: Done 108 tasks      | elapsed:    2.2s\n",
      "[Parallel(n_jobs=-1)]: Done 130 out of 130 | elapsed:    2.5s finished\n"
     ]
    },
    {
     "name": "stdout",
     "output_type": "stream",
     "text": [
      "Dropping column : map_lag3 at index - 61\n"
     ]
    },
    {
     "name": "stderr",
     "output_type": "stream",
     "text": [
      "[Parallel(n_jobs=-1)]: Using backend LokyBackend with 6 concurrent workers.\n",
      "[Parallel(n_jobs=-1)]: Done   6 tasks      | elapsed:    0.1s\n",
      "[Parallel(n_jobs=-1)]: Done 108 tasks      | elapsed:    2.1s\n",
      "[Parallel(n_jobs=-1)]: Done 118 out of 129 | elapsed:    2.3s remaining:    0.1s\n",
      "[Parallel(n_jobs=-1)]: Done 129 out of 129 | elapsed:    2.4s finished\n",
      "[Parallel(n_jobs=-1)]: Using backend LokyBackend with 6 concurrent workers.\n"
     ]
    },
    {
     "name": "stdout",
     "output_type": "stream",
     "text": [
      "Dropping column : map_lag2 at index - 60\n"
     ]
    },
    {
     "name": "stderr",
     "output_type": "stream",
     "text": [
      "[Parallel(n_jobs=-1)]: Done   6 tasks      | elapsed:    0.1s\n",
      "[Parallel(n_jobs=-1)]: Done 108 tasks      | elapsed:    2.1s\n",
      "[Parallel(n_jobs=-1)]: Done 117 out of 128 | elapsed:    2.3s remaining:    0.1s\n",
      "[Parallel(n_jobs=-1)]: Done 128 out of 128 | elapsed:    2.4s finished\n"
     ]
    },
    {
     "name": "stdout",
     "output_type": "stream",
     "text": [
      "Dropping column : map_lag1 at index - 59\n"
     ]
    },
    {
     "name": "stderr",
     "output_type": "stream",
     "text": [
      "[Parallel(n_jobs=-1)]: Using backend LokyBackend with 6 concurrent workers.\n",
      "[Parallel(n_jobs=-1)]: Done   6 tasks      | elapsed:    0.1s\n",
      "[Parallel(n_jobs=-1)]: Done 108 tasks      | elapsed:    2.1s\n",
      "[Parallel(n_jobs=-1)]: Done 127 out of 127 | elapsed:    2.3s finished\n",
      "[Parallel(n_jobs=-1)]: Using backend LokyBackend with 6 concurrent workers.\n"
     ]
    },
    {
     "name": "stdout",
     "output_type": "stream",
     "text": [
      "Dropping column : dd5 at index - 30\n"
     ]
    },
    {
     "name": "stderr",
     "output_type": "stream",
     "text": [
      "[Parallel(n_jobs=-1)]: Done   6 tasks      | elapsed:    0.1s\n",
      "[Parallel(n_jobs=-1)]: Done 108 tasks      | elapsed:    2.0s\n",
      "[Parallel(n_jobs=-1)]: Done 115 out of 126 | elapsed:    2.1s remaining:    0.1s\n",
      "[Parallel(n_jobs=-1)]: Done 126 out of 126 | elapsed:    2.3s finished\n",
      "[Parallel(n_jobs=-1)]: Using backend LokyBackend with 6 concurrent workers.\n"
     ]
    },
    {
     "name": "stdout",
     "output_type": "stream",
     "text": [
      "Dropping column : map at index - 57\n"
     ]
    },
    {
     "name": "stderr",
     "output_type": "stream",
     "text": [
      "[Parallel(n_jobs=-1)]: Done   6 tasks      | elapsed:    0.1s\n",
      "[Parallel(n_jobs=-1)]: Done 108 tasks      | elapsed:    2.0s\n",
      "[Parallel(n_jobs=-1)]: Done 114 out of 125 | elapsed:    2.0s remaining:    0.1s\n",
      "[Parallel(n_jobs=-1)]: Done 125 out of 125 | elapsed:    2.2s finished\n"
     ]
    },
    {
     "name": "stdout",
     "output_type": "stream",
     "text": [
      "Dropping column : tave_sm_lag1 at index - 110\n"
     ]
    },
    {
     "name": "stderr",
     "output_type": "stream",
     "text": [
      "[Parallel(n_jobs=-1)]: Using backend LokyBackend with 6 concurrent workers.\n",
      "[Parallel(n_jobs=-1)]: Done   6 tasks      | elapsed:    0.1s\n",
      "[Parallel(n_jobs=-1)]: Done 124 out of 124 | elapsed:    2.1s finished\n",
      "[Parallel(n_jobs=-1)]: Using backend LokyBackend with 6 concurrent workers.\n"
     ]
    },
    {
     "name": "stdout",
     "output_type": "stream",
     "text": [
      "Dropping column : effp_lag2 at index - 122\n"
     ]
    },
    {
     "name": "stderr",
     "output_type": "stream",
     "text": [
      "[Parallel(n_jobs=-1)]: Done   6 tasks      | elapsed:    0.1s\n",
      "[Parallel(n_jobs=-1)]: Done 112 out of 123 | elapsed:    2.0s remaining:    0.1s\n",
      "[Parallel(n_jobs=-1)]: Done 123 out of 123 | elapsed:    2.2s finished\n"
     ]
    },
    {
     "name": "stdout",
     "output_type": "stream",
     "text": [
      "Dropping column : effp at index - 120\n"
     ]
    },
    {
     "name": "stderr",
     "output_type": "stream",
     "text": [
      "[Parallel(n_jobs=-1)]: Using backend LokyBackend with 6 concurrent workers.\n",
      "[Parallel(n_jobs=-1)]: Done   6 tasks      | elapsed:    0.1s\n",
      "[Parallel(n_jobs=-1)]: Done 122 out of 122 | elapsed:    2.1s finished\n",
      "[Parallel(n_jobs=-1)]: Using backend LokyBackend with 6 concurrent workers.\n"
     ]
    },
    {
     "name": "stdout",
     "output_type": "stream",
     "text": [
      "Dropping column : tave_sm_lag3 at index - 111\n"
     ]
    },
    {
     "name": "stderr",
     "output_type": "stream",
     "text": [
      "[Parallel(n_jobs=-1)]: Done   6 tasks      | elapsed:    0.1s\n",
      "[Parallel(n_jobs=-1)]: Done 110 out of 121 | elapsed:    2.0s remaining:    0.1s\n",
      "[Parallel(n_jobs=-1)]: Done 121 out of 121 | elapsed:    2.1s finished\n"
     ]
    },
    {
     "name": "stdout",
     "output_type": "stream",
     "text": [
      "Dropping column : effp_lag3 at index - 120\n"
     ]
    },
    {
     "name": "stderr",
     "output_type": "stream",
     "text": [
      "[Parallel(n_jobs=-1)]: Using backend LokyBackend with 6 concurrent workers.\n",
      "[Parallel(n_jobs=-1)]: Done   6 tasks      | elapsed:    0.1s\n",
      "[Parallel(n_jobs=-1)]: Done 120 out of 120 | elapsed:    2.1s finished\n",
      "[Parallel(n_jobs=-1)]: Using backend LokyBackend with 6 concurrent workers.\n"
     ]
    },
    {
     "name": "stdout",
     "output_type": "stream",
     "text": [
      "Dropping column : effp_lag1 at index - 119\n"
     ]
    },
    {
     "name": "stderr",
     "output_type": "stream",
     "text": [
      "[Parallel(n_jobs=-1)]: Done   6 tasks      | elapsed:    0.1s\n",
      "[Parallel(n_jobs=-1)]: Done 106 tasks      | elapsed:    1.8s\n",
      "[Parallel(n_jobs=-1)]: Done 119 out of 119 | elapsed:    2.0s finished\n"
     ]
    },
    {
     "name": "stdout",
     "output_type": "stream",
     "text": [
      "Dropping column : tave_sm_lag2 at index - 110\n"
     ]
    },
    {
     "name": "stderr",
     "output_type": "stream",
     "text": [
      "[Parallel(n_jobs=-1)]: Using backend LokyBackend with 6 concurrent workers.\n",
      "[Parallel(n_jobs=-1)]: Done   6 tasks      | elapsed:    0.1s\n",
      "[Parallel(n_jobs=-1)]: Done 107 out of 118 | elapsed:    1.9s remaining:    0.1s\n",
      "[Parallel(n_jobs=-1)]: Done 118 out of 118 | elapsed:    2.0s finished\n"
     ]
    },
    {
     "name": "stdout",
     "output_type": "stream",
     "text": [
      "Dropping column : dd5_lag1 at index - 30\n"
     ]
    },
    {
     "name": "stderr",
     "output_type": "stream",
     "text": [
      "[Parallel(n_jobs=-1)]: Using backend LokyBackend with 6 concurrent workers.\n",
      "[Parallel(n_jobs=-1)]: Done   6 tasks      | elapsed:    0.2s\n",
      "[Parallel(n_jobs=-1)]: Done 117 out of 117 | elapsed:    1.9s finished\n",
      "[Parallel(n_jobs=-1)]: Using backend LokyBackend with 6 concurrent workers.\n"
     ]
    },
    {
     "name": "stdout",
     "output_type": "stream",
     "text": [
      "Dropping column : tave_sm at index - 108\n"
     ]
    },
    {
     "name": "stderr",
     "output_type": "stream",
     "text": [
      "[Parallel(n_jobs=-1)]: Done   6 tasks      | elapsed:    0.1s\n",
      "[Parallel(n_jobs=-1)]: Done 105 out of 116 | elapsed:    1.7s remaining:    0.1s\n",
      "[Parallel(n_jobs=-1)]: Done 116 out of 116 | elapsed:    1.9s finished\n"
     ]
    },
    {
     "name": "stdout",
     "output_type": "stream",
     "text": [
      "Dropping column : dd5_lag3 at index - 31\n"
     ]
    },
    {
     "name": "stderr",
     "output_type": "stream",
     "text": [
      "[Parallel(n_jobs=-1)]: Using backend LokyBackend with 6 concurrent workers.\n",
      "[Parallel(n_jobs=-1)]: Done   6 tasks      | elapsed:    0.1s\n",
      "[Parallel(n_jobs=-1)]: Done 104 out of 115 | elapsed:    1.7s remaining:    0.1s\n",
      "[Parallel(n_jobs=-1)]: Done 115 out of 115 | elapsed:    1.9s finished\n"
     ]
    },
    {
     "name": "stdout",
     "output_type": "stream",
     "text": [
      "Dropping column : dd5_lag2 at index - 30\n"
     ]
    },
    {
     "name": "stderr",
     "output_type": "stream",
     "text": [
      "[Parallel(n_jobs=-1)]: Using backend LokyBackend with 6 concurrent workers.\n",
      "[Parallel(n_jobs=-1)]: Done   6 tasks      | elapsed:    0.1s\n",
      "[Parallel(n_jobs=-1)]: Done 114 out of 114 | elapsed:    1.8s finished\n",
      "[Parallel(n_jobs=-1)]: Using backend LokyBackend with 6 concurrent workers.\n"
     ]
    },
    {
     "name": "stdout",
     "output_type": "stream",
     "text": [
      "Dropping column : dd1040_lag1 at index - 19\n"
     ]
    },
    {
     "name": "stderr",
     "output_type": "stream",
     "text": [
      "[Parallel(n_jobs=-1)]: Done   6 tasks      | elapsed:    0.0s\n",
      "[Parallel(n_jobs=-1)]: Done 102 out of 113 | elapsed:    1.6s remaining:    0.1s\n",
      "[Parallel(n_jobs=-1)]: Done 113 out of 113 | elapsed:    1.7s finished\n"
     ]
    },
    {
     "name": "stdout",
     "output_type": "stream",
     "text": [
      "Dropping column : dd1040 at index - 18\n"
     ]
    },
    {
     "name": "stderr",
     "output_type": "stream",
     "text": [
      "[Parallel(n_jobs=-1)]: Using backend LokyBackend with 6 concurrent workers.\n",
      "[Parallel(n_jobs=-1)]: Done   6 tasks      | elapsed:    0.1s\n",
      "[Parallel(n_jobs=-1)]: Done 112 out of 112 | elapsed:    1.7s finished\n",
      "[Parallel(n_jobs=-1)]: Using backend LokyBackend with 6 concurrent workers.\n"
     ]
    },
    {
     "name": "stdout",
     "output_type": "stream",
     "text": [
      "Dropping column : dd1040_lag3 at index - 19\n"
     ]
    },
    {
     "name": "stderr",
     "output_type": "stream",
     "text": [
      "[Parallel(n_jobs=-1)]: Done   6 tasks      | elapsed:    0.1s\n",
      "[Parallel(n_jobs=-1)]: Done 100 out of 111 | elapsed:    1.6s remaining:    0.1s\n",
      "[Parallel(n_jobs=-1)]: Done 111 out of 111 | elapsed:    1.7s finished\n"
     ]
    },
    {
     "name": "stdout",
     "output_type": "stream",
     "text": [
      "Dropping column : dd1040_lag2 at index - 18\n"
     ]
    },
    {
     "name": "stderr",
     "output_type": "stream",
     "text": [
      "[Parallel(n_jobs=-1)]: Using backend LokyBackend with 6 concurrent workers.\n",
      "[Parallel(n_jobs=-1)]: Done   6 tasks      | elapsed:    0.1s\n",
      "[Parallel(n_jobs=-1)]: Done 110 out of 110 | elapsed:    1.7s finished\n",
      "[Parallel(n_jobs=-1)]: Using backend LokyBackend with 6 concurrent workers.\n"
     ]
    },
    {
     "name": "stdout",
     "output_type": "stream",
     "text": [
      "Dropping column : bffp at index - 106\n"
     ]
    },
    {
     "name": "stderr",
     "output_type": "stream",
     "text": [
      "[Parallel(n_jobs=-1)]: Done   6 tasks      | elapsed:    0.1s\n",
      "[Parallel(n_jobs=-1)]: Done  98 out of 109 | elapsed:    1.5s remaining:    0.1s\n",
      "[Parallel(n_jobs=-1)]: Done 109 out of 109 | elapsed:    1.7s finished\n"
     ]
    },
    {
     "name": "stdout",
     "output_type": "stream",
     "text": [
      "Dropping column : bffp_lag2 at index - 107\n"
     ]
    },
    {
     "name": "stderr",
     "output_type": "stream",
     "text": [
      "[Parallel(n_jobs=-1)]: Using backend LokyBackend with 6 concurrent workers.\n",
      "[Parallel(n_jobs=-1)]: Done   6 tasks      | elapsed:    0.1s\n",
      "[Parallel(n_jobs=-1)]: Done 108 out of 108 | elapsed:    1.7s finished\n",
      "[Parallel(n_jobs=-1)]: Using backend LokyBackend with 6 concurrent workers.\n"
     ]
    },
    {
     "name": "stdout",
     "output_type": "stream",
     "text": [
      "Dropping column : bffp_lag3 at index - 107\n"
     ]
    },
    {
     "name": "stderr",
     "output_type": "stream",
     "text": [
      "[Parallel(n_jobs=-1)]: Done   6 tasks      | elapsed:    0.1s\n",
      "[Parallel(n_jobs=-1)]: Done  96 out of 107 | elapsed:    1.4s remaining:    0.1s\n",
      "[Parallel(n_jobs=-1)]: Done 107 out of 107 | elapsed:    1.6s finished\n"
     ]
    },
    {
     "name": "stdout",
     "output_type": "stream",
     "text": [
      "Dropping column : bffp_lag1 at index - 106\n"
     ]
    },
    {
     "name": "stderr",
     "output_type": "stream",
     "text": [
      "[Parallel(n_jobs=-1)]: Using backend LokyBackend with 6 concurrent workers.\n",
      "[Parallel(n_jobs=-1)]: Done   6 tasks      | elapsed:    0.1s\n",
      "[Parallel(n_jobs=-1)]: Done  95 out of 106 | elapsed:    1.5s remaining:    0.1s\n",
      "[Parallel(n_jobs=-1)]: Done 106 out of 106 | elapsed:    1.6s finished\n"
     ]
    },
    {
     "name": "stdout",
     "output_type": "stream",
     "text": [
      "Dropping column : ppt_sm_lag1 at index - 79\n"
     ]
    },
    {
     "name": "stderr",
     "output_type": "stream",
     "text": [
      "[Parallel(n_jobs=-1)]: Using backend LokyBackend with 6 concurrent workers.\n",
      "[Parallel(n_jobs=-1)]: Done   6 tasks      | elapsed:    0.1s\n",
      "[Parallel(n_jobs=-1)]: Done  94 out of 105 | elapsed:    1.4s remaining:    0.1s\n",
      "[Parallel(n_jobs=-1)]: Done 105 out of 105 | elapsed:    1.5s finished\n"
     ]
    },
    {
     "name": "stdout",
     "output_type": "stream",
     "text": [
      "Dropping column : dd_0_wt_lag2 at index - 36\n"
     ]
    },
    {
     "name": "stderr",
     "output_type": "stream",
     "text": [
      "[Parallel(n_jobs=-1)]: Using backend LokyBackend with 6 concurrent workers.\n",
      "[Parallel(n_jobs=-1)]: Done   6 tasks      | elapsed:    0.1s\n",
      "[Parallel(n_jobs=-1)]: Done  93 out of 104 | elapsed:    1.4s remaining:    0.1s\n",
      "[Parallel(n_jobs=-1)]: Done 104 out of 104 | elapsed:    1.5s finished\n"
     ]
    },
    {
     "name": "stdout",
     "output_type": "stream",
     "text": [
      "Dropping column : tave_wt at index - 100\n"
     ]
    },
    {
     "name": "stderr",
     "output_type": "stream",
     "text": [
      "[Parallel(n_jobs=-1)]: Using backend LokyBackend with 6 concurrent workers.\n",
      "[Parallel(n_jobs=-1)]: Done   6 tasks      | elapsed:    0.1s\n",
      "[Parallel(n_jobs=-1)]: Done  92 out of 103 | elapsed:    1.3s remaining:    0.1s\n",
      "[Parallel(n_jobs=-1)]: Done 103 out of 103 | elapsed:    1.5s finished\n"
     ]
    },
    {
     "name": "stdout",
     "output_type": "stream",
     "text": [
      "Dropping column : dd_0_wt_lag3 at index - 36\n"
     ]
    },
    {
     "name": "stderr",
     "output_type": "stream",
     "text": [
      "[Parallel(n_jobs=-1)]: Using backend LokyBackend with 6 concurrent workers.\n",
      "[Parallel(n_jobs=-1)]: Done   6 tasks      | elapsed:    0.1s\n",
      "[Parallel(n_jobs=-1)]: Done 102 out of 102 | elapsed:    1.5s finished\n",
      "[Parallel(n_jobs=-1)]: Using backend LokyBackend with 6 concurrent workers.\n"
     ]
    },
    {
     "name": "stdout",
     "output_type": "stream",
     "text": [
      "Dropping column : dd_0_wt_lag1 at index - 35\n"
     ]
    },
    {
     "name": "stderr",
     "output_type": "stream",
     "text": [
      "[Parallel(n_jobs=-1)]: Done   6 tasks      | elapsed:    0.1s\n",
      "[Parallel(n_jobs=-1)]: Done 101 out of 101 | elapsed:    1.4s finished\n",
      "[Parallel(n_jobs=-1)]: Using backend LokyBackend with 6 concurrent workers.\n"
     ]
    },
    {
     "name": "stdout",
     "output_type": "stream",
     "text": [
      "Dropping column : ppt_sm_lag3 at index - 77\n"
     ]
    },
    {
     "name": "stderr",
     "output_type": "stream",
     "text": [
      "[Parallel(n_jobs=-1)]: Done   6 tasks      | elapsed:    0.0s\n",
      "[Parallel(n_jobs=-1)]: Done 100 out of 100 | elapsed:    1.3s finished\n",
      "[Parallel(n_jobs=-1)]: Using backend LokyBackend with 6 concurrent workers.\n"
     ]
    },
    {
     "name": "stdout",
     "output_type": "stream",
     "text": [
      "Dropping column : td_lag3 at index - 96\n"
     ]
    },
    {
     "name": "stderr",
     "output_type": "stream",
     "text": [
      "[Parallel(n_jobs=-1)]: Done   6 tasks      | elapsed:    0.1s\n",
      "[Parallel(n_jobs=-1)]: Done  88 out of  99 | elapsed:    1.2s remaining:    0.1s\n",
      "[Parallel(n_jobs=-1)]: Done  99 out of  99 | elapsed:    1.3s finished\n"
     ]
    },
    {
     "name": "stdout",
     "output_type": "stream",
     "text": [
      "Dropping column : td_lag1 at index - 94\n"
     ]
    },
    {
     "name": "stderr",
     "output_type": "stream",
     "text": [
      "[Parallel(n_jobs=-1)]: Using backend LokyBackend with 6 concurrent workers.\n",
      "[Parallel(n_jobs=-1)]: Done   6 tasks      | elapsed:    0.0s\n",
      "[Parallel(n_jobs=-1)]: Done  98 out of  98 | elapsed:    1.3s finished\n",
      "[Parallel(n_jobs=-1)]: Using backend LokyBackend with 6 concurrent workers.\n"
     ]
    },
    {
     "name": "stdout",
     "output_type": "stream",
     "text": [
      "Dropping column : ffp_lag1 at index - 44\n"
     ]
    },
    {
     "name": "stderr",
     "output_type": "stream",
     "text": [
      "[Parallel(n_jobs=-1)]: Done   6 tasks      | elapsed:    0.0s\n",
      "[Parallel(n_jobs=-1)]: Done  86 out of  97 | elapsed:    1.1s remaining:    0.1s\n",
      "[Parallel(n_jobs=-1)]: Done  97 out of  97 | elapsed:    1.2s finished\n"
     ]
    },
    {
     "name": "stdout",
     "output_type": "stream",
     "text": [
      "Dropping column : td at index - 92\n"
     ]
    },
    {
     "name": "stderr",
     "output_type": "stream",
     "text": [
      "[Parallel(n_jobs=-1)]: Using backend LokyBackend with 6 concurrent workers.\n",
      "[Parallel(n_jobs=-1)]: Done   6 tasks      | elapsed:    0.1s\n",
      "[Parallel(n_jobs=-1)]: Done  85 out of  96 | elapsed:    1.1s remaining:    0.1s\n",
      "[Parallel(n_jobs=-1)]: Done  96 out of  96 | elapsed:    1.2s finished\n"
     ]
    },
    {
     "name": "stdout",
     "output_type": "stream",
     "text": [
      "Dropping column : ffp at index - 43\n"
     ]
    },
    {
     "name": "stderr",
     "output_type": "stream",
     "text": [
      "[Parallel(n_jobs=-1)]: Using backend LokyBackend with 6 concurrent workers.\n",
      "[Parallel(n_jobs=-1)]: Done   6 tasks      | elapsed:    0.1s\n",
      "[Parallel(n_jobs=-1)]: Done  84 out of  95 | elapsed:    1.1s remaining:    0.1s\n",
      "[Parallel(n_jobs=-1)]: Done  95 out of  95 | elapsed:    1.2s finished\n"
     ]
    },
    {
     "name": "stdout",
     "output_type": "stream",
     "text": [
      "Dropping column : dd18_lag3 at index - 21\n"
     ]
    },
    {
     "name": "stderr",
     "output_type": "stream",
     "text": [
      "[Parallel(n_jobs=-1)]: Using backend LokyBackend with 6 concurrent workers.\n",
      "[Parallel(n_jobs=-1)]: Done   6 tasks      | elapsed:    0.1s\n",
      "[Parallel(n_jobs=-1)]: Done  83 out of  94 | elapsed:    1.1s remaining:    0.1s\n",
      "[Parallel(n_jobs=-1)]: Done  94 out of  94 | elapsed:    1.2s finished\n",
      "[Parallel(n_jobs=-1)]: Using backend LokyBackend with 6 concurrent workers.\n"
     ]
    },
    {
     "name": "stdout",
     "output_type": "stream",
     "text": [
      "Dropping column : ppt_sm_lag2 at index - 73\n"
     ]
    },
    {
     "name": "stderr",
     "output_type": "stream",
     "text": [
      "[Parallel(n_jobs=-1)]: Done   6 tasks      | elapsed:    0.0s\n",
      "[Parallel(n_jobs=-1)]: Done  93 out of  93 | elapsed:    1.1s finished\n",
      "[Parallel(n_jobs=-1)]: Using backend LokyBackend with 6 concurrent workers.\n"
     ]
    },
    {
     "name": "stdout",
     "output_type": "stream",
     "text": [
      "Dropping column : ffp_lag2 at index - 42\n"
     ]
    },
    {
     "name": "stderr",
     "output_type": "stream",
     "text": [
      "[Parallel(n_jobs=-1)]: Done   6 tasks      | elapsed:    0.1s\n",
      "[Parallel(n_jobs=-1)]: Done  81 out of  92 | elapsed:    1.1s remaining:    0.1s\n",
      "[Parallel(n_jobs=-1)]: Done  92 out of  92 | elapsed:    1.1s finished\n"
     ]
    },
    {
     "name": "stdout",
     "output_type": "stream",
     "text": [
      "Dropping column : ffp_lag3 at index - 42\n"
     ]
    },
    {
     "name": "stderr",
     "output_type": "stream",
     "text": [
      "[Parallel(n_jobs=-1)]: Using backend LokyBackend with 6 concurrent workers.\n",
      "[Parallel(n_jobs=-1)]: Done   6 tasks      | elapsed:    0.1s\n",
      "[Parallel(n_jobs=-1)]: Done  80 out of  91 | elapsed:    1.1s remaining:    0.1s\n",
      "[Parallel(n_jobs=-1)]: Done  91 out of  91 | elapsed:    1.2s finished\n"
     ]
    },
    {
     "name": "stdout",
     "output_type": "stream",
     "text": [
      "Dropping column : td_lag2 at index - 87\n"
     ]
    },
    {
     "name": "stderr",
     "output_type": "stream",
     "text": [
      "[Parallel(n_jobs=-1)]: Using backend LokyBackend with 6 concurrent workers.\n",
      "[Parallel(n_jobs=-1)]: Done   6 tasks      | elapsed:    0.0s\n",
      "[Parallel(n_jobs=-1)]: Done  90 out of  90 | elapsed:    1.1s finished\n",
      "[Parallel(n_jobs=-1)]: Using backend LokyBackend with 6 concurrent workers.\n"
     ]
    },
    {
     "name": "stdout",
     "output_type": "stream",
     "text": [
      "Dropping column : eref_lag2 at index - 40\n"
     ]
    },
    {
     "name": "stderr",
     "output_type": "stream",
     "text": [
      "[Parallel(n_jobs=-1)]: Done   6 tasks      | elapsed:    0.1s\n",
      "[Parallel(n_jobs=-1)]: Done  78 out of  89 | elapsed:    1.1s remaining:    0.1s\n",
      "[Parallel(n_jobs=-1)]: Done  89 out of  89 | elapsed:    1.2s finished\n"
     ]
    },
    {
     "name": "stdout",
     "output_type": "stream",
     "text": [
      "Dropping column : ppt_sm at index - 69\n"
     ]
    },
    {
     "name": "stderr",
     "output_type": "stream",
     "text": [
      "[Parallel(n_jobs=-1)]: Using backend LokyBackend with 6 concurrent workers.\n",
      "[Parallel(n_jobs=-1)]: Done   6 tasks      | elapsed:    0.0s\n",
      "[Parallel(n_jobs=-1)]: Done  88 out of  88 | elapsed:    1.1s finished\n",
      "[Parallel(n_jobs=-1)]: Using backend LokyBackend with 6 concurrent workers.\n"
     ]
    },
    {
     "name": "stdout",
     "output_type": "stream",
     "text": [
      "Dropping column : dd18_lag2 at index - 20\n"
     ]
    },
    {
     "name": "stderr",
     "output_type": "stream",
     "text": [
      "[Parallel(n_jobs=-1)]: Done   6 tasks      | elapsed:    0.0s\n",
      "[Parallel(n_jobs=-1)]: Done  87 out of  87 | elapsed:    1.0s finished\n",
      "[Parallel(n_jobs=-1)]: Using backend LokyBackend with 6 concurrent workers.\n"
     ]
    },
    {
     "name": "stdout",
     "output_type": "stream",
     "text": [
      "Dropping column : eref_lag3 at index - 39\n"
     ]
    },
    {
     "name": "stderr",
     "output_type": "stream",
     "text": [
      "[Parallel(n_jobs=-1)]: Done   6 tasks      | elapsed:    0.1s\n",
      "[Parallel(n_jobs=-1)]: Done  86 out of  86 | elapsed:    1.1s finished\n",
      "[Parallel(n_jobs=-1)]: Using backend LokyBackend with 6 concurrent workers.\n"
     ]
    },
    {
     "name": "stdout",
     "output_type": "stream",
     "text": [
      "Dropping column : eref at index - 37\n"
     ]
    },
    {
     "name": "stderr",
     "output_type": "stream",
     "text": [
      "[Parallel(n_jobs=-1)]: Done   6 tasks      | elapsed:    0.0s\n",
      "[Parallel(n_jobs=-1)]: Done  56 out of  85 | elapsed:    0.7s remaining:    0.3s\n",
      "[Parallel(n_jobs=-1)]: Done  85 out of  85 | elapsed:    1.0s finished\n",
      "[Parallel(n_jobs=-1)]: Using backend LokyBackend with 6 concurrent workers.\n"
     ]
    },
    {
     "name": "stdout",
     "output_type": "stream",
     "text": [
      "Dropping column : rh_lag1 at index - 71\n"
     ]
    },
    {
     "name": "stderr",
     "output_type": "stream",
     "text": [
      "[Parallel(n_jobs=-1)]: Done   6 tasks      | elapsed:    0.0s\n",
      "[Parallel(n_jobs=-1)]: Done  56 out of  84 | elapsed:    0.7s remaining:    0.3s\n",
      "[Parallel(n_jobs=-1)]: Done  84 out of  84 | elapsed:    1.0s finished\n",
      "[Parallel(n_jobs=-1)]: Using backend LokyBackend with 6 concurrent workers.\n"
     ]
    },
    {
     "name": "stdout",
     "output_type": "stream",
     "text": [
      "Dropping column : rh_lag3 at index - 72\n"
     ]
    },
    {
     "name": "stderr",
     "output_type": "stream",
     "text": [
      "[Parallel(n_jobs=-1)]: Done   6 tasks      | elapsed:    0.1s\n",
      "[Parallel(n_jobs=-1)]: Done  83 out of  83 | elapsed:    0.9s finished\n",
      "[Parallel(n_jobs=-1)]: Using backend LokyBackend with 6 concurrent workers.\n"
     ]
    },
    {
     "name": "stdout",
     "output_type": "stream",
     "text": [
      "Dropping column : rh_sm_lag1 at index - 73\n"
     ]
    },
    {
     "name": "stderr",
     "output_type": "stream",
     "text": [
      "[Parallel(n_jobs=-1)]: Done   6 tasks      | elapsed:    0.1s\n",
      "[Parallel(n_jobs=-1)]: Done  82 out of  82 | elapsed:    0.9s finished\n",
      "[Parallel(n_jobs=-1)]: Using backend LokyBackend with 6 concurrent workers.\n"
     ]
    },
    {
     "name": "stdout",
     "output_type": "stream",
     "text": [
      "Dropping column : rh_lag2 at index - 71\n"
     ]
    },
    {
     "name": "stderr",
     "output_type": "stream",
     "text": [
      "[Parallel(n_jobs=-1)]: Done   6 tasks      | elapsed:    0.1s\n",
      "[Parallel(n_jobs=-1)]: Done  81 out of  81 | elapsed:    0.9s finished\n",
      "[Parallel(n_jobs=-1)]: Using backend LokyBackend with 6 concurrent workers.\n"
     ]
    },
    {
     "name": "stdout",
     "output_type": "stream",
     "text": [
      "Dropping column : mat_lag1 at index - 39\n"
     ]
    },
    {
     "name": "stderr",
     "output_type": "stream",
     "text": [
      "[Parallel(n_jobs=-1)]: Done   6 tasks      | elapsed:    0.1s\n",
      "[Parallel(n_jobs=-1)]: Done  80 out of  80 | elapsed:    0.8s finished\n",
      "[Parallel(n_jobs=-1)]: Using backend LokyBackend with 6 concurrent workers.\n"
     ]
    },
    {
     "name": "stdout",
     "output_type": "stream",
     "text": [
      "Dropping column : rh at index - 69\n"
     ]
    },
    {
     "name": "stderr",
     "output_type": "stream",
     "text": [
      "[Parallel(n_jobs=-1)]: Done   6 tasks      | elapsed:    0.1s\n",
      "[Parallel(n_jobs=-1)]: Done  79 out of  79 | elapsed:    0.9s finished\n",
      "[Parallel(n_jobs=-1)]: Using backend LokyBackend with 6 concurrent workers.\n"
     ]
    },
    {
     "name": "stdout",
     "output_type": "stream",
     "text": [
      "Dropping column : rh_sm_lag2 at index - 70\n"
     ]
    },
    {
     "name": "stderr",
     "output_type": "stream",
     "text": [
      "[Parallel(n_jobs=-1)]: Done   6 tasks      | elapsed:    0.0s\n",
      "[Parallel(n_jobs=-1)]: Done  78 out of  78 | elapsed:    0.8s finished\n",
      "[Parallel(n_jobs=-1)]: Using backend LokyBackend with 6 concurrent workers.\n"
     ]
    },
    {
     "name": "stdout",
     "output_type": "stream",
     "text": [
      "Dropping column : mat at index - 38\n"
     ]
    },
    {
     "name": "stderr",
     "output_type": "stream",
     "text": [
      "[Parallel(n_jobs=-1)]: Done   6 tasks      | elapsed:    0.0s\n",
      "[Parallel(n_jobs=-1)]: Done  66 out of  77 | elapsed:    0.7s remaining:    0.0s\n",
      "[Parallel(n_jobs=-1)]: Done  77 out of  77 | elapsed:    0.7s finished\n"
     ]
    },
    {
     "name": "stdout",
     "output_type": "stream",
     "text": [
      "Dropping column : dd_0_lag2 at index - 30\n"
     ]
    },
    {
     "name": "stderr",
     "output_type": "stream",
     "text": [
      "[Parallel(n_jobs=-1)]: Using backend LokyBackend with 6 concurrent workers.\n",
      "[Parallel(n_jobs=-1)]: Done   6 tasks      | elapsed:    0.1s\n",
      "[Parallel(n_jobs=-1)]: Done  76 out of  76 | elapsed:    0.8s finished\n",
      "[Parallel(n_jobs=-1)]: Using backend LokyBackend with 6 concurrent workers.\n"
     ]
    },
    {
     "name": "stdout",
     "output_type": "stream",
     "text": [
      "Dropping column : rh_sm_lag3 at index - 68\n"
     ]
    },
    {
     "name": "stderr",
     "output_type": "stream",
     "text": [
      "[Parallel(n_jobs=-1)]: Done   6 tasks      | elapsed:    0.1s\n",
      "[Parallel(n_jobs=-1)]: Done  64 out of  75 | elapsed:    0.7s remaining:    0.0s\n",
      "[Parallel(n_jobs=-1)]: Done  75 out of  75 | elapsed:    0.8s finished\n"
     ]
    },
    {
     "name": "stdout",
     "output_type": "stream",
     "text": [
      "Dropping column : eref_lag1 at index - 36\n"
     ]
    },
    {
     "name": "stderr",
     "output_type": "stream",
     "text": [
      "[Parallel(n_jobs=-1)]: Using backend LokyBackend with 6 concurrent workers.\n",
      "[Parallel(n_jobs=-1)]: Done   6 tasks      | elapsed:    0.1s\n",
      "[Parallel(n_jobs=-1)]: Done  74 out of  74 | elapsed:    0.8s finished\n",
      "[Parallel(n_jobs=-1)]: Using backend LokyBackend with 6 concurrent workers.\n"
     ]
    },
    {
     "name": "stdout",
     "output_type": "stream",
     "text": [
      "Dropping column : dd_0_lag3 at index - 30\n"
     ]
    },
    {
     "name": "stderr",
     "output_type": "stream",
     "text": [
      "[Parallel(n_jobs=-1)]: Done   6 tasks      | elapsed:    0.1s\n",
      "[Parallel(n_jobs=-1)]: Done  62 out of  73 | elapsed:    0.6s remaining:    0.0s\n",
      "[Parallel(n_jobs=-1)]: Done  73 out of  73 | elapsed:    0.7s finished\n"
     ]
    },
    {
     "name": "stdout",
     "output_type": "stream",
     "text": [
      "Dropping column : dd18_lag1 at index - 19\n"
     ]
    },
    {
     "name": "stderr",
     "output_type": "stream",
     "text": [
      "[Parallel(n_jobs=-1)]: Using backend LokyBackend with 6 concurrent workers.\n",
      "[Parallel(n_jobs=-1)]: Done   6 tasks      | elapsed:    0.1s\n",
      "[Parallel(n_jobs=-1)]: Done  61 out of  72 | elapsed:    0.7s remaining:    0.0s\n",
      "[Parallel(n_jobs=-1)]: Done  72 out of  72 | elapsed:    0.7s finished\n",
      "[Parallel(n_jobs=-1)]: Using backend LokyBackend with 6 concurrent workers.\n"
     ]
    },
    {
     "name": "stdout",
     "output_type": "stream",
     "text": [
      "Dropping column : dd18 at index - 18\n"
     ]
    },
    {
     "name": "stderr",
     "output_type": "stream",
     "text": [
      "[Parallel(n_jobs=-1)]: Done   6 tasks      | elapsed:    0.1s\n",
      "[Parallel(n_jobs=-1)]: Done  60 out of  71 | elapsed:    0.6s remaining:    0.0s\n",
      "[Parallel(n_jobs=-1)]: Done  71 out of  71 | elapsed:    0.7s finished\n"
     ]
    },
    {
     "name": "stdout",
     "output_type": "stream",
     "text": [
      "Dropping column : rh_sm at index - 63\n"
     ]
    },
    {
     "name": "stderr",
     "output_type": "stream",
     "text": [
      "[Parallel(n_jobs=-1)]: Using backend LokyBackend with 6 concurrent workers.\n",
      "[Parallel(n_jobs=-1)]: Done   6 tasks      | elapsed:    0.1s\n",
      "[Parallel(n_jobs=-1)]: Done  59 out of  70 | elapsed:    0.6s remaining:    0.0s\n",
      "[Parallel(n_jobs=-1)]: Done  70 out of  70 | elapsed:    0.6s finished\n"
     ]
    },
    {
     "name": "stdout",
     "output_type": "stream",
     "text": [
      "Dropping column : rh_wt_lag3 at index - 66\n"
     ]
    },
    {
     "name": "stderr",
     "output_type": "stream",
     "text": [
      "[Parallel(n_jobs=-1)]: Using backend LokyBackend with 6 concurrent workers.\n",
      "[Parallel(n_jobs=-1)]: Done   6 tasks      | elapsed:    0.1s\n",
      "[Parallel(n_jobs=-1)]: Done  69 out of  69 | elapsed:    0.7s finished\n",
      "[Parallel(n_jobs=-1)]: Using backend LokyBackend with 6 concurrent workers.\n"
     ]
    },
    {
     "name": "stdout",
     "output_type": "stream",
     "text": [
      "Dropping column : ppt_wt_lag1 at index - 60\n"
     ]
    },
    {
     "name": "stderr",
     "output_type": "stream",
     "text": [
      "[Parallel(n_jobs=-1)]: Done   6 tasks      | elapsed:    0.0s\n",
      "[Parallel(n_jobs=-1)]: Done  68 out of  68 | elapsed:    0.6s finished\n",
      "[Parallel(n_jobs=-1)]: Using backend LokyBackend with 6 concurrent workers.\n"
     ]
    },
    {
     "name": "stdout",
     "output_type": "stream",
     "text": [
      "Dropping column : msp at index - 35\n"
     ]
    },
    {
     "name": "stderr",
     "output_type": "stream",
     "text": [
      "[Parallel(n_jobs=-1)]: Done   6 tasks      | elapsed:    0.1s\n",
      "[Parallel(n_jobs=-1)]: Done  56 out of  67 | elapsed:    0.6s remaining:    0.0s\n",
      "[Parallel(n_jobs=-1)]: Done  67 out of  67 | elapsed:    0.6s finished\n",
      "[Parallel(n_jobs=-1)]: Using backend LokyBackend with 6 concurrent workers.\n"
     ]
    },
    {
     "name": "stdout",
     "output_type": "stream",
     "text": [
      "Dropping column : ppt_wt_lag2 at index - 59\n"
     ]
    },
    {
     "name": "stderr",
     "output_type": "stream",
     "text": [
      "[Parallel(n_jobs=-1)]: Done   6 tasks      | elapsed:    0.0s\n",
      "[Parallel(n_jobs=-1)]: Done  66 out of  66 | elapsed:    0.6s finished\n",
      "[Parallel(n_jobs=-1)]: Using backend LokyBackend with 6 concurrent workers.\n"
     ]
    },
    {
     "name": "stdout",
     "output_type": "stream",
     "text": [
      "Dropping column : ppt_wt at index - 58\n"
     ]
    },
    {
     "name": "stderr",
     "output_type": "stream",
     "text": [
      "[Parallel(n_jobs=-1)]: Done   6 tasks      | elapsed:    0.0s\n",
      "[Parallel(n_jobs=-1)]: Done  40 out of  65 | elapsed:    0.4s remaining:    0.2s\n",
      "[Parallel(n_jobs=-1)]: Done  54 out of  65 | elapsed:    0.5s remaining:    0.0s\n",
      "[Parallel(n_jobs=-1)]: Done  65 out of  65 | elapsed:    0.5s finished\n"
     ]
    },
    {
     "name": "stdout",
     "output_type": "stream",
     "text": [
      "Dropping column : ppt_wt_lag3 at index - 58\n"
     ]
    },
    {
     "name": "stderr",
     "output_type": "stream",
     "text": [
      "[Parallel(n_jobs=-1)]: Using backend LokyBackend with 6 concurrent workers.\n",
      "[Parallel(n_jobs=-1)]: Done   6 tasks      | elapsed:    0.0s\n",
      "[Parallel(n_jobs=-1)]: Done  40 out of  64 | elapsed:    0.4s remaining:    0.2s\n",
      "[Parallel(n_jobs=-1)]: Done  53 out of  64 | elapsed:    0.4s remaining:    0.0s\n",
      "[Parallel(n_jobs=-1)]: Done  64 out of  64 | elapsed:    0.5s finished\n"
     ]
    },
    {
     "name": "stdout",
     "output_type": "stream",
     "text": [
      "Dropping column : rh_wt_lag1 at index - 59\n"
     ]
    },
    {
     "name": "stderr",
     "output_type": "stream",
     "text": [
      "[Parallel(n_jobs=-1)]: Using backend LokyBackend with 6 concurrent workers.\n",
      "[Parallel(n_jobs=-1)]: Done   6 tasks      | elapsed:    0.0s\n",
      "[Parallel(n_jobs=-1)]: Done  52 out of  63 | elapsed:    0.5s remaining:    0.0s\n",
      "[Parallel(n_jobs=-1)]: Done  63 out of  63 | elapsed:    0.5s finished\n"
     ]
    },
    {
     "name": "stdout",
     "output_type": "stream",
     "text": [
      "Dropping column : dd_0_lag1 at index - 27\n"
     ]
    },
    {
     "name": "stderr",
     "output_type": "stream",
     "text": [
      "[Parallel(n_jobs=-1)]: Using backend LokyBackend with 6 concurrent workers.\n",
      "[Parallel(n_jobs=-1)]: Done   6 tasks      | elapsed:    0.0s\n",
      "[Parallel(n_jobs=-1)]: Done  62 out of  62 | elapsed:    0.5s finished\n",
      "[Parallel(n_jobs=-1)]: Using backend LokyBackend with 6 concurrent workers.\n"
     ]
    },
    {
     "name": "stdout",
     "output_type": "stream",
     "text": [
      "Dropping column : mat_lag3 at index - 33\n"
     ]
    },
    {
     "name": "stderr",
     "output_type": "stream",
     "text": [
      "[Parallel(n_jobs=-1)]: Done   6 tasks      | elapsed:    0.0s\n",
      "[Parallel(n_jobs=-1)]: Done  61 out of  61 | elapsed:    0.5s finished\n",
      "[Parallel(n_jobs=-1)]: Using backend LokyBackend with 6 concurrent workers.\n"
     ]
    },
    {
     "name": "stdout",
     "output_type": "stream",
     "text": [
      "Dropping column : msp_lag1 at index - 33\n"
     ]
    },
    {
     "name": "stderr",
     "output_type": "stream",
     "text": [
      "[Parallel(n_jobs=-1)]: Done   6 tasks      | elapsed:    0.0s\n",
      "[Parallel(n_jobs=-1)]: Done  36 out of  60 | elapsed:    0.3s remaining:    0.2s\n",
      "[Parallel(n_jobs=-1)]: Done  60 out of  60 | elapsed:    0.5s finished\n"
     ]
    },
    {
     "name": "stdout",
     "output_type": "stream",
     "text": [
      "Dropping column : rh_wt_lag2 at index - 56\n"
     ]
    },
    {
     "name": "stderr",
     "output_type": "stream",
     "text": [
      "[Parallel(n_jobs=-1)]: Using backend LokyBackend with 6 concurrent workers.\n",
      "[Parallel(n_jobs=-1)]: Done   6 tasks      | elapsed:    0.0s\n",
      "[Parallel(n_jobs=-1)]: Done  59 out of  59 | elapsed:    0.5s finished\n",
      "[Parallel(n_jobs=-1)]: Using backend LokyBackend with 6 concurrent workers.\n"
     ]
    },
    {
     "name": "stdout",
     "output_type": "stream",
     "text": [
      "Dropping column : nffd_lag3 at index - 38\n"
     ]
    },
    {
     "name": "stderr",
     "output_type": "stream",
     "text": [
      "[Parallel(n_jobs=-1)]: Done   6 tasks      | elapsed:    0.0s\n",
      "[Parallel(n_jobs=-1)]: Done  58 out of  58 | elapsed:    0.4s finished\n",
      "[Parallel(n_jobs=-1)]: Using backend LokyBackend with 6 concurrent workers.\n"
     ]
    },
    {
     "name": "stdout",
     "output_type": "stream",
     "text": [
      "Dropping column : dd_0 at index - 26\n"
     ]
    },
    {
     "name": "stderr",
     "output_type": "stream",
     "text": [
      "[Parallel(n_jobs=-1)]: Done   6 tasks      | elapsed:    0.1s\n",
      "[Parallel(n_jobs=-1)]: Done  57 out of  57 | elapsed:    0.4s finished\n",
      "[Parallel(n_jobs=-1)]: Using backend LokyBackend with 6 concurrent workers.\n"
     ]
    },
    {
     "name": "stdout",
     "output_type": "stream",
     "text": [
      "Dropping column : msp_lag2 at index - 32\n"
     ]
    },
    {
     "name": "stderr",
     "output_type": "stream",
     "text": [
      "[Parallel(n_jobs=-1)]: Done   6 tasks      | elapsed:    0.1s\n",
      "[Parallel(n_jobs=-1)]: Done  56 out of  56 | elapsed:    0.4s finished\n",
      "[Parallel(n_jobs=-1)]: Using backend LokyBackend with 6 concurrent workers.\n"
     ]
    },
    {
     "name": "stdout",
     "output_type": "stream",
     "text": [
      "Dropping column : mat_lag2 at index - 31\n"
     ]
    },
    {
     "name": "stderr",
     "output_type": "stream",
     "text": [
      "[Parallel(n_jobs=-1)]: Done   6 tasks      | elapsed:    0.0s\n",
      "[Parallel(n_jobs=-1)]: Done  55 out of  55 | elapsed:    0.4s finished\n",
      "[Parallel(n_jobs=-1)]: Using backend LokyBackend with 6 concurrent workers.\n"
     ]
    },
    {
     "name": "stdout",
     "output_type": "stream",
     "text": [
      "Dropping column : nffd at index - 32\n"
     ]
    },
    {
     "name": "stderr",
     "output_type": "stream",
     "text": [
      "[Parallel(n_jobs=-1)]: Done   6 tasks      | elapsed:    0.0s\n",
      "[Parallel(n_jobs=-1)]: Done  54 out of  54 | elapsed:    0.4s remaining:    0.0s\n",
      "[Parallel(n_jobs=-1)]: Done  54 out of  54 | elapsed:    0.4s finished\n",
      "[Parallel(n_jobs=-1)]: Using backend LokyBackend with 6 concurrent workers.\n"
     ]
    },
    {
     "name": "stdout",
     "output_type": "stream",
     "text": [
      "Dropping column : msp_lag3 at index - 31\n"
     ]
    },
    {
     "name": "stderr",
     "output_type": "stream",
     "text": [
      "[Parallel(n_jobs=-1)]: Done   6 tasks      | elapsed:    0.1s\n",
      "[Parallel(n_jobs=-1)]: Done  53 out of  53 | elapsed:    0.4s remaining:    0.0s\n",
      "[Parallel(n_jobs=-1)]: Done  53 out of  53 | elapsed:    0.4s finished\n",
      "[Parallel(n_jobs=-1)]: Using backend LokyBackend with 6 concurrent workers.\n"
     ]
    },
    {
     "name": "stdout",
     "output_type": "stream",
     "text": [
      "Dropping column : nffd_lag1 at index - 31\n"
     ]
    },
    {
     "name": "stderr",
     "output_type": "stream",
     "text": [
      "[Parallel(n_jobs=-1)]: Done   6 tasks      | elapsed:    0.0s\n",
      "[Parallel(n_jobs=-1)]: Done  52 out of  52 | elapsed:    0.3s remaining:    0.0s\n",
      "[Parallel(n_jobs=-1)]: Done  52 out of  52 | elapsed:    0.3s finished\n",
      "[Parallel(n_jobs=-1)]: Using backend LokyBackend with 6 concurrent workers.\n"
     ]
    },
    {
     "name": "stdout",
     "output_type": "stream",
     "text": [
      "Dropping column : pas_wt_lag3 at index - 47\n"
     ]
    },
    {
     "name": "stderr",
     "output_type": "stream",
     "text": [
      "[Parallel(n_jobs=-1)]: Done   6 tasks      | elapsed:    0.0s\n",
      "[Parallel(n_jobs=-1)]: Done  51 out of  51 | elapsed:    0.4s remaining:    0.0s\n",
      "[Parallel(n_jobs=-1)]: Done  51 out of  51 | elapsed:    0.4s finished\n",
      "[Parallel(n_jobs=-1)]: Using backend LokyBackend with 6 concurrent workers.\n"
     ]
    },
    {
     "name": "stdout",
     "output_type": "stream",
     "text": [
      "Dropping column : nffd_lag2 at index - 31\n"
     ]
    },
    {
     "name": "stderr",
     "output_type": "stream",
     "text": [
      "[Parallel(n_jobs=-1)]: Done   6 tasks      | elapsed:    0.1s\n",
      "[Parallel(n_jobs=-1)]: Done  50 out of  50 | elapsed:    0.4s remaining:    0.0s\n",
      "[Parallel(n_jobs=-1)]: Done  50 out of  50 | elapsed:    0.4s finished\n",
      "[Parallel(n_jobs=-1)]: Using backend LokyBackend with 6 concurrent workers.\n"
     ]
    },
    {
     "name": "stdout",
     "output_type": "stream",
     "text": [
      "Dropping column : rh_wt at index - 46\n"
     ]
    },
    {
     "name": "stderr",
     "output_type": "stream",
     "text": [
      "[Parallel(n_jobs=-1)]: Done   6 tasks      | elapsed:    0.1s\n",
      "[Parallel(n_jobs=-1)]: Done  49 out of  49 | elapsed:    0.3s finished\n",
      "[Parallel(n_jobs=-1)]: Using backend LokyBackend with 6 concurrent workers.\n"
     ]
    },
    {
     "name": "stdout",
     "output_type": "stream",
     "text": [
      "Dropping column : cmi_wt_lag2 at index - 16\n"
     ]
    },
    {
     "name": "stderr",
     "output_type": "stream",
     "text": [
      "[Parallel(n_jobs=-1)]: Done   6 tasks      | elapsed:    0.1s\n",
      "[Parallel(n_jobs=-1)]: Done  37 out of  48 | elapsed:    0.3s remaining:    0.0s\n",
      "[Parallel(n_jobs=-1)]: Done  48 out of  48 | elapsed:    0.3s finished\n",
      "[Parallel(n_jobs=-1)]: Using backend LokyBackend with 6 concurrent workers.\n"
     ]
    },
    {
     "name": "stdout",
     "output_type": "stream",
     "text": [
      "Dropping column : cmi at index - 6\n"
     ]
    },
    {
     "name": "stderr",
     "output_type": "stream",
     "text": [
      "[Parallel(n_jobs=-1)]: Done   6 tasks      | elapsed:    0.1s\n",
      "[Parallel(n_jobs=-1)]: Done  36 out of  47 | elapsed:    0.3s remaining:    0.0s\n",
      "[Parallel(n_jobs=-1)]: Done  47 out of  47 | elapsed:    0.3s finished\n",
      "[Parallel(n_jobs=-1)]: Using backend LokyBackend with 6 concurrent workers.\n"
     ]
    },
    {
     "name": "stdout",
     "output_type": "stream",
     "text": [
      "Dropping column : pas_wt at index - 41\n"
     ]
    },
    {
     "name": "stderr",
     "output_type": "stream",
     "text": [
      "[Parallel(n_jobs=-1)]: Done   6 tasks      | elapsed:    0.1s\n",
      "[Parallel(n_jobs=-1)]: Done  46 out of  46 | elapsed:    0.3s finished\n",
      "[Parallel(n_jobs=-1)]: Using backend LokyBackend with 6 concurrent workers.\n"
     ]
    },
    {
     "name": "stdout",
     "output_type": "stream",
     "text": [
      "Dropping column : cmi_lag2 at index - 7\n"
     ]
    },
    {
     "name": "stderr",
     "output_type": "stream",
     "text": [
      "[Parallel(n_jobs=-1)]: Done   6 tasks      | elapsed:    0.1s\n",
      "[Parallel(n_jobs=-1)]: Done  45 out of  45 | elapsed:    0.3s finished\n",
      "[Parallel(n_jobs=-1)]: Using backend LokyBackend with 6 concurrent workers.\n"
     ]
    },
    {
     "name": "stdout",
     "output_type": "stream",
     "text": [
      "Dropping column : cmi_wt_lag1 at index - 13\n"
     ]
    },
    {
     "name": "stderr",
     "output_type": "stream",
     "text": [
      "[Parallel(n_jobs=-1)]: Done   6 tasks      | elapsed:    0.1s\n",
      "[Parallel(n_jobs=-1)]: Done  33 out of  44 | elapsed:    0.2s remaining:    0.0s\n",
      "[Parallel(n_jobs=-1)]: Done  42 out of  44 | elapsed:    0.3s remaining:    0.0s\n",
      "[Parallel(n_jobs=-1)]: Done  44 out of  44 | elapsed:    0.3s finished\n",
      "[Parallel(n_jobs=-1)]: Using backend LokyBackend with 6 concurrent workers.\n"
     ]
    },
    {
     "name": "stdout",
     "output_type": "stream",
     "text": [
      "Dropping column : pas_lag2 at index - 33\n"
     ]
    },
    {
     "name": "stderr",
     "output_type": "stream",
     "text": [
      "[Parallel(n_jobs=-1)]: Done   6 tasks      | elapsed:    0.0s\n",
      "[Parallel(n_jobs=-1)]: Done  32 out of  43 | elapsed:    0.2s remaining:    0.0s\n",
      "[Parallel(n_jobs=-1)]: Done  41 out of  43 | elapsed:    0.2s remaining:    0.0s\n",
      "[Parallel(n_jobs=-1)]: Done  43 out of  43 | elapsed:    0.2s finished\n"
     ]
    },
    {
     "name": "stdout",
     "output_type": "stream",
     "text": [
      "Dropping column : cmi_wt_lag3 at index - 13\n"
     ]
    },
    {
     "name": "stderr",
     "output_type": "stream",
     "text": [
      "[Parallel(n_jobs=-1)]: Using backend LokyBackend with 6 concurrent workers.\n",
      "[Parallel(n_jobs=-1)]: Done   6 tasks      | elapsed:    0.0s\n",
      "[Parallel(n_jobs=-1)]: Done  42 out of  42 | elapsed:    0.3s finished\n",
      "[Parallel(n_jobs=-1)]: Using backend LokyBackend with 6 concurrent workers.\n"
     ]
    },
    {
     "name": "stdout",
     "output_type": "stream",
     "text": [
      "Dropping column : dd_18_sm_lag3 at index - 25\n"
     ]
    },
    {
     "name": "stderr",
     "output_type": "stream",
     "text": [
      "[Parallel(n_jobs=-1)]: Done   6 tasks      | elapsed:    0.0s\n",
      "[Parallel(n_jobs=-1)]: Done  30 out of  41 | elapsed:    0.2s remaining:    0.0s\n",
      "[Parallel(n_jobs=-1)]: Done  39 out of  41 | elapsed:    0.2s remaining:    0.0s\n",
      "[Parallel(n_jobs=-1)]: Done  41 out of  41 | elapsed:    0.2s finished\n"
     ]
    },
    {
     "name": "stdout",
     "output_type": "stream",
     "text": [
      "Dropping column : cmi_lag3 at index - 7\n"
     ]
    },
    {
     "name": "stderr",
     "output_type": "stream",
     "text": [
      "[Parallel(n_jobs=-1)]: Using backend LokyBackend with 6 concurrent workers.\n",
      "[Parallel(n_jobs=-1)]: Done   6 tasks      | elapsed:    0.0s\n",
      "[Parallel(n_jobs=-1)]: Done  40 out of  40 | elapsed:    0.2s finished\n",
      "[Parallel(n_jobs=-1)]: Using backend LokyBackend with 6 concurrent workers.\n"
     ]
    },
    {
     "name": "stdout",
     "output_type": "stream",
     "text": [
      "Dropping column : dd_0_wt at index - 20\n"
     ]
    },
    {
     "name": "stderr",
     "output_type": "stream",
     "text": [
      "[Parallel(n_jobs=-1)]: Done   6 tasks      | elapsed:    0.0s\n",
      "[Parallel(n_jobs=-1)]: Done  28 out of  39 | elapsed:    0.1s remaining:    0.0s\n",
      "[Parallel(n_jobs=-1)]: Done  36 out of  39 | elapsed:    0.2s remaining:    0.0s\n",
      "[Parallel(n_jobs=-1)]: Done  39 out of  39 | elapsed:    0.2s finished\n"
     ]
    },
    {
     "name": "stdout",
     "output_type": "stream",
     "text": [
      "Dropping column : cmi_lag1 at index - 6\n"
     ]
    },
    {
     "name": "stderr",
     "output_type": "stream",
     "text": [
      "[Parallel(n_jobs=-1)]: Using backend LokyBackend with 6 concurrent workers.\n",
      "[Parallel(n_jobs=-1)]: Done   6 tasks      | elapsed:    0.0s\n",
      "[Parallel(n_jobs=-1)]: Done  35 out of  38 | elapsed:    0.2s remaining:    0.0s\n",
      "[Parallel(n_jobs=-1)]: Done  38 out of  38 | elapsed:    0.2s finished\n",
      "[Parallel(n_jobs=-1)]: Using backend LokyBackend with 6 concurrent workers.\n"
     ]
    },
    {
     "name": "stdout",
     "output_type": "stream",
     "text": [
      "Dropping column : tave_wt_lag2 at index - 36\n"
     ]
    },
    {
     "name": "stderr",
     "output_type": "stream",
     "text": [
      "[Parallel(n_jobs=-1)]: Done   6 tasks      | elapsed:    0.0s\n",
      "[Parallel(n_jobs=-1)]: Done  18 out of  37 | elapsed:    0.1s remaining:    0.1s\n",
      "[Parallel(n_jobs=-1)]: Done  26 out of  37 | elapsed:    0.2s remaining:    0.0s\n",
      "[Parallel(n_jobs=-1)]: Done  37 out of  37 | elapsed:    0.2s finished\n"
     ]
    },
    {
     "name": "stdout",
     "output_type": "stream",
     "text": [
      "Dropping column : tave_wt_lag3 at index - 36\n"
     ]
    },
    {
     "name": "stderr",
     "output_type": "stream",
     "text": [
      "[Parallel(n_jobs=-1)]: Using backend LokyBackend with 6 concurrent workers.\n",
      "[Parallel(n_jobs=-1)]: Done   6 tasks      | elapsed:    0.0s\n",
      "[Parallel(n_jobs=-1)]: Done  36 out of  36 | elapsed:    0.2s finished\n",
      "[Parallel(n_jobs=-1)]: Using backend LokyBackend with 6 concurrent workers.\n",
      "[Parallel(n_jobs=-1)]: Done   6 tasks      | elapsed:    0.0s\n"
     ]
    },
    {
     "name": "stdout",
     "output_type": "stream",
     "text": [
      "Dropping column : dd_18_sm_lag1 at index - 20\n"
     ]
    },
    {
     "name": "stderr",
     "output_type": "stream",
     "text": [
      "[Parallel(n_jobs=-1)]: Done  32 out of  35 | elapsed:    0.1s remaining:    0.0s\n",
      "[Parallel(n_jobs=-1)]: Done  35 out of  35 | elapsed:    0.1s finished\n",
      "[Parallel(n_jobs=-1)]: Using backend LokyBackend with 6 concurrent workers.\n"
     ]
    },
    {
     "name": "stdout",
     "output_type": "stream",
     "text": [
      "Dropping column : dd_18_sm_lag2 at index - 20\n"
     ]
    },
    {
     "name": "stderr",
     "output_type": "stream",
     "text": [
      "[Parallel(n_jobs=-1)]: Done   6 tasks      | elapsed:    0.0s\n",
      "[Parallel(n_jobs=-1)]: Done  23 out of  34 | elapsed:    0.1s remaining:    0.0s\n",
      "[Parallel(n_jobs=-1)]: Done  30 out of  34 | elapsed:    0.1s remaining:    0.0s\n",
      "[Parallel(n_jobs=-1)]: Done  34 out of  34 | elapsed:    0.1s finished\n"
     ]
    },
    {
     "name": "stdout",
     "output_type": "stream",
     "text": [
      "Dropping column : dd_18_sm at index - 19\n",
      "Dropping column : pas_lag1 at index - 24\n"
     ]
    },
    {
     "name": "stderr",
     "output_type": "stream",
     "text": [
      "[Parallel(n_jobs=-1)]: Using backend LokyBackend with 6 concurrent workers.\n",
      "[Parallel(n_jobs=-1)]: Done   6 tasks      | elapsed:    0.0s\n",
      "[Parallel(n_jobs=-1)]: Done  29 out of  33 | elapsed:    0.1s remaining:    0.0s\n",
      "[Parallel(n_jobs=-1)]: Done  33 out of  33 | elapsed:    0.1s finished\n",
      "[Parallel(n_jobs=-1)]: Using backend LokyBackend with 6 concurrent workers.\n",
      "[Parallel(n_jobs=-1)]: Done   6 tasks      | elapsed:    0.0s\n",
      "[Parallel(n_jobs=-1)]: Done  21 out of  32 | elapsed:    0.0s remaining:    0.0s\n",
      "[Parallel(n_jobs=-1)]: Done  28 out of  32 | elapsed:    0.0s remaining:    0.0s\n",
      "[Parallel(n_jobs=-1)]: Done  32 out of  32 | elapsed:    0.0s finished\n",
      "[Parallel(n_jobs=-1)]: Using backend LokyBackend with 6 concurrent workers.\n",
      "[Parallel(n_jobs=-1)]: Done   6 tasks      | elapsed:    0.0s\n",
      "[Parallel(n_jobs=-1)]: Done  20 out of  31 | elapsed:    0.0s remaining:    0.0s\n",
      "[Parallel(n_jobs=-1)]: Done  27 out of  31 | elapsed:    0.0s remaining:    0.0s\n",
      "[Parallel(n_jobs=-1)]: Done  31 out of  31 | elapsed:    0.0s finished\n",
      "[Parallel(n_jobs=-1)]: Using backend LokyBackend with 6 concurrent workers.\n"
     ]
    },
    {
     "name": "stdout",
     "output_type": "stream",
     "text": [
      "Dropping column : cmi_wt at index - 10\n",
      "Dropping column : cmd at index - 2\n"
     ]
    },
    {
     "name": "stderr",
     "output_type": "stream",
     "text": [
      "[Parallel(n_jobs=-1)]: Done   6 tasks      | elapsed:    0.0s\n",
      "[Parallel(n_jobs=-1)]: Done  30 out of  30 | elapsed:    0.0s finished\n",
      "[Parallel(n_jobs=-1)]: Using backend LokyBackend with 6 concurrent workers.\n",
      "[Parallel(n_jobs=-1)]: Done   6 tasks      | elapsed:    0.0s\n",
      "[Parallel(n_jobs=-1)]: Done  18 out of  29 | elapsed:    0.0s remaining:    0.0s\n",
      "[Parallel(n_jobs=-1)]: Done  24 out of  29 | elapsed:    0.0s remaining:    0.0s\n",
      "[Parallel(n_jobs=-1)]: Done  29 out of  29 | elapsed:    0.0s finished\n",
      "[Parallel(n_jobs=-1)]: Using backend LokyBackend with 6 concurrent workers.\n"
     ]
    },
    {
     "name": "stdout",
     "output_type": "stream",
     "text": [
      "Dropping column : pas_wt_lag1 at index - 27\n",
      "Dropping column : cmd_lag1 at index - 2\n",
      "Dropping column : tave_wt_lag1 at index - 27\n"
     ]
    },
    {
     "name": "stderr",
     "output_type": "stream",
     "text": [
      "[Parallel(n_jobs=-1)]: Done   6 tasks      | elapsed:    0.0s\n",
      "[Parallel(n_jobs=-1)]: Done  28 out of  28 | elapsed:    0.0s finished\n",
      "[Parallel(n_jobs=-1)]: Using backend LokyBackend with 6 concurrent workers.\n",
      "[Parallel(n_jobs=-1)]: Done   6 tasks      | elapsed:    0.0s\n",
      "[Parallel(n_jobs=-1)]: Done  16 out of  27 | elapsed:    0.0s remaining:    0.0s\n",
      "[Parallel(n_jobs=-1)]: Done  27 out of  27 | elapsed:    0.0s finished\n",
      "[Parallel(n_jobs=-1)]: Using backend LokyBackend with 6 concurrent workers.\n",
      "[Parallel(n_jobs=-1)]: Done   6 tasks      | elapsed:    0.0s\n"
     ]
    },
    {
     "name": "stdout",
     "output_type": "stream",
     "text": [
      "Dropping column : pas_wt_lag2 at index - 26\n",
      "Dropping column : dd18_sm_lag3 at index - 11\n",
      "Dropping column : pas_lag3 at index - 20\n"
     ]
    },
    {
     "name": "stderr",
     "output_type": "stream",
     "text": [
      "[Parallel(n_jobs=-1)]: Done  21 out of  26 | elapsed:    0.0s remaining:    0.0s\n",
      "[Parallel(n_jobs=-1)]: Done  26 out of  26 | elapsed:    0.0s finished\n",
      "[Parallel(n_jobs=-1)]: Using backend LokyBackend with 6 concurrent workers.\n",
      "[Parallel(n_jobs=-1)]: Done   6 tasks      | elapsed:    0.0s\n",
      "[Parallel(n_jobs=-1)]: Done  14 out of  25 | elapsed:    0.0s remaining:    0.0s\n",
      "[Parallel(n_jobs=-1)]: Done  20 out of  25 | elapsed:    0.0s remaining:    0.0s\n",
      "[Parallel(n_jobs=-1)]: Done  25 out of  25 | elapsed:    0.0s finished\n",
      "[Parallel(n_jobs=-1)]: Using backend LokyBackend with 6 concurrent workers.\n",
      "[Parallel(n_jobs=-1)]: Done   6 tasks      | elapsed:    0.0s\n",
      "[Parallel(n_jobs=-1)]: Done   8 out of  24 | elapsed:    0.0s remaining:    0.0s\n",
      "[Parallel(n_jobs=-1)]: Done  18 out of  24 | elapsed:    0.0s remaining:    0.0s\n",
      "[Parallel(n_jobs=-1)]: Done  24 out of  24 | elapsed:    0.0s finished\n",
      "[Parallel(n_jobs=-1)]: Using backend LokyBackend with 6 concurrent workers.\n",
      "[Parallel(n_jobs=-1)]: Done   6 tasks      | elapsed:    0.0s\n"
     ]
    },
    {
     "name": "stdout",
     "output_type": "stream",
     "text": [
      "Dropping column : dd18_sm_lag2 at index - 10\n",
      "Dropping column : pas at index - 18\n",
      "Dropping column : dd18_sm at index - 8\n",
      "Dropping column : cmd_lag2 at index - 2\n"
     ]
    },
    {
     "name": "stderr",
     "output_type": "stream",
     "text": [
      "[Parallel(n_jobs=-1)]: Done  17 out of  23 | elapsed:    0.0s remaining:    0.0s\n",
      "[Parallel(n_jobs=-1)]: Done  23 out of  23 | elapsed:    0.0s finished\n",
      "[Parallel(n_jobs=-1)]: Using backend LokyBackend with 6 concurrent workers.\n",
      "[Parallel(n_jobs=-1)]: Done   6 tasks      | elapsed:    0.0s\n",
      "[Parallel(n_jobs=-1)]: Done  16 out of  22 | elapsed:    0.0s remaining:    0.0s\n",
      "[Parallel(n_jobs=-1)]: Done  22 out of  22 | elapsed:    0.0s finished\n",
      "[Parallel(n_jobs=-1)]: Using backend LokyBackend with 6 concurrent workers.\n",
      "[Parallel(n_jobs=-1)]: Done   6 tasks      | elapsed:    0.0s\n",
      "[Parallel(n_jobs=-1)]: Done  15 out of  21 | elapsed:    0.0s remaining:    0.0s\n",
      "[Parallel(n_jobs=-1)]: Done  21 out of  21 | elapsed:    0.0s finished\n",
      "[Parallel(n_jobs=-1)]: Using backend LokyBackend with 6 concurrent workers.\n",
      "[Parallel(n_jobs=-1)]: Done   6 tasks      | elapsed:    0.0s\n",
      "[Parallel(n_jobs=-1)]: Done  14 out of  20 | elapsed:    0.0s remaining:    0.0s\n",
      "[Parallel(n_jobs=-1)]: Done  20 out of  20 | elapsed:    0.0s finished\n",
      "[Parallel(n_jobs=-1)]: Using backend LokyBackend with 6 concurrent workers.\n",
      "[Parallel(n_jobs=-1)]: Done   6 tasks      | elapsed:    0.0s\n",
      "[Parallel(n_jobs=-1)]: Done  12 out of  19 | elapsed:    0.0s remaining:    0.0s\n",
      "[Parallel(n_jobs=-1)]: Done  16 out of  19 | elapsed:    0.0s remaining:    0.0s\n",
      "[Parallel(n_jobs=-1)]: Done  19 out of  19 | elapsed:    0.0s finished\n",
      "[Parallel(n_jobs=-1)]: Using backend LokyBackend with 6 concurrent workers.\n"
     ]
    },
    {
     "name": "stdout",
     "output_type": "stream",
     "text": [
      "Dropping column : cmd_lag3 at index - 2\n",
      "Dropping column : dd18_sm_lag1 at index - 6\n",
      "Dropping column : for_age at index - 0\n",
      "Dropping column : dd5_wt_lag2 at index - 7\n",
      "Dropping column : dd5_wt_lag1 at index - 6\n",
      "Dropping column : dd5_wt_lag3 at index - 6\n",
      "Remaining columns :\n",
      " ['for_con', 'cmi_sm', 'cmi_sm_lag1', 'cmi_sm_lag2', 'cmi_sm_lag3', 'dd5_wt', 'nffd_wt', 'nffd_wt_lag1', 'nffd_wt_lag2', 'nffd_wt_lag3', 'pas_sm', 'pas_sm_lag1', 'pas_sm_lag2', 'pas_sm_lag3']\n"
     ]
    },
    {
     "name": "stderr",
     "output_type": "stream",
     "text": [
      "[Parallel(n_jobs=-1)]: Done   6 tasks      | elapsed:    0.0s\n",
      "[Parallel(n_jobs=-1)]: Done  11 out of  18 | elapsed:    0.0s remaining:    0.0s\n",
      "[Parallel(n_jobs=-1)]: Done  15 out of  18 | elapsed:    0.0s remaining:    0.0s\n",
      "[Parallel(n_jobs=-1)]: Done  18 out of  18 | elapsed:    0.0s finished\n",
      "[Parallel(n_jobs=-1)]: Using backend LokyBackend with 6 concurrent workers.\n",
      "[Parallel(n_jobs=-1)]: Done   6 tasks      | elapsed:    0.0s\n",
      "[Parallel(n_jobs=-1)]: Done  10 out of  17 | elapsed:    0.0s remaining:    0.0s\n",
      "[Parallel(n_jobs=-1)]: Done  14 out of  17 | elapsed:    0.0s remaining:    0.0s\n",
      "[Parallel(n_jobs=-1)]: Done  17 out of  17 | elapsed:    0.0s finished\n",
      "[Parallel(n_jobs=-1)]: Using backend LokyBackend with 6 concurrent workers.\n",
      "[Parallel(n_jobs=-1)]: Done   9 out of  16 | elapsed:    0.0s remaining:    0.0s\n",
      "[Parallel(n_jobs=-1)]: Done  13 out of  16 | elapsed:    0.0s remaining:    0.0s\n",
      "[Parallel(n_jobs=-1)]: Done  16 out of  16 | elapsed:    0.0s finished\n",
      "[Parallel(n_jobs=-1)]: Using backend LokyBackend with 6 concurrent workers.\n",
      "[Parallel(n_jobs=-1)]: Done   8 out of  15 | elapsed:    0.0s remaining:    0.0s\n",
      "[Parallel(n_jobs=-1)]: Done  12 out of  15 | elapsed:    0.0s remaining:    0.0s\n",
      "[Parallel(n_jobs=-1)]: Done  15 out of  15 | elapsed:    0.0s finished\n",
      "[Parallel(n_jobs=-1)]: Using backend LokyBackend with 6 concurrent workers.\n",
      "[Parallel(n_jobs=-1)]: Done   6 out of  14 | elapsed:    0.0s remaining:    0.0s\n",
      "[Parallel(n_jobs=-1)]: Done   9 out of  14 | elapsed:    0.0s remaining:    0.0s\n",
      "[Parallel(n_jobs=-1)]: Done  12 out of  14 | elapsed:    0.0s remaining:    0.0s\n",
      "[Parallel(n_jobs=-1)]: Done  14 out of  14 | elapsed:    0.0s finished\n"
     ]
    },
    {
     "data": {
      "text/html": [
       "<div>\n",
       "<style scoped>\n",
       "    .dataframe tbody tr th:only-of-type {\n",
       "        vertical-align: middle;\n",
       "    }\n",
       "\n",
       "    .dataframe tbody tr th {\n",
       "        vertical-align: top;\n",
       "    }\n",
       "\n",
       "    .dataframe thead th {\n",
       "        text-align: right;\n",
       "    }\n",
       "</style>\n",
       "<table border=\"1\" class=\"dataframe\">\n",
       "  <thead>\n",
       "    <tr style=\"text-align: right;\">\n",
       "      <th></th>\n",
       "      <th>for_con</th>\n",
       "      <th>cmi_sm</th>\n",
       "      <th>cmi_sm_lag1</th>\n",
       "      <th>cmi_sm_lag2</th>\n",
       "      <th>cmi_sm_lag3</th>\n",
       "      <th>dd5_wt</th>\n",
       "      <th>nffd_wt</th>\n",
       "      <th>nffd_wt_lag1</th>\n",
       "      <th>nffd_wt_lag2</th>\n",
       "      <th>nffd_wt_lag3</th>\n",
       "      <th>pas_sm</th>\n",
       "      <th>pas_sm_lag1</th>\n",
       "      <th>pas_sm_lag2</th>\n",
       "      <th>pas_sm_lag3</th>\n",
       "    </tr>\n",
       "  </thead>\n",
       "  <tbody>\n",
       "    <tr>\n",
       "      <th>0</th>\n",
       "      <td>31.434</td>\n",
       "      <td>-10.600</td>\n",
       "      <td>-2.034</td>\n",
       "      <td>-4.475</td>\n",
       "      <td>-5.782</td>\n",
       "      <td>5.0</td>\n",
       "      <td>0.0</td>\n",
       "      <td>0.0</td>\n",
       "      <td>0.000</td>\n",
       "      <td>1.0</td>\n",
       "      <td>0.0</td>\n",
       "      <td>1.0</td>\n",
       "      <td>0.0</td>\n",
       "      <td>0.0</td>\n",
       "    </tr>\n",
       "    <tr>\n",
       "      <th>1</th>\n",
       "      <td>12.763</td>\n",
       "      <td>-12.612</td>\n",
       "      <td>-3.725</td>\n",
       "      <td>-4.590</td>\n",
       "      <td>-6.097</td>\n",
       "      <td>5.0</td>\n",
       "      <td>0.0</td>\n",
       "      <td>0.0</td>\n",
       "      <td>0.000</td>\n",
       "      <td>1.0</td>\n",
       "      <td>0.0</td>\n",
       "      <td>0.0</td>\n",
       "      <td>0.0</td>\n",
       "      <td>0.0</td>\n",
       "    </tr>\n",
       "    <tr>\n",
       "      <th>2</th>\n",
       "      <td>20.251</td>\n",
       "      <td>-12.468</td>\n",
       "      <td>-3.589</td>\n",
       "      <td>-4.417</td>\n",
       "      <td>-5.943</td>\n",
       "      <td>5.0</td>\n",
       "      <td>0.0</td>\n",
       "      <td>0.0</td>\n",
       "      <td>0.000</td>\n",
       "      <td>1.0</td>\n",
       "      <td>0.0</td>\n",
       "      <td>0.0</td>\n",
       "      <td>0.0</td>\n",
       "      <td>0.0</td>\n",
       "    </tr>\n",
       "    <tr>\n",
       "      <th>3</th>\n",
       "      <td>19.127</td>\n",
       "      <td>-12.661</td>\n",
       "      <td>-3.770</td>\n",
       "      <td>-4.666</td>\n",
       "      <td>-6.141</td>\n",
       "      <td>5.0</td>\n",
       "      <td>0.0</td>\n",
       "      <td>0.0</td>\n",
       "      <td>0.000</td>\n",
       "      <td>1.0</td>\n",
       "      <td>0.0</td>\n",
       "      <td>0.0</td>\n",
       "      <td>0.0</td>\n",
       "      <td>0.0</td>\n",
       "    </tr>\n",
       "    <tr>\n",
       "      <th>4</th>\n",
       "      <td>62.192</td>\n",
       "      <td>-5.643</td>\n",
       "      <td>-4.704</td>\n",
       "      <td>-9.364</td>\n",
       "      <td>-9.939</td>\n",
       "      <td>6.0</td>\n",
       "      <td>0.0</td>\n",
       "      <td>0.0</td>\n",
       "      <td>1.000</td>\n",
       "      <td>0.0</td>\n",
       "      <td>0.0</td>\n",
       "      <td>0.0</td>\n",
       "      <td>0.0</td>\n",
       "      <td>0.0</td>\n",
       "    </tr>\n",
       "    <tr>\n",
       "      <th>...</th>\n",
       "      <td>...</td>\n",
       "      <td>...</td>\n",
       "      <td>...</td>\n",
       "      <td>...</td>\n",
       "      <td>...</td>\n",
       "      <td>...</td>\n",
       "      <td>...</td>\n",
       "      <td>...</td>\n",
       "      <td>...</td>\n",
       "      <td>...</td>\n",
       "      <td>...</td>\n",
       "      <td>...</td>\n",
       "      <td>...</td>\n",
       "      <td>...</td>\n",
       "    </tr>\n",
       "    <tr>\n",
       "      <th>3930</th>\n",
       "      <td>0.942</td>\n",
       "      <td>1.339</td>\n",
       "      <td>5.510</td>\n",
       "      <td>-3.593</td>\n",
       "      <td>-0.021</td>\n",
       "      <td>6.0</td>\n",
       "      <td>1.0</td>\n",
       "      <td>1.0</td>\n",
       "      <td>0.000</td>\n",
       "      <td>0.0</td>\n",
       "      <td>0.0</td>\n",
       "      <td>0.0</td>\n",
       "      <td>0.0</td>\n",
       "      <td>0.0</td>\n",
       "    </tr>\n",
       "    <tr>\n",
       "      <th>3931</th>\n",
       "      <td>4.995</td>\n",
       "      <td>3.185</td>\n",
       "      <td>5.716</td>\n",
       "      <td>-2.304</td>\n",
       "      <td>0.119</td>\n",
       "      <td>6.0</td>\n",
       "      <td>1.0</td>\n",
       "      <td>1.0</td>\n",
       "      <td>0.000</td>\n",
       "      <td>0.0</td>\n",
       "      <td>0.0</td>\n",
       "      <td>0.0</td>\n",
       "      <td>1.0</td>\n",
       "      <td>0.0</td>\n",
       "    </tr>\n",
       "    <tr>\n",
       "      <th>3932</th>\n",
       "      <td>18.592</td>\n",
       "      <td>-7.635</td>\n",
       "      <td>-6.538</td>\n",
       "      <td>6.704</td>\n",
       "      <td>0.837</td>\n",
       "      <td>11.0</td>\n",
       "      <td>1.0</td>\n",
       "      <td>0.0</td>\n",
       "      <td>1.000</td>\n",
       "      <td>0.0</td>\n",
       "      <td>0.0</td>\n",
       "      <td>0.0</td>\n",
       "      <td>0.0</td>\n",
       "      <td>0.0</td>\n",
       "    </tr>\n",
       "    <tr>\n",
       "      <th>3933</th>\n",
       "      <td>0.595</td>\n",
       "      <td>2.003</td>\n",
       "      <td>5.517</td>\n",
       "      <td>-3.183</td>\n",
       "      <td>-0.466</td>\n",
       "      <td>5.0</td>\n",
       "      <td>1.0</td>\n",
       "      <td>1.0</td>\n",
       "      <td>0.000</td>\n",
       "      <td>0.0</td>\n",
       "      <td>0.0</td>\n",
       "      <td>0.0</td>\n",
       "      <td>1.0</td>\n",
       "      <td>0.0</td>\n",
       "    </tr>\n",
       "    <tr>\n",
       "      <th>3934</th>\n",
       "      <td>3.758</td>\n",
       "      <td>2.089</td>\n",
       "      <td>9.817</td>\n",
       "      <td>-4.928</td>\n",
       "      <td>1.524</td>\n",
       "      <td>6.0</td>\n",
       "      <td>0.0</td>\n",
       "      <td>1.0</td>\n",
       "      <td>0.029</td>\n",
       "      <td>0.0</td>\n",
       "      <td>0.0</td>\n",
       "      <td>1.0</td>\n",
       "      <td>0.0</td>\n",
       "      <td>0.0</td>\n",
       "    </tr>\n",
       "  </tbody>\n",
       "</table>\n",
       "<p>3892 rows × 14 columns</p>\n",
       "</div>"
      ],
      "text/plain": [
       "      for_con  cmi_sm  cmi_sm_lag1  cmi_sm_lag2  cmi_sm_lag3  dd5_wt  nffd_wt  \\\n",
       "0      31.434 -10.600       -2.034       -4.475       -5.782     5.0      0.0   \n",
       "1      12.763 -12.612       -3.725       -4.590       -6.097     5.0      0.0   \n",
       "2      20.251 -12.468       -3.589       -4.417       -5.943     5.0      0.0   \n",
       "3      19.127 -12.661       -3.770       -4.666       -6.141     5.0      0.0   \n",
       "4      62.192  -5.643       -4.704       -9.364       -9.939     6.0      0.0   \n",
       "...       ...     ...          ...          ...          ...     ...      ...   \n",
       "3930    0.942   1.339        5.510       -3.593       -0.021     6.0      1.0   \n",
       "3931    4.995   3.185        5.716       -2.304        0.119     6.0      1.0   \n",
       "3932   18.592  -7.635       -6.538        6.704        0.837    11.0      1.0   \n",
       "3933    0.595   2.003        5.517       -3.183       -0.466     5.0      1.0   \n",
       "3934    3.758   2.089        9.817       -4.928        1.524     6.0      0.0   \n",
       "\n",
       "      nffd_wt_lag1  nffd_wt_lag2  nffd_wt_lag3  pas_sm  pas_sm_lag1  \\\n",
       "0              0.0         0.000           1.0     0.0          1.0   \n",
       "1              0.0         0.000           1.0     0.0          0.0   \n",
       "2              0.0         0.000           1.0     0.0          0.0   \n",
       "3              0.0         0.000           1.0     0.0          0.0   \n",
       "4              0.0         1.000           0.0     0.0          0.0   \n",
       "...            ...           ...           ...     ...          ...   \n",
       "3930           1.0         0.000           0.0     0.0          0.0   \n",
       "3931           1.0         0.000           0.0     0.0          0.0   \n",
       "3932           0.0         1.000           0.0     0.0          0.0   \n",
       "3933           1.0         0.000           0.0     0.0          0.0   \n",
       "3934           1.0         0.029           0.0     0.0          1.0   \n",
       "\n",
       "      pas_sm_lag2  pas_sm_lag3  \n",
       "0             0.0          0.0  \n",
       "1             0.0          0.0  \n",
       "2             0.0          0.0  \n",
       "3             0.0          0.0  \n",
       "4             0.0          0.0  \n",
       "...           ...          ...  \n",
       "3930          0.0          0.0  \n",
       "3931          1.0          0.0  \n",
       "3932          0.0          0.0  \n",
       "3933          1.0          0.0  \n",
       "3934          0.0          0.0  \n",
       "\n",
       "[3892 rows x 14 columns]"
      ]
     },
     "execution_count": 70,
     "metadata": {},
     "output_type": "execute_result"
    }
   ],
   "source": [
    "# run VIF function \n",
    "removeMultiColl(X2)"
   ]
  },
  {
   "cell_type": "code",
   "execution_count": null,
   "id": "6ff66ccc",
   "metadata": {},
   "outputs": [],
   "source": [
    "# Vars kept\n",
    "col1 = ['for_con', 'cmi_sm', 'cmi_sm_lag1', 'cmi_sm_lag2', 'cmi_sm_lag3', 'dd5_wt', 'nffd_wt', 'nffd_wt_lag1', 'nffd_wt_lag2', 'nffd_wt_lag3', 'pas_sm', 'pas_sm_lag1', 'pas_sm_lag2', 'pas_sm_lag3']"
   ]
  },
  {
   "cell_type": "code",
   "execution_count": 69,
   "id": "e89e45c8",
   "metadata": {},
   "outputs": [
    {
     "name": "stderr",
     "output_type": "stream",
     "text": [
      "[Parallel(n_jobs=-1)]: Using backend LokyBackend with 6 concurrent workers.\n",
      "[Parallel(n_jobs=-1)]: Done   6 tasks      | elapsed:    1.8s\n",
      "[Parallel(n_jobs=-1)]: Done  60 tasks      | elapsed:    2.9s\n",
      "[Parallel(n_jobs=-1)]: Done 126 out of 126 | elapsed:    4.4s finished\n"
     ]
    },
    {
     "name": "stdout",
     "output_type": "stream",
     "text": [
      "Dropping column : dd_18_lag3 at index - 49\n"
     ]
    },
    {
     "name": "stderr",
     "output_type": "stream",
     "text": [
      "[Parallel(n_jobs=-1)]: Using backend LokyBackend with 6 concurrent workers.\n",
      "[Parallel(n_jobs=-1)]: Done   6 tasks      | elapsed:    0.1s\n",
      "[Parallel(n_jobs=-1)]: Done 108 tasks      | elapsed:    2.4s\n",
      "[Parallel(n_jobs=-1)]: Done 114 out of 125 | elapsed:    2.5s remaining:    0.1s\n",
      "[Parallel(n_jobs=-1)]: Done 125 out of 125 | elapsed:    2.6s finished\n",
      "[Parallel(n_jobs=-1)]: Using backend LokyBackend with 6 concurrent workers.\n"
     ]
    },
    {
     "name": "stdout",
     "output_type": "stream",
     "text": [
      "Dropping column : dd_18_lag1 at index - 47\n"
     ]
    },
    {
     "name": "stderr",
     "output_type": "stream",
     "text": [
      "[Parallel(n_jobs=-1)]: Done   6 tasks      | elapsed:    0.2s\n",
      "[Parallel(n_jobs=-1)]: Done 124 out of 124 | elapsed:    2.6s finished\n",
      "[Parallel(n_jobs=-1)]: Using backend LokyBackend with 6 concurrent workers.\n"
     ]
    },
    {
     "name": "stdout",
     "output_type": "stream",
     "text": [
      "Dropping column : dd_18 at index - 46\n"
     ]
    },
    {
     "name": "stderr",
     "output_type": "stream",
     "text": [
      "[Parallel(n_jobs=-1)]: Done   6 tasks      | elapsed:    0.1s\n",
      "[Parallel(n_jobs=-1)]: Done 112 out of 123 | elapsed:    2.3s remaining:    0.1s\n",
      "[Parallel(n_jobs=-1)]: Done 123 out of 123 | elapsed:    2.5s finished\n"
     ]
    },
    {
     "name": "stdout",
     "output_type": "stream",
     "text": [
      "Dropping column : dd_18_lag2 at index - 46\n"
     ]
    },
    {
     "name": "stderr",
     "output_type": "stream",
     "text": [
      "[Parallel(n_jobs=-1)]: Using backend LokyBackend with 6 concurrent workers.\n",
      "[Parallel(n_jobs=-1)]: Done   6 tasks      | elapsed:    0.1s\n",
      "[Parallel(n_jobs=-1)]: Done 122 out of 122 | elapsed:    2.6s finished\n",
      "[Parallel(n_jobs=-1)]: Using backend LokyBackend with 6 concurrent workers.\n"
     ]
    },
    {
     "name": "stdout",
     "output_type": "stream",
     "text": [
      "Dropping column : map_lag3 at index - 61\n"
     ]
    },
    {
     "name": "stderr",
     "output_type": "stream",
     "text": [
      "[Parallel(n_jobs=-1)]: Done   6 tasks      | elapsed:    0.1s\n",
      "[Parallel(n_jobs=-1)]: Done 110 out of 121 | elapsed:    2.3s remaining:    0.1s\n",
      "[Parallel(n_jobs=-1)]: Done 121 out of 121 | elapsed:    2.5s finished\n"
     ]
    },
    {
     "name": "stdout",
     "output_type": "stream",
     "text": [
      "Dropping column : map_lag2 at index - 60\n"
     ]
    },
    {
     "name": "stderr",
     "output_type": "stream",
     "text": [
      "[Parallel(n_jobs=-1)]: Using backend LokyBackend with 6 concurrent workers.\n",
      "[Parallel(n_jobs=-1)]: Done   6 tasks      | elapsed:    0.2s\n",
      "[Parallel(n_jobs=-1)]: Done 120 out of 120 | elapsed:    2.4s finished\n",
      "[Parallel(n_jobs=-1)]: Using backend LokyBackend with 6 concurrent workers.\n"
     ]
    },
    {
     "name": "stdout",
     "output_type": "stream",
     "text": [
      "Dropping column : map_lag1 at index - 59\n"
     ]
    },
    {
     "name": "stderr",
     "output_type": "stream",
     "text": [
      "[Parallel(n_jobs=-1)]: Done   6 tasks      | elapsed:    0.1s\n",
      "[Parallel(n_jobs=-1)]: Done 107 tasks      | elapsed:    2.1s\n",
      "[Parallel(n_jobs=-1)]: Done 108 out of 119 | elapsed:    2.1s remaining:    0.1s\n",
      "[Parallel(n_jobs=-1)]: Done 119 out of 119 | elapsed:    2.3s finished\n"
     ]
    },
    {
     "name": "stdout",
     "output_type": "stream",
     "text": [
      "Dropping column : dd5 at index - 30\n"
     ]
    },
    {
     "name": "stderr",
     "output_type": "stream",
     "text": [
      "[Parallel(n_jobs=-1)]: Using backend LokyBackend with 6 concurrent workers.\n",
      "[Parallel(n_jobs=-1)]: Done   6 tasks      | elapsed:    0.1s\n",
      "[Parallel(n_jobs=-1)]: Done 107 out of 118 | elapsed:    2.1s remaining:    0.1s\n",
      "[Parallel(n_jobs=-1)]: Done 118 out of 118 | elapsed:    2.2s finished\n"
     ]
    },
    {
     "name": "stdout",
     "output_type": "stream",
     "text": [
      "Dropping column : tave_sm_lag1 at index - 103\n"
     ]
    },
    {
     "name": "stderr",
     "output_type": "stream",
     "text": [
      "[Parallel(n_jobs=-1)]: Using backend LokyBackend with 6 concurrent workers.\n",
      "[Parallel(n_jobs=-1)]: Done   6 tasks      | elapsed:    0.1s\n",
      "[Parallel(n_jobs=-1)]: Done 106 out of 117 | elapsed:    2.1s remaining:    0.1s\n",
      "[Parallel(n_jobs=-1)]: Done 117 out of 117 | elapsed:    2.3s finished\n"
     ]
    },
    {
     "name": "stdout",
     "output_type": "stream",
     "text": [
      "Dropping column : effp_lag2 at index - 115\n"
     ]
    },
    {
     "name": "stderr",
     "output_type": "stream",
     "text": [
      "[Parallel(n_jobs=-1)]: Using backend LokyBackend with 6 concurrent workers.\n",
      "[Parallel(n_jobs=-1)]: Done   6 tasks      | elapsed:    0.1s\n",
      "[Parallel(n_jobs=-1)]: Done 105 out of 116 | elapsed:    2.2s remaining:    0.1s\n",
      "[Parallel(n_jobs=-1)]: Done 116 out of 116 | elapsed:    2.3s finished\n"
     ]
    },
    {
     "name": "stdout",
     "output_type": "stream",
     "text": [
      "Dropping column : map at index - 57\n"
     ]
    },
    {
     "name": "stderr",
     "output_type": "stream",
     "text": [
      "[Parallel(n_jobs=-1)]: Using backend LokyBackend with 6 concurrent workers.\n",
      "[Parallel(n_jobs=-1)]: Done   6 tasks      | elapsed:    0.1s\n",
      "[Parallel(n_jobs=-1)]: Done 115 out of 115 | elapsed:    2.0s finished\n",
      "[Parallel(n_jobs=-1)]: Using backend LokyBackend with 6 concurrent workers.\n"
     ]
    },
    {
     "name": "stdout",
     "output_type": "stream",
     "text": [
      "Dropping column : effp at index - 112\n"
     ]
    },
    {
     "name": "stderr",
     "output_type": "stream",
     "text": [
      "[Parallel(n_jobs=-1)]: Done   6 tasks      | elapsed:    0.1s\n",
      "[Parallel(n_jobs=-1)]: Done 103 out of 114 | elapsed:    1.8s remaining:    0.1s\n",
      "[Parallel(n_jobs=-1)]: Done 114 out of 114 | elapsed:    1.9s finished\n"
     ]
    },
    {
     "name": "stdout",
     "output_type": "stream",
     "text": [
      "Dropping column : tave_sm_lag3 at index - 103\n"
     ]
    },
    {
     "name": "stderr",
     "output_type": "stream",
     "text": [
      "[Parallel(n_jobs=-1)]: Using backend LokyBackend with 6 concurrent workers.\n",
      "[Parallel(n_jobs=-1)]: Done   6 tasks      | elapsed:    0.1s\n",
      "[Parallel(n_jobs=-1)]: Done 102 out of 113 | elapsed:    1.7s remaining:    0.1s\n",
      "[Parallel(n_jobs=-1)]: Done 113 out of 113 | elapsed:    1.8s finished\n"
     ]
    },
    {
     "name": "stdout",
     "output_type": "stream",
     "text": [
      "Dropping column : tave_sm_lag2 at index - 102\n"
     ]
    },
    {
     "name": "stderr",
     "output_type": "stream",
     "text": [
      "[Parallel(n_jobs=-1)]: Using backend LokyBackend with 6 concurrent workers.\n",
      "[Parallel(n_jobs=-1)]: Done   6 tasks      | elapsed:    0.2s\n",
      "[Parallel(n_jobs=-1)]: Done 112 out of 112 | elapsed:    1.8s finished\n",
      "[Parallel(n_jobs=-1)]: Using backend LokyBackend with 6 concurrent workers.\n"
     ]
    },
    {
     "name": "stdout",
     "output_type": "stream",
     "text": [
      "Dropping column : effp_lag3 at index - 111\n"
     ]
    },
    {
     "name": "stderr",
     "output_type": "stream",
     "text": [
      "[Parallel(n_jobs=-1)]: Done   6 tasks      | elapsed:    0.1s\n",
      "[Parallel(n_jobs=-1)]: Done 111 out of 111 | elapsed:    1.7s finished\n",
      "[Parallel(n_jobs=-1)]: Using backend LokyBackend with 6 concurrent workers.\n"
     ]
    },
    {
     "name": "stdout",
     "output_type": "stream",
     "text": [
      "Dropping column : effp_lag1 at index - 110\n"
     ]
    },
    {
     "name": "stderr",
     "output_type": "stream",
     "text": [
      "[Parallel(n_jobs=-1)]: Done   6 tasks      | elapsed:    0.1s\n",
      "[Parallel(n_jobs=-1)]: Done 110 out of 110 | elapsed:    1.7s finished\n",
      "[Parallel(n_jobs=-1)]: Using backend LokyBackend with 6 concurrent workers.\n"
     ]
    },
    {
     "name": "stdout",
     "output_type": "stream",
     "text": [
      "Dropping column : tave_sm at index - 101\n"
     ]
    },
    {
     "name": "stderr",
     "output_type": "stream",
     "text": [
      "[Parallel(n_jobs=-1)]: Done   6 tasks      | elapsed:    0.1s\n",
      "[Parallel(n_jobs=-1)]: Done  98 out of 109 | elapsed:    1.6s remaining:    0.1s\n",
      "[Parallel(n_jobs=-1)]: Done 109 out of 109 | elapsed:    1.7s finished\n"
     ]
    },
    {
     "name": "stdout",
     "output_type": "stream",
     "text": [
      "Dropping column : dd5_lag1 at index - 30\n"
     ]
    },
    {
     "name": "stderr",
     "output_type": "stream",
     "text": [
      "[Parallel(n_jobs=-1)]: Using backend LokyBackend with 6 concurrent workers.\n",
      "[Parallel(n_jobs=-1)]: Done   6 tasks      | elapsed:    0.1s\n",
      "[Parallel(n_jobs=-1)]: Done 108 out of 108 | elapsed:    1.6s finished\n",
      "[Parallel(n_jobs=-1)]: Using backend LokyBackend with 6 concurrent workers.\n"
     ]
    },
    {
     "name": "stdout",
     "output_type": "stream",
     "text": [
      "Dropping column : dd5_lag3 at index - 31\n"
     ]
    },
    {
     "name": "stderr",
     "output_type": "stream",
     "text": [
      "[Parallel(n_jobs=-1)]: Done   6 tasks      | elapsed:    0.1s\n",
      "[Parallel(n_jobs=-1)]: Done  96 out of 107 | elapsed:    1.4s remaining:    0.1s\n",
      "[Parallel(n_jobs=-1)]: Done 107 out of 107 | elapsed:    1.6s finished\n"
     ]
    },
    {
     "name": "stdout",
     "output_type": "stream",
     "text": [
      "Dropping column : dd5_lag2 at index - 30\n"
     ]
    },
    {
     "name": "stderr",
     "output_type": "stream",
     "text": [
      "[Parallel(n_jobs=-1)]: Using backend LokyBackend with 6 concurrent workers.\n",
      "[Parallel(n_jobs=-1)]: Done   6 tasks      | elapsed:    0.1s\n",
      "[Parallel(n_jobs=-1)]: Done  95 out of 106 | elapsed:    1.5s remaining:    0.1s\n",
      "[Parallel(n_jobs=-1)]: Done 106 out of 106 | elapsed:    1.6s finished\n"
     ]
    },
    {
     "name": "stdout",
     "output_type": "stream",
     "text": [
      "Dropping column : dd1040_lag1 at index - 19\n"
     ]
    },
    {
     "name": "stderr",
     "output_type": "stream",
     "text": [
      "[Parallel(n_jobs=-1)]: Using backend LokyBackend with 6 concurrent workers.\n",
      "[Parallel(n_jobs=-1)]: Done   6 tasks      | elapsed:    0.1s\n",
      "[Parallel(n_jobs=-1)]: Done  94 out of 105 | elapsed:    1.4s remaining:    0.1s\n",
      "[Parallel(n_jobs=-1)]: Done 105 out of 105 | elapsed:    1.5s finished\n"
     ]
    },
    {
     "name": "stdout",
     "output_type": "stream",
     "text": [
      "Dropping column : dd1040 at index - 18\n"
     ]
    },
    {
     "name": "stderr",
     "output_type": "stream",
     "text": [
      "[Parallel(n_jobs=-1)]: Using backend LokyBackend with 6 concurrent workers.\n",
      "[Parallel(n_jobs=-1)]: Done   6 tasks      | elapsed:    0.0s\n",
      "[Parallel(n_jobs=-1)]: Done  93 out of 104 | elapsed:    1.3s remaining:    0.1s\n",
      "[Parallel(n_jobs=-1)]: Done 104 out of 104 | elapsed:    1.4s finished\n"
     ]
    },
    {
     "name": "stdout",
     "output_type": "stream",
     "text": [
      "Dropping column : dd1040_lag3 at index - 19\n"
     ]
    },
    {
     "name": "stderr",
     "output_type": "stream",
     "text": [
      "[Parallel(n_jobs=-1)]: Using backend LokyBackend with 6 concurrent workers.\n",
      "[Parallel(n_jobs=-1)]: Done   6 tasks      | elapsed:    0.1s\n",
      "[Parallel(n_jobs=-1)]: Done  92 out of 103 | elapsed:    1.4s remaining:    0.1s\n",
      "[Parallel(n_jobs=-1)]: Done 103 out of 103 | elapsed:    1.5s finished\n"
     ]
    },
    {
     "name": "stdout",
     "output_type": "stream",
     "text": [
      "Dropping column : dd1040_lag2 at index - 18\n"
     ]
    },
    {
     "name": "stderr",
     "output_type": "stream",
     "text": [
      "[Parallel(n_jobs=-1)]: Using backend LokyBackend with 6 concurrent workers.\n",
      "[Parallel(n_jobs=-1)]: Done   6 tasks      | elapsed:    0.1s\n",
      "[Parallel(n_jobs=-1)]: Done  91 out of 102 | elapsed:    1.3s remaining:    0.1s\n",
      "[Parallel(n_jobs=-1)]: Done 102 out of 102 | elapsed:    1.4s finished\n"
     ]
    },
    {
     "name": "stdout",
     "output_type": "stream",
     "text": [
      "Dropping column : bffp at index - 98\n"
     ]
    },
    {
     "name": "stderr",
     "output_type": "stream",
     "text": [
      "[Parallel(n_jobs=-1)]: Using backend LokyBackend with 6 concurrent workers.\n",
      "[Parallel(n_jobs=-1)]: Done   6 tasks      | elapsed:    0.1s\n",
      "[Parallel(n_jobs=-1)]: Done  90 out of 101 | elapsed:    1.3s remaining:    0.1s\n",
      "[Parallel(n_jobs=-1)]: Done 101 out of 101 | elapsed:    1.4s finished\n"
     ]
    },
    {
     "name": "stdout",
     "output_type": "stream",
     "text": [
      "Dropping column : bffp_lag2 at index - 99\n"
     ]
    },
    {
     "name": "stderr",
     "output_type": "stream",
     "text": [
      "[Parallel(n_jobs=-1)]: Using backend LokyBackend with 6 concurrent workers.\n",
      "[Parallel(n_jobs=-1)]: Done   6 tasks      | elapsed:    0.1s\n",
      "[Parallel(n_jobs=-1)]: Done 100 out of 100 | elapsed:    1.3s finished\n",
      "[Parallel(n_jobs=-1)]: Using backend LokyBackend with 6 concurrent workers.\n"
     ]
    },
    {
     "name": "stdout",
     "output_type": "stream",
     "text": [
      "Dropping column : bffp_lag3 at index - 99\n"
     ]
    },
    {
     "name": "stderr",
     "output_type": "stream",
     "text": [
      "[Parallel(n_jobs=-1)]: Done   6 tasks      | elapsed:    0.1s\n",
      "[Parallel(n_jobs=-1)]: Done  88 out of  99 | elapsed:    1.2s remaining:    0.1s\n",
      "[Parallel(n_jobs=-1)]: Done  99 out of  99 | elapsed:    1.3s finished\n"
     ]
    },
    {
     "name": "stdout",
     "output_type": "stream",
     "text": [
      "Dropping column : bffp_lag1 at index - 98\n"
     ]
    },
    {
     "name": "stderr",
     "output_type": "stream",
     "text": [
      "[Parallel(n_jobs=-1)]: Using backend LokyBackend with 6 concurrent workers.\n",
      "[Parallel(n_jobs=-1)]: Done   6 tasks      | elapsed:    0.1s\n",
      "[Parallel(n_jobs=-1)]: Done  98 out of  98 | elapsed:    1.3s finished\n",
      "[Parallel(n_jobs=-1)]: Using backend LokyBackend with 6 concurrent workers.\n"
     ]
    },
    {
     "name": "stdout",
     "output_type": "stream",
     "text": [
      "Dropping column : ppt_sm_lag1 at index - 71\n"
     ]
    },
    {
     "name": "stderr",
     "output_type": "stream",
     "text": [
      "[Parallel(n_jobs=-1)]: Done   6 tasks      | elapsed:    0.1s\n",
      "[Parallel(n_jobs=-1)]: Done  86 out of  97 | elapsed:    1.2s remaining:    0.1s\n",
      "[Parallel(n_jobs=-1)]: Done  97 out of  97 | elapsed:    1.2s finished\n"
     ]
    },
    {
     "name": "stdout",
     "output_type": "stream",
     "text": [
      "Dropping column : dd_0_wt_lag2 at index - 36\n"
     ]
    },
    {
     "name": "stderr",
     "output_type": "stream",
     "text": [
      "[Parallel(n_jobs=-1)]: Using backend LokyBackend with 6 concurrent workers.\n",
      "[Parallel(n_jobs=-1)]: Done   6 tasks      | elapsed:    0.1s\n",
      "[Parallel(n_jobs=-1)]: Done  96 out of  96 | elapsed:    1.3s finished\n",
      "[Parallel(n_jobs=-1)]: Using backend LokyBackend with 6 concurrent workers.\n"
     ]
    },
    {
     "name": "stdout",
     "output_type": "stream",
     "text": [
      "Dropping column : tave_wt at index - 92\n"
     ]
    },
    {
     "name": "stderr",
     "output_type": "stream",
     "text": [
      "[Parallel(n_jobs=-1)]: Done   6 tasks      | elapsed:    0.1s\n",
      "[Parallel(n_jobs=-1)]: Done  84 out of  95 | elapsed:    1.1s remaining:    0.1s\n",
      "[Parallel(n_jobs=-1)]: Done  95 out of  95 | elapsed:    1.2s finished\n"
     ]
    },
    {
     "name": "stdout",
     "output_type": "stream",
     "text": [
      "Dropping column : ppt_sm_lag3 at index - 71\n"
     ]
    },
    {
     "name": "stderr",
     "output_type": "stream",
     "text": [
      "[Parallel(n_jobs=-1)]: Using backend LokyBackend with 6 concurrent workers.\n",
      "[Parallel(n_jobs=-1)]: Done   6 tasks      | elapsed:    0.1s\n",
      "[Parallel(n_jobs=-1)]: Done  94 out of  94 | elapsed:    1.1s finished\n",
      "[Parallel(n_jobs=-1)]: Using backend LokyBackend with 6 concurrent workers.\n"
     ]
    },
    {
     "name": "stdout",
     "output_type": "stream",
     "text": [
      "Dropping column : dd_0_wt_lag1 at index - 35\n"
     ]
    },
    {
     "name": "stderr",
     "output_type": "stream",
     "text": [
      "[Parallel(n_jobs=-1)]: Done   6 tasks      | elapsed:    0.1s\n",
      "[Parallel(n_jobs=-1)]: Done  93 out of  93 | elapsed:    1.2s finished\n",
      "[Parallel(n_jobs=-1)]: Using backend LokyBackend with 6 concurrent workers.\n"
     ]
    },
    {
     "name": "stdout",
     "output_type": "stream",
     "text": [
      "Dropping column : dd_0_wt_lag3 at index - 35\n"
     ]
    },
    {
     "name": "stderr",
     "output_type": "stream",
     "text": [
      "[Parallel(n_jobs=-1)]: Done   6 tasks      | elapsed:    0.1s\n",
      "[Parallel(n_jobs=-1)]: Done  92 out of  92 | elapsed:    1.1s finished\n",
      "[Parallel(n_jobs=-1)]: Using backend LokyBackend with 6 concurrent workers.\n"
     ]
    },
    {
     "name": "stdout",
     "output_type": "stream",
     "text": [
      "Dropping column : td_lag3 at index - 88\n"
     ]
    },
    {
     "name": "stderr",
     "output_type": "stream",
     "text": [
      "[Parallel(n_jobs=-1)]: Done   6 tasks      | elapsed:    0.0s\n",
      "[Parallel(n_jobs=-1)]: Done  80 out of  91 | elapsed:    0.9s remaining:    0.0s\n",
      "[Parallel(n_jobs=-1)]: Done  91 out of  91 | elapsed:    1.1s finished\n"
     ]
    },
    {
     "name": "stdout",
     "output_type": "stream",
     "text": [
      "Dropping column : td_lag1 at index - 86\n"
     ]
    },
    {
     "name": "stderr",
     "output_type": "stream",
     "text": [
      "[Parallel(n_jobs=-1)]: Using backend LokyBackend with 6 concurrent workers.\n",
      "[Parallel(n_jobs=-1)]: Done   6 tasks      | elapsed:    0.0s\n",
      "[Parallel(n_jobs=-1)]: Done  79 out of  90 | elapsed:    1.0s remaining:    0.0s\n",
      "[Parallel(n_jobs=-1)]: Done  90 out of  90 | elapsed:    1.1s finished\n"
     ]
    },
    {
     "name": "stdout",
     "output_type": "stream",
     "text": [
      "Dropping column : ffp_lag1 at index - 44\n"
     ]
    },
    {
     "name": "stderr",
     "output_type": "stream",
     "text": [
      "[Parallel(n_jobs=-1)]: Using backend LokyBackend with 6 concurrent workers.\n",
      "[Parallel(n_jobs=-1)]: Done   6 tasks      | elapsed:    0.1s\n",
      "[Parallel(n_jobs=-1)]: Done  78 out of  89 | elapsed:    1.0s remaining:    0.1s\n",
      "[Parallel(n_jobs=-1)]: Done  89 out of  89 | elapsed:    1.1s finished\n"
     ]
    },
    {
     "name": "stdout",
     "output_type": "stream",
     "text": [
      "Dropping column : td at index - 84\n"
     ]
    },
    {
     "name": "stderr",
     "output_type": "stream",
     "text": [
      "[Parallel(n_jobs=-1)]: Using backend LokyBackend with 6 concurrent workers.\n",
      "[Parallel(n_jobs=-1)]: Done   6 tasks      | elapsed:    0.1s\n",
      "[Parallel(n_jobs=-1)]: Done  88 out of  88 | elapsed:    1.0s finished\n",
      "[Parallel(n_jobs=-1)]: Using backend LokyBackend with 6 concurrent workers.\n"
     ]
    },
    {
     "name": "stdout",
     "output_type": "stream",
     "text": [
      "Dropping column : ffp at index - 43\n"
     ]
    },
    {
     "name": "stderr",
     "output_type": "stream",
     "text": [
      "[Parallel(n_jobs=-1)]: Done   6 tasks      | elapsed:    0.1s\n",
      "[Parallel(n_jobs=-1)]: Done  76 out of  87 | elapsed:    1.0s remaining:    0.1s\n",
      "[Parallel(n_jobs=-1)]: Done  87 out of  87 | elapsed:    1.1s finished\n"
     ]
    },
    {
     "name": "stdout",
     "output_type": "stream",
     "text": [
      "Dropping column : dd18_lag3 at index - 21\n"
     ]
    },
    {
     "name": "stderr",
     "output_type": "stream",
     "text": [
      "[Parallel(n_jobs=-1)]: Using backend LokyBackend with 6 concurrent workers.\n",
      "[Parallel(n_jobs=-1)]: Done   6 tasks      | elapsed:    0.0s\n",
      "[Parallel(n_jobs=-1)]: Done  86 out of  86 | elapsed:    1.0s finished\n",
      "[Parallel(n_jobs=-1)]: Using backend LokyBackend with 6 concurrent workers.\n"
     ]
    },
    {
     "name": "stdout",
     "output_type": "stream",
     "text": [
      "Dropping column : ppt_sm_lag2 at index - 65\n"
     ]
    },
    {
     "name": "stderr",
     "output_type": "stream",
     "text": [
      "[Parallel(n_jobs=-1)]: Done   6 tasks      | elapsed:    0.0s\n",
      "[Parallel(n_jobs=-1)]: Done  56 out of  85 | elapsed:    0.7s remaining:    0.3s\n",
      "[Parallel(n_jobs=-1)]: Done  85 out of  85 | elapsed:    1.0s finished\n",
      "[Parallel(n_jobs=-1)]: Using backend LokyBackend with 6 concurrent workers.\n"
     ]
    },
    {
     "name": "stdout",
     "output_type": "stream",
     "text": [
      "Dropping column : ffp_lag2 at index - 42\n"
     ]
    },
    {
     "name": "stderr",
     "output_type": "stream",
     "text": [
      "[Parallel(n_jobs=-1)]: Done   6 tasks      | elapsed:    0.1s\n",
      "[Parallel(n_jobs=-1)]: Done  56 out of  84 | elapsed:    0.7s remaining:    0.3s\n",
      "[Parallel(n_jobs=-1)]: Done  84 out of  84 | elapsed:    1.0s finished\n",
      "[Parallel(n_jobs=-1)]: Using backend LokyBackend with 6 concurrent workers.\n"
     ]
    },
    {
     "name": "stdout",
     "output_type": "stream",
     "text": [
      "Dropping column : ffp_lag3 at index - 42\n"
     ]
    },
    {
     "name": "stderr",
     "output_type": "stream",
     "text": [
      "[Parallel(n_jobs=-1)]: Done   6 tasks      | elapsed:    0.0s\n",
      "[Parallel(n_jobs=-1)]: Done  83 out of  83 | elapsed:    0.9s finished\n",
      "[Parallel(n_jobs=-1)]: Using backend LokyBackend with 6 concurrent workers.\n"
     ]
    },
    {
     "name": "stdout",
     "output_type": "stream",
     "text": [
      "Dropping column : td_lag2 at index - 79\n"
     ]
    },
    {
     "name": "stderr",
     "output_type": "stream",
     "text": [
      "[Parallel(n_jobs=-1)]: Done   6 tasks      | elapsed:    0.0s\n",
      "[Parallel(n_jobs=-1)]: Done  82 out of  82 | elapsed:    0.9s finished\n",
      "[Parallel(n_jobs=-1)]: Using backend LokyBackend with 6 concurrent workers.\n"
     ]
    },
    {
     "name": "stdout",
     "output_type": "stream",
     "text": [
      "Dropping column : eref_lag2 at index - 40\n"
     ]
    },
    {
     "name": "stderr",
     "output_type": "stream",
     "text": [
      "[Parallel(n_jobs=-1)]: Done   6 tasks      | elapsed:    0.0s\n",
      "[Parallel(n_jobs=-1)]: Done  81 out of  81 | elapsed:    0.9s finished\n",
      "[Parallel(n_jobs=-1)]: Using backend LokyBackend with 6 concurrent workers.\n"
     ]
    },
    {
     "name": "stdout",
     "output_type": "stream",
     "text": [
      "Dropping column : ppt_sm at index - 61\n"
     ]
    },
    {
     "name": "stderr",
     "output_type": "stream",
     "text": [
      "[Parallel(n_jobs=-1)]: Done   6 tasks      | elapsed:    0.1s\n",
      "[Parallel(n_jobs=-1)]: Done  80 out of  80 | elapsed:    0.9s finished\n",
      "[Parallel(n_jobs=-1)]: Using backend LokyBackend with 6 concurrent workers.\n"
     ]
    },
    {
     "name": "stdout",
     "output_type": "stream",
     "text": [
      "Dropping column : dd18_lag2 at index - 20\n"
     ]
    },
    {
     "name": "stderr",
     "output_type": "stream",
     "text": [
      "[Parallel(n_jobs=-1)]: Done   6 tasks      | elapsed:    0.1s\n",
      "[Parallel(n_jobs=-1)]: Done  79 out of  79 | elapsed:    0.8s finished\n",
      "[Parallel(n_jobs=-1)]: Using backend LokyBackend with 6 concurrent workers.\n"
     ]
    },
    {
     "name": "stdout",
     "output_type": "stream",
     "text": [
      "Dropping column : eref_lag3 at index - 39\n"
     ]
    },
    {
     "name": "stderr",
     "output_type": "stream",
     "text": [
      "[Parallel(n_jobs=-1)]: Done   6 tasks      | elapsed:    0.1s\n",
      "[Parallel(n_jobs=-1)]: Done  67 out of  78 | elapsed:    0.7s remaining:    0.0s\n",
      "[Parallel(n_jobs=-1)]: Done  78 out of  78 | elapsed:    0.8s finished\n"
     ]
    },
    {
     "name": "stdout",
     "output_type": "stream",
     "text": [
      "Dropping column : rh_lag3 at index - 66\n"
     ]
    },
    {
     "name": "stderr",
     "output_type": "stream",
     "text": [
      "[Parallel(n_jobs=-1)]: Using backend LokyBackend with 6 concurrent workers.\n",
      "[Parallel(n_jobs=-1)]: Done   6 tasks      | elapsed:    0.1s\n",
      "[Parallel(n_jobs=-1)]: Done  77 out of  77 | elapsed:    0.8s finished\n",
      "[Parallel(n_jobs=-1)]: Using backend LokyBackend with 6 concurrent workers.\n"
     ]
    },
    {
     "name": "stdout",
     "output_type": "stream",
     "text": [
      "Dropping column : rh_lag1 at index - 64\n"
     ]
    },
    {
     "name": "stderr",
     "output_type": "stream",
     "text": [
      "[Parallel(n_jobs=-1)]: Done   6 tasks      | elapsed:    0.1s\n",
      "[Parallel(n_jobs=-1)]: Done  76 out of  76 | elapsed:    0.8s finished\n",
      "[Parallel(n_jobs=-1)]: Using backend LokyBackend with 6 concurrent workers.\n"
     ]
    },
    {
     "name": "stdout",
     "output_type": "stream",
     "text": [
      "Dropping column : eref at index - 37\n"
     ]
    },
    {
     "name": "stderr",
     "output_type": "stream",
     "text": [
      "[Parallel(n_jobs=-1)]: Done   6 tasks      | elapsed:    0.1s\n",
      "[Parallel(n_jobs=-1)]: Done  75 out of  75 | elapsed:    0.8s finished\n",
      "[Parallel(n_jobs=-1)]: Using backend LokyBackend with 6 concurrent workers.\n"
     ]
    },
    {
     "name": "stdout",
     "output_type": "stream",
     "text": [
      "Dropping column : rh_lag2 at index - 63\n"
     ]
    },
    {
     "name": "stderr",
     "output_type": "stream",
     "text": [
      "[Parallel(n_jobs=-1)]: Done   6 tasks      | elapsed:    0.0s\n",
      "[Parallel(n_jobs=-1)]: Done  74 out of  74 | elapsed:    0.7s finished\n",
      "[Parallel(n_jobs=-1)]: Using backend LokyBackend with 6 concurrent workers.\n"
     ]
    },
    {
     "name": "stdout",
     "output_type": "stream",
     "text": [
      "Dropping column : rh_sm_lag1 at index - 64\n"
     ]
    },
    {
     "name": "stderr",
     "output_type": "stream",
     "text": [
      "[Parallel(n_jobs=-1)]: Done   6 tasks      | elapsed:    0.0s\n",
      "[Parallel(n_jobs=-1)]: Done  73 out of  73 | elapsed:    0.7s finished\n",
      "[Parallel(n_jobs=-1)]: Using backend LokyBackend with 6 concurrent workers.\n"
     ]
    },
    {
     "name": "stdout",
     "output_type": "stream",
     "text": [
      "Dropping column : mat_lag1 at index - 39\n"
     ]
    },
    {
     "name": "stderr",
     "output_type": "stream",
     "text": [
      "[Parallel(n_jobs=-1)]: Done   6 tasks      | elapsed:    0.1s\n",
      "[Parallel(n_jobs=-1)]: Done  72 out of  72 | elapsed:    0.7s finished\n",
      "[Parallel(n_jobs=-1)]: Using backend LokyBackend with 6 concurrent workers.\n"
     ]
    },
    {
     "name": "stdout",
     "output_type": "stream",
     "text": [
      "Dropping column : rh at index - 61\n"
     ]
    },
    {
     "name": "stderr",
     "output_type": "stream",
     "text": [
      "[Parallel(n_jobs=-1)]: Done   6 tasks      | elapsed:    0.1s\n",
      "[Parallel(n_jobs=-1)]: Done  60 out of  71 | elapsed:    0.6s remaining:    0.0s\n",
      "[Parallel(n_jobs=-1)]: Done  71 out of  71 | elapsed:    0.7s finished\n"
     ]
    },
    {
     "name": "stdout",
     "output_type": "stream",
     "text": [
      "Dropping column : rh_sm_lag3 at index - 63\n"
     ]
    },
    {
     "name": "stderr",
     "output_type": "stream",
     "text": [
      "[Parallel(n_jobs=-1)]: Using backend LokyBackend with 6 concurrent workers.\n",
      "[Parallel(n_jobs=-1)]: Done   6 tasks      | elapsed:    0.1s\n",
      "[Parallel(n_jobs=-1)]: Done  59 out of  70 | elapsed:    0.6s remaining:    0.0s\n",
      "[Parallel(n_jobs=-1)]: Done  70 out of  70 | elapsed:    0.6s finished\n"
     ]
    },
    {
     "name": "stdout",
     "output_type": "stream",
     "text": [
      "Dropping column : mat at index - 38\n"
     ]
    },
    {
     "name": "stderr",
     "output_type": "stream",
     "text": [
      "[Parallel(n_jobs=-1)]: Using backend LokyBackend with 6 concurrent workers.\n",
      "[Parallel(n_jobs=-1)]: Done   6 tasks      | elapsed:    0.1s\n",
      "[Parallel(n_jobs=-1)]: Done  58 out of  69 | elapsed:    0.6s remaining:    0.0s\n",
      "[Parallel(n_jobs=-1)]: Done  69 out of  69 | elapsed:    0.6s finished\n"
     ]
    },
    {
     "name": "stdout",
     "output_type": "stream",
     "text": [
      "Dropping column : dd_0_lag2 at index - 30\n"
     ]
    },
    {
     "name": "stderr",
     "output_type": "stream",
     "text": [
      "[Parallel(n_jobs=-1)]: Using backend LokyBackend with 6 concurrent workers.\n",
      "[Parallel(n_jobs=-1)]: Done   6 tasks      | elapsed:    0.0s\n",
      "[Parallel(n_jobs=-1)]: Done  68 out of  68 | elapsed:    0.6s finished\n",
      "[Parallel(n_jobs=-1)]: Using backend LokyBackend with 6 concurrent workers.\n"
     ]
    },
    {
     "name": "stdout",
     "output_type": "stream",
     "text": [
      "Dropping column : rh_sm_lag2 at index - 60\n"
     ]
    },
    {
     "name": "stderr",
     "output_type": "stream",
     "text": [
      "[Parallel(n_jobs=-1)]: Done   6 tasks      | elapsed:    0.1s\n",
      "[Parallel(n_jobs=-1)]: Done  67 out of  67 | elapsed:    0.6s finished\n",
      "[Parallel(n_jobs=-1)]: Using backend LokyBackend with 6 concurrent workers.\n"
     ]
    },
    {
     "name": "stdout",
     "output_type": "stream",
     "text": [
      "Dropping column : eref_lag1 at index - 36\n"
     ]
    },
    {
     "name": "stderr",
     "output_type": "stream",
     "text": [
      "[Parallel(n_jobs=-1)]: Done   6 tasks      | elapsed:    0.0s\n",
      "[Parallel(n_jobs=-1)]: Done  66 out of  66 | elapsed:    0.6s finished\n",
      "[Parallel(n_jobs=-1)]: Using backend LokyBackend with 6 concurrent workers.\n"
     ]
    },
    {
     "name": "stdout",
     "output_type": "stream",
     "text": [
      "Dropping column : dd_0_lag3 at index - 30\n"
     ]
    },
    {
     "name": "stderr",
     "output_type": "stream",
     "text": [
      "[Parallel(n_jobs=-1)]: Done   6 tasks      | elapsed:    0.0s\n",
      "[Parallel(n_jobs=-1)]: Done  40 out of  65 | elapsed:    0.4s remaining:    0.2s\n",
      "[Parallel(n_jobs=-1)]: Done  65 out of  65 | elapsed:    0.5s finished\n"
     ]
    },
    {
     "name": "stdout",
     "output_type": "stream",
     "text": [
      "Dropping column : dd18_lag1 at index - 19\n"
     ]
    },
    {
     "name": "stderr",
     "output_type": "stream",
     "text": [
      "[Parallel(n_jobs=-1)]: Using backend LokyBackend with 6 concurrent workers.\n",
      "[Parallel(n_jobs=-1)]: Done   6 tasks      | elapsed:    0.1s\n",
      "[Parallel(n_jobs=-1)]: Done  40 out of  64 | elapsed:    0.4s remaining:    0.2s\n",
      "[Parallel(n_jobs=-1)]: Done  64 out of  64 | elapsed:    0.5s finished\n"
     ]
    },
    {
     "name": "stdout",
     "output_type": "stream",
     "text": [
      "Dropping column : dd18 at index - 18\n"
     ]
    },
    {
     "name": "stderr",
     "output_type": "stream",
     "text": [
      "[Parallel(n_jobs=-1)]: Using backend LokyBackend with 6 concurrent workers.\n",
      "[Parallel(n_jobs=-1)]: Done   6 tasks      | elapsed:    0.0s\n",
      "[Parallel(n_jobs=-1)]: Done  63 out of  63 | elapsed:    0.5s finished\n",
      "[Parallel(n_jobs=-1)]: Using backend LokyBackend with 6 concurrent workers.\n"
     ]
    },
    {
     "name": "stdout",
     "output_type": "stream",
     "text": [
      "Dropping column : rh_sm at index - 55\n"
     ]
    },
    {
     "name": "stderr",
     "output_type": "stream",
     "text": [
      "[Parallel(n_jobs=-1)]: Done   6 tasks      | elapsed:    0.0s\n",
      "[Parallel(n_jobs=-1)]: Done  62 out of  62 | elapsed:    0.5s finished\n",
      "[Parallel(n_jobs=-1)]: Using backend LokyBackend with 6 concurrent workers.\n"
     ]
    },
    {
     "name": "stdout",
     "output_type": "stream",
     "text": [
      "Dropping column : rh_wt_lag3 at index - 58\n"
     ]
    },
    {
     "name": "stderr",
     "output_type": "stream",
     "text": [
      "[Parallel(n_jobs=-1)]: Done   6 tasks      | elapsed:    0.0s\n",
      "[Parallel(n_jobs=-1)]: Done  61 out of  61 | elapsed:    0.5s finished\n",
      "[Parallel(n_jobs=-1)]: Using backend LokyBackend with 6 concurrent workers.\n"
     ]
    },
    {
     "name": "stdout",
     "output_type": "stream",
     "text": [
      "Dropping column : msp at index - 35\n"
     ]
    },
    {
     "name": "stderr",
     "output_type": "stream",
     "text": [
      "[Parallel(n_jobs=-1)]: Done   6 tasks      | elapsed:    0.0s\n",
      "[Parallel(n_jobs=-1)]: Done  36 out of  60 | elapsed:    0.3s remaining:    0.2s\n",
      "[Parallel(n_jobs=-1)]: Done  60 out of  60 | elapsed:    0.5s finished\n"
     ]
    },
    {
     "name": "stdout",
     "output_type": "stream",
     "text": [
      "Dropping column : ppt_wt_lag1 at index - 51\n"
     ]
    },
    {
     "name": "stderr",
     "output_type": "stream",
     "text": [
      "[Parallel(n_jobs=-1)]: Using backend LokyBackend with 6 concurrent workers.\n",
      "[Parallel(n_jobs=-1)]: Done   6 tasks      | elapsed:    0.0s\n",
      "[Parallel(n_jobs=-1)]: Done  59 out of  59 | elapsed:    0.4s finished\n",
      "[Parallel(n_jobs=-1)]: Using backend LokyBackend with 6 concurrent workers.\n"
     ]
    },
    {
     "name": "stdout",
     "output_type": "stream",
     "text": [
      "Dropping column : ppt_wt at index - 50\n"
     ]
    },
    {
     "name": "stderr",
     "output_type": "stream",
     "text": [
      "[Parallel(n_jobs=-1)]: Done   6 tasks      | elapsed:    0.1s\n",
      "[Parallel(n_jobs=-1)]: Done  58 out of  58 | elapsed:    0.4s finished\n",
      "[Parallel(n_jobs=-1)]: Using backend LokyBackend with 6 concurrent workers.\n"
     ]
    },
    {
     "name": "stdout",
     "output_type": "stream",
     "text": [
      "Dropping column : ppt_wt_lag2 at index - 50\n"
     ]
    },
    {
     "name": "stderr",
     "output_type": "stream",
     "text": [
      "[Parallel(n_jobs=-1)]: Done   6 tasks      | elapsed:    0.1s\n",
      "[Parallel(n_jobs=-1)]: Done  57 out of  57 | elapsed:    0.4s finished\n",
      "[Parallel(n_jobs=-1)]: Using backend LokyBackend with 6 concurrent workers.\n"
     ]
    },
    {
     "name": "stdout",
     "output_type": "stream",
     "text": [
      "Dropping column : rh_wt_lag1 at index - 52\n"
     ]
    },
    {
     "name": "stderr",
     "output_type": "stream",
     "text": [
      "[Parallel(n_jobs=-1)]: Done   6 tasks      | elapsed:    0.1s\n",
      "[Parallel(n_jobs=-1)]: Done  56 out of  56 | elapsed:    0.4s finished\n",
      "[Parallel(n_jobs=-1)]: Using backend LokyBackend with 6 concurrent workers.\n"
     ]
    },
    {
     "name": "stdout",
     "output_type": "stream",
     "text": [
      "Dropping column : ppt_wt_lag3 at index - 50\n"
     ]
    },
    {
     "name": "stderr",
     "output_type": "stream",
     "text": [
      "[Parallel(n_jobs=-1)]: Done   6 tasks      | elapsed:    0.1s\n",
      "[Parallel(n_jobs=-1)]: Done  55 out of  55 | elapsed:    0.4s finished\n",
      "[Parallel(n_jobs=-1)]: Using backend LokyBackend with 6 concurrent workers.\n"
     ]
    },
    {
     "name": "stdout",
     "output_type": "stream",
     "text": [
      "Dropping column : dd_0_lag1 at index - 27\n"
     ]
    },
    {
     "name": "stderr",
     "output_type": "stream",
     "text": [
      "[Parallel(n_jobs=-1)]: Done   6 tasks      | elapsed:    0.1s\n",
      "[Parallel(n_jobs=-1)]: Done  54 out of  54 | elapsed:    0.4s remaining:    0.0s\n",
      "[Parallel(n_jobs=-1)]: Done  54 out of  54 | elapsed:    0.4s finished\n",
      "[Parallel(n_jobs=-1)]: Using backend LokyBackend with 6 concurrent workers.\n"
     ]
    },
    {
     "name": "stdout",
     "output_type": "stream",
     "text": [
      "Dropping column : mat_lag3 at index - 33\n"
     ]
    },
    {
     "name": "stderr",
     "output_type": "stream",
     "text": [
      "[Parallel(n_jobs=-1)]: Done   6 tasks      | elapsed:    0.0s\n",
      "[Parallel(n_jobs=-1)]: Done  53 out of  53 | elapsed:    0.4s remaining:    0.0s\n",
      "[Parallel(n_jobs=-1)]: Done  53 out of  53 | elapsed:    0.4s finished\n",
      "[Parallel(n_jobs=-1)]: Using backend LokyBackend with 6 concurrent workers.\n"
     ]
    },
    {
     "name": "stdout",
     "output_type": "stream",
     "text": [
      "Dropping column : msp_lag1 at index - 33\n"
     ]
    },
    {
     "name": "stderr",
     "output_type": "stream",
     "text": [
      "[Parallel(n_jobs=-1)]: Done   6 tasks      | elapsed:    0.1s\n",
      "[Parallel(n_jobs=-1)]: Done  52 out of  52 | elapsed:    0.4s remaining:    0.0s\n",
      "[Parallel(n_jobs=-1)]: Done  52 out of  52 | elapsed:    0.4s finished\n",
      "[Parallel(n_jobs=-1)]: Using backend LokyBackend with 6 concurrent workers.\n"
     ]
    },
    {
     "name": "stdout",
     "output_type": "stream",
     "text": [
      "Dropping column : rh_wt_lag2 at index - 48\n"
     ]
    },
    {
     "name": "stderr",
     "output_type": "stream",
     "text": [
      "[Parallel(n_jobs=-1)]: Done   6 tasks      | elapsed:    0.0s\n",
      "[Parallel(n_jobs=-1)]: Done  51 out of  51 | elapsed:    0.4s remaining:    0.0s\n",
      "[Parallel(n_jobs=-1)]: Done  51 out of  51 | elapsed:    0.4s finished\n",
      "[Parallel(n_jobs=-1)]: Using backend LokyBackend with 6 concurrent workers.\n"
     ]
    },
    {
     "name": "stdout",
     "output_type": "stream",
     "text": [
      "Dropping column : nffd_lag3 at index - 38\n"
     ]
    },
    {
     "name": "stderr",
     "output_type": "stream",
     "text": [
      "[Parallel(n_jobs=-1)]: Done   6 tasks      | elapsed:    0.0s\n",
      "[Parallel(n_jobs=-1)]: Done  50 out of  50 | elapsed:    0.3s remaining:    0.0s\n",
      "[Parallel(n_jobs=-1)]: Done  50 out of  50 | elapsed:    0.3s finished\n",
      "[Parallel(n_jobs=-1)]: Using backend LokyBackend with 6 concurrent workers.\n"
     ]
    },
    {
     "name": "stdout",
     "output_type": "stream",
     "text": [
      "Dropping column : msp_lag2 at index - 33\n"
     ]
    },
    {
     "name": "stderr",
     "output_type": "stream",
     "text": [
      "[Parallel(n_jobs=-1)]: Done   6 tasks      | elapsed:    0.1s\n",
      "[Parallel(n_jobs=-1)]: Done  49 out of  49 | elapsed:    0.3s finished\n",
      "[Parallel(n_jobs=-1)]: Using backend LokyBackend with 6 concurrent workers.\n"
     ]
    },
    {
     "name": "stdout",
     "output_type": "stream",
     "text": [
      "Dropping column : dd_0 at index - 26\n"
     ]
    },
    {
     "name": "stderr",
     "output_type": "stream",
     "text": [
      "[Parallel(n_jobs=-1)]: Done   6 tasks      | elapsed:    0.1s\n",
      "[Parallel(n_jobs=-1)]: Done  37 out of  48 | elapsed:    0.3s remaining:    0.0s\n",
      "[Parallel(n_jobs=-1)]: Done  48 out of  48 | elapsed:    0.3s finished\n",
      "[Parallel(n_jobs=-1)]: Using backend LokyBackend with 6 concurrent workers.\n"
     ]
    },
    {
     "name": "stdout",
     "output_type": "stream",
     "text": [
      "Dropping column : mat_lag2 at index - 31\n"
     ]
    },
    {
     "name": "stderr",
     "output_type": "stream",
     "text": [
      "[Parallel(n_jobs=-1)]: Done   6 tasks      | elapsed:    0.0s\n",
      "[Parallel(n_jobs=-1)]: Done  36 out of  47 | elapsed:    0.2s remaining:    0.0s\n",
      "[Parallel(n_jobs=-1)]: Done  47 out of  47 | elapsed:    0.3s finished\n",
      "[Parallel(n_jobs=-1)]: Using backend LokyBackend with 6 concurrent workers.\n"
     ]
    },
    {
     "name": "stdout",
     "output_type": "stream",
     "text": [
      "Dropping column : msp_lag3 at index - 31\n"
     ]
    },
    {
     "name": "stderr",
     "output_type": "stream",
     "text": [
      "[Parallel(n_jobs=-1)]: Done   6 tasks      | elapsed:    0.0s\n",
      "[Parallel(n_jobs=-1)]: Done  35 out of  46 | elapsed:    0.2s remaining:    0.0s\n",
      "[Parallel(n_jobs=-1)]: Done  46 out of  46 | elapsed:    0.3s finished\n",
      "[Parallel(n_jobs=-1)]: Using backend LokyBackend with 6 concurrent workers.\n"
     ]
    },
    {
     "name": "stdout",
     "output_type": "stream",
     "text": [
      "Dropping column : nffd at index - 31\n"
     ]
    },
    {
     "name": "stderr",
     "output_type": "stream",
     "text": [
      "[Parallel(n_jobs=-1)]: Done   6 tasks      | elapsed:    0.0s\n",
      "[Parallel(n_jobs=-1)]: Done  34 out of  45 | elapsed:    0.2s remaining:    0.0s\n",
      "[Parallel(n_jobs=-1)]: Done  45 out of  45 | elapsed:    0.3s finished\n",
      "[Parallel(n_jobs=-1)]: Using backend LokyBackend with 6 concurrent workers.\n"
     ]
    },
    {
     "name": "stdout",
     "output_type": "stream",
     "text": [
      "Dropping column : nffd_lag1 at index - 31\n"
     ]
    },
    {
     "name": "stderr",
     "output_type": "stream",
     "text": [
      "[Parallel(n_jobs=-1)]: Done   6 tasks      | elapsed:    0.1s\n",
      "[Parallel(n_jobs=-1)]: Done  42 out of  44 | elapsed:    0.3s remaining:    0.0s\n",
      "[Parallel(n_jobs=-1)]: Done  44 out of  44 | elapsed:    0.3s finished\n",
      "[Parallel(n_jobs=-1)]: Using backend LokyBackend with 6 concurrent workers.\n"
     ]
    },
    {
     "name": "stdout",
     "output_type": "stream",
     "text": [
      "Dropping column : pas_wt_lag3 at index - 39\n"
     ]
    },
    {
     "name": "stderr",
     "output_type": "stream",
     "text": [
      "[Parallel(n_jobs=-1)]: Done   6 tasks      | elapsed:    0.0s\n",
      "[Parallel(n_jobs=-1)]: Done  32 out of  43 | elapsed:    0.2s remaining:    0.0s\n",
      "[Parallel(n_jobs=-1)]: Done  41 out of  43 | elapsed:    0.2s remaining:    0.0s\n",
      "[Parallel(n_jobs=-1)]: Done  43 out of  43 | elapsed:    0.2s finished\n",
      "[Parallel(n_jobs=-1)]: Using backend LokyBackend with 6 concurrent workers.\n"
     ]
    },
    {
     "name": "stdout",
     "output_type": "stream",
     "text": [
      "Dropping column : nffd_lag2 at index - 31\n"
     ]
    },
    {
     "name": "stderr",
     "output_type": "stream",
     "text": [
      "[Parallel(n_jobs=-1)]: Done   6 tasks      | elapsed:    0.0s\n",
      "[Parallel(n_jobs=-1)]: Done  40 out of  42 | elapsed:    0.2s remaining:    0.0s\n",
      "[Parallel(n_jobs=-1)]: Done  42 out of  42 | elapsed:    0.2s finished\n"
     ]
    },
    {
     "name": "stdout",
     "output_type": "stream",
     "text": [
      "Dropping column : cmi_wt_lag2 at index - 16\n"
     ]
    },
    {
     "name": "stderr",
     "output_type": "stream",
     "text": [
      "[Parallel(n_jobs=-1)]: Using backend LokyBackend with 6 concurrent workers.\n",
      "[Parallel(n_jobs=-1)]: Done   6 tasks      | elapsed:    0.0s\n",
      "[Parallel(n_jobs=-1)]: Done  30 out of  41 | elapsed:    0.2s remaining:    0.0s\n",
      "[Parallel(n_jobs=-1)]: Done  39 out of  41 | elapsed:    0.2s remaining:    0.0s\n",
      "[Parallel(n_jobs=-1)]: Done  41 out of  41 | elapsed:    0.2s finished\n",
      "[Parallel(n_jobs=-1)]: Using backend LokyBackend with 6 concurrent workers.\n"
     ]
    },
    {
     "name": "stdout",
     "output_type": "stream",
     "text": [
      "Dropping column : rh_wt at index - 37\n"
     ]
    },
    {
     "name": "stderr",
     "output_type": "stream",
     "text": [
      "[Parallel(n_jobs=-1)]: Done   6 tasks      | elapsed:    0.1s\n",
      "[Parallel(n_jobs=-1)]: Done  38 out of  40 | elapsed:    0.3s remaining:    0.0s\n",
      "[Parallel(n_jobs=-1)]: Done  40 out of  40 | elapsed:    0.3s finished\n",
      "[Parallel(n_jobs=-1)]: Using backend LokyBackend with 6 concurrent workers.\n"
     ]
    },
    {
     "name": "stdout",
     "output_type": "stream",
     "text": [
      "Dropping column : cmi at index - 6\n"
     ]
    },
    {
     "name": "stderr",
     "output_type": "stream",
     "text": [
      "[Parallel(n_jobs=-1)]: Done   6 tasks      | elapsed:    0.0s\n",
      "[Parallel(n_jobs=-1)]: Done  28 out of  39 | elapsed:    0.1s remaining:    0.0s\n",
      "[Parallel(n_jobs=-1)]: Done  36 out of  39 | elapsed:    0.2s remaining:    0.0s\n",
      "[Parallel(n_jobs=-1)]: Done  39 out of  39 | elapsed:    0.2s finished\n"
     ]
    },
    {
     "name": "stdout",
     "output_type": "stream",
     "text": [
      "Dropping column : pas_wt at index - 33\n"
     ]
    },
    {
     "name": "stderr",
     "output_type": "stream",
     "text": [
      "[Parallel(n_jobs=-1)]: Using backend LokyBackend with 6 concurrent workers.\n",
      "[Parallel(n_jobs=-1)]: Done   6 tasks      | elapsed:    0.0s\n",
      "[Parallel(n_jobs=-1)]: Done  38 out of  38 | elapsed:    0.2s finished\n",
      "[Parallel(n_jobs=-1)]: Using backend LokyBackend with 6 concurrent workers.\n"
     ]
    },
    {
     "name": "stdout",
     "output_type": "stream",
     "text": [
      "Dropping column : cmi_lag2 at index - 7\n"
     ]
    },
    {
     "name": "stderr",
     "output_type": "stream",
     "text": [
      "[Parallel(n_jobs=-1)]: Done   6 tasks      | elapsed:    0.0s\n",
      "[Parallel(n_jobs=-1)]: Done  18 out of  37 | elapsed:    0.1s remaining:    0.1s\n",
      "[Parallel(n_jobs=-1)]: Done  26 out of  37 | elapsed:    0.1s remaining:    0.0s\n",
      "[Parallel(n_jobs=-1)]: Done  34 out of  37 | elapsed:    0.1s remaining:    0.0s\n",
      "[Parallel(n_jobs=-1)]: Done  37 out of  37 | elapsed:    0.2s finished\n"
     ]
    },
    {
     "name": "stdout",
     "output_type": "stream",
     "text": [
      "Dropping column : cmi_wt_lag1 at index - 13\n"
     ]
    },
    {
     "name": "stderr",
     "output_type": "stream",
     "text": [
      "[Parallel(n_jobs=-1)]: Using backend LokyBackend with 6 concurrent workers.\n",
      "[Parallel(n_jobs=-1)]: Done   6 tasks      | elapsed:    0.0s\n",
      "[Parallel(n_jobs=-1)]: Done  36 out of  36 | elapsed:    0.2s finished\n",
      "[Parallel(n_jobs=-1)]: Using backend LokyBackend with 6 concurrent workers.\n",
      "[Parallel(n_jobs=-1)]: Done   6 tasks      | elapsed:    0.0s\n"
     ]
    },
    {
     "name": "stdout",
     "output_type": "stream",
     "text": [
      "Dropping column : cmi_wt_lag3 at index - 13\n"
     ]
    },
    {
     "name": "stderr",
     "output_type": "stream",
     "text": [
      "[Parallel(n_jobs=-1)]: Done  24 out of  35 | elapsed:    0.1s remaining:    0.0s\n",
      "[Parallel(n_jobs=-1)]: Done  32 out of  35 | elapsed:    0.1s remaining:    0.0s\n",
      "[Parallel(n_jobs=-1)]: Done  35 out of  35 | elapsed:    0.1s finished\n",
      "[Parallel(n_jobs=-1)]: Using backend LokyBackend with 6 concurrent workers.\n"
     ]
    },
    {
     "name": "stdout",
     "output_type": "stream",
     "text": [
      "Dropping column : pas_lag2 at index - 28\n"
     ]
    },
    {
     "name": "stderr",
     "output_type": "stream",
     "text": [
      "[Parallel(n_jobs=-1)]: Done   6 tasks      | elapsed:    0.0s\n",
      "[Parallel(n_jobs=-1)]: Done  30 out of  34 | elapsed:    0.1s remaining:    0.0s\n",
      "[Parallel(n_jobs=-1)]: Done  34 out of  34 | elapsed:    0.1s finished\n"
     ]
    },
    {
     "name": "stdout",
     "output_type": "stream",
     "text": [
      "Dropping column : cmi_lag3 at index - 7\n",
      "Dropping column : dd_18_sm_lag3 at index - 24\n"
     ]
    },
    {
     "name": "stderr",
     "output_type": "stream",
     "text": [
      "[Parallel(n_jobs=-1)]: Using backend LokyBackend with 6 concurrent workers.\n",
      "[Parallel(n_jobs=-1)]: Done   6 tasks      | elapsed:    0.0s\n",
      "[Parallel(n_jobs=-1)]: Done  22 out of  33 | elapsed:    0.1s remaining:    0.0s\n",
      "[Parallel(n_jobs=-1)]: Done  29 out of  33 | elapsed:    0.1s remaining:    0.0s\n",
      "[Parallel(n_jobs=-1)]: Done  33 out of  33 | elapsed:    0.1s finished\n",
      "[Parallel(n_jobs=-1)]: Using backend LokyBackend with 6 concurrent workers.\n",
      "[Parallel(n_jobs=-1)]: Done   6 tasks      | elapsed:    0.0s\n",
      "[Parallel(n_jobs=-1)]: Done  21 out of  32 | elapsed:    0.0s remaining:    0.0s\n",
      "[Parallel(n_jobs=-1)]: Done  28 out of  32 | elapsed:    0.0s remaining:    0.0s\n",
      "[Parallel(n_jobs=-1)]: Done  32 out of  32 | elapsed:    0.0s finished\n",
      "[Parallel(n_jobs=-1)]: Using backend LokyBackend with 6 concurrent workers.\n",
      "[Parallel(n_jobs=-1)]: Done   6 tasks      | elapsed:    0.0s\n",
      "[Parallel(n_jobs=-1)]: Done  20 out of  31 | elapsed:    0.0s remaining:    0.0s\n",
      "[Parallel(n_jobs=-1)]: Done  27 out of  31 | elapsed:    0.0s remaining:    0.0s\n",
      "[Parallel(n_jobs=-1)]: Done  31 out of  31 | elapsed:    0.0s finished\n",
      "[Parallel(n_jobs=-1)]: Using backend LokyBackend with 6 concurrent workers.\n",
      "[Parallel(n_jobs=-1)]: Done   6 tasks      | elapsed:    0.0s\n"
     ]
    },
    {
     "name": "stdout",
     "output_type": "stream",
     "text": [
      "Dropping column : cmi_lag1 at index - 6\n",
      "Dropping column : tave_wt_lag2 at index - 29\n"
     ]
    },
    {
     "name": "stderr",
     "output_type": "stream",
     "text": [
      "[Parallel(n_jobs=-1)]: Done  30 out of  30 | elapsed:    0.0s finished\n",
      "[Parallel(n_jobs=-1)]: Using backend LokyBackend with 6 concurrent workers.\n",
      "[Parallel(n_jobs=-1)]: Done   6 tasks      | elapsed:    0.0s\n",
      "[Parallel(n_jobs=-1)]: Done  18 out of  29 | elapsed:    0.0s remaining:    0.0s\n",
      "[Parallel(n_jobs=-1)]: Done  24 out of  29 | elapsed:    0.0s remaining:    0.0s\n",
      "[Parallel(n_jobs=-1)]: Done  29 out of  29 | elapsed:    0.0s finished\n",
      "[Parallel(n_jobs=-1)]: Using backend LokyBackend with 6 concurrent workers.\n",
      "[Parallel(n_jobs=-1)]: Done   6 tasks      | elapsed:    0.0s\n",
      "[Parallel(n_jobs=-1)]: Done  23 out of  28 | elapsed:    0.0s remaining:    0.0s\n",
      "[Parallel(n_jobs=-1)]: Done  28 out of  28 | elapsed:    0.0s finished\n",
      "[Parallel(n_jobs=-1)]: Using backend LokyBackend with 6 concurrent workers.\n"
     ]
    },
    {
     "name": "stdout",
     "output_type": "stream",
     "text": [
      "Dropping column : dd_18_sm_lag1 at index - 21\n",
      "Dropping column : cmd at index - 2\n",
      "Dropping column : cmi_wt at index - 9\n"
     ]
    },
    {
     "name": "stderr",
     "output_type": "stream",
     "text": [
      "[Parallel(n_jobs=-1)]: Done   6 tasks      | elapsed:    0.0s\n",
      "[Parallel(n_jobs=-1)]: Done  16 out of  27 | elapsed:    0.0s remaining:    0.0s\n",
      "[Parallel(n_jobs=-1)]: Done  22 out of  27 | elapsed:    0.0s remaining:    0.0s\n",
      "[Parallel(n_jobs=-1)]: Done  27 out of  27 | elapsed:    0.0s finished\n",
      "[Parallel(n_jobs=-1)]: Using backend LokyBackend with 6 concurrent workers.\n",
      "[Parallel(n_jobs=-1)]: Done   6 tasks      | elapsed:    0.0s\n",
      "[Parallel(n_jobs=-1)]: Done  21 out of  26 | elapsed:    0.0s remaining:    0.0s\n",
      "[Parallel(n_jobs=-1)]: Done  26 out of  26 | elapsed:    0.0s finished\n",
      "[Parallel(n_jobs=-1)]: Using backend LokyBackend with 6 concurrent workers.\n",
      "[Parallel(n_jobs=-1)]: Done   6 tasks      | elapsed:    0.0s\n",
      "[Parallel(n_jobs=-1)]: Done  14 out of  25 | elapsed:    0.0s remaining:    0.0s\n",
      "[Parallel(n_jobs=-1)]: Done  20 out of  25 | elapsed:    0.0s remaining:    0.0s\n",
      "[Parallel(n_jobs=-1)]: Done  25 out of  25 | elapsed:    0.0s finished\n",
      "[Parallel(n_jobs=-1)]: Using backend LokyBackend with 6 concurrent workers.\n"
     ]
    },
    {
     "name": "stdout",
     "output_type": "stream",
     "text": [
      "Dropping column : dd_18_sm_lag2 at index - 19\n",
      "Dropping column : dd_18_sm at index - 18\n",
      "Dropping column : pas_wt_lag1 at index - 21\n"
     ]
    },
    {
     "name": "stderr",
     "output_type": "stream",
     "text": [
      "[Parallel(n_jobs=-1)]: Done   6 tasks      | elapsed:    0.0s\n",
      "[Parallel(n_jobs=-1)]: Done   8 out of  24 | elapsed:    0.0s remaining:    0.0s\n",
      "[Parallel(n_jobs=-1)]: Done  18 out of  24 | elapsed:    0.0s remaining:    0.0s\n",
      "[Parallel(n_jobs=-1)]: Done  24 out of  24 | elapsed:    0.0s finished\n",
      "[Parallel(n_jobs=-1)]: Using backend LokyBackend with 6 concurrent workers.\n",
      "[Parallel(n_jobs=-1)]: Done   6 tasks      | elapsed:    0.0s\n",
      "[Parallel(n_jobs=-1)]: Done  17 out of  23 | elapsed:    0.0s remaining:    0.0s\n",
      "[Parallel(n_jobs=-1)]: Done  23 out of  23 | elapsed:    0.0s finished\n",
      "[Parallel(n_jobs=-1)]: Using backend LokyBackend with 6 concurrent workers.\n",
      "[Parallel(n_jobs=-1)]: Done   6 tasks      | elapsed:    0.0s\n",
      "[Parallel(n_jobs=-1)]: Done  16 out of  22 | elapsed:    0.0s remaining:    0.0s\n",
      "[Parallel(n_jobs=-1)]: Done  22 out of  22 | elapsed:    0.0s finished\n",
      "[Parallel(n_jobs=-1)]: Using backend LokyBackend with 6 concurrent workers.\n",
      "[Parallel(n_jobs=-1)]: Done   6 tasks      | elapsed:    0.0s\n",
      "[Parallel(n_jobs=-1)]: Done  15 out of  21 | elapsed:    0.0s remaining:    0.0s\n",
      "[Parallel(n_jobs=-1)]: Done  21 out of  21 | elapsed:    0.0s finished\n",
      "[Parallel(n_jobs=-1)]: Using backend LokyBackend with 6 concurrent workers.\n"
     ]
    },
    {
     "name": "stdout",
     "output_type": "stream",
     "text": [
      "Dropping column : tave_wt_lag3 at index - 23\n",
      "Dropping column : tave_wt_lag1 at index - 22\n",
      "Dropping column : cmd_lag1 at index - 2\n",
      "Dropping column : dd_0_wt at index - 16\n"
     ]
    },
    {
     "name": "stderr",
     "output_type": "stream",
     "text": [
      "[Parallel(n_jobs=-1)]: Done   6 tasks      | elapsed:    0.0s\n",
      "[Parallel(n_jobs=-1)]: Done  14 out of  20 | elapsed:    0.0s remaining:    0.0s\n",
      "[Parallel(n_jobs=-1)]: Done  20 out of  20 | elapsed:    0.0s finished\n",
      "[Parallel(n_jobs=-1)]: Using backend LokyBackend with 6 concurrent workers.\n",
      "[Parallel(n_jobs=-1)]: Done   6 tasks      | elapsed:    0.0s\n",
      "[Parallel(n_jobs=-1)]: Done  12 out of  19 | elapsed:    0.0s remaining:    0.0s\n",
      "[Parallel(n_jobs=-1)]: Done  16 out of  19 | elapsed:    0.0s remaining:    0.0s\n",
      "[Parallel(n_jobs=-1)]: Done  19 out of  19 | elapsed:    0.0s finished\n",
      "[Parallel(n_jobs=-1)]: Using backend LokyBackend with 6 concurrent workers.\n",
      "[Parallel(n_jobs=-1)]: Done   6 tasks      | elapsed:    0.0s\n",
      "[Parallel(n_jobs=-1)]: Done  11 out of  18 | elapsed:    0.0s remaining:    0.0s\n",
      "[Parallel(n_jobs=-1)]: Done  15 out of  18 | elapsed:    0.0s remaining:    0.0s\n",
      "[Parallel(n_jobs=-1)]: Done  18 out of  18 | elapsed:    0.0s finished\n",
      "[Parallel(n_jobs=-1)]: Using backend LokyBackend with 6 concurrent workers.\n",
      "[Parallel(n_jobs=-1)]: Done   6 tasks      | elapsed:    0.0s\n",
      "[Parallel(n_jobs=-1)]: Done  10 out of  17 | elapsed:    0.0s remaining:    0.0s\n",
      "[Parallel(n_jobs=-1)]: Done  14 out of  17 | elapsed:    0.0s remaining:    0.0s\n",
      "[Parallel(n_jobs=-1)]: Done  17 out of  17 | elapsed:    0.0s finished\n",
      "[Parallel(n_jobs=-1)]: Using backend LokyBackend with 6 concurrent workers.\n",
      "[Parallel(n_jobs=-1)]: Done   9 out of  16 | elapsed:    0.0s remaining:    0.0s\n",
      "[Parallel(n_jobs=-1)]: Done  13 out of  16 | elapsed:    0.0s remaining:    0.0s\n",
      "[Parallel(n_jobs=-1)]: Done  16 out of  16 | elapsed:    0.0s finished\n",
      "[Parallel(n_jobs=-1)]: Using backend LokyBackend with 6 concurrent workers.\n",
      "[Parallel(n_jobs=-1)]: Done   8 out of  15 | elapsed:    0.0s remaining:    0.0s\n",
      "[Parallel(n_jobs=-1)]: Done  12 out of  15 | elapsed:    0.0s remaining:    0.0s\n",
      "[Parallel(n_jobs=-1)]: Done  15 out of  15 | elapsed:    0.0s finished\n",
      "[Parallel(n_jobs=-1)]: Using backend LokyBackend with 6 concurrent workers.\n"
     ]
    },
    {
     "name": "stdout",
     "output_type": "stream",
     "text": [
      "Dropping column : pas_lag3 at index - 18\n",
      "Dropping column : dd18_sm_lag3 at index - 11\n",
      "Dropping column : cmd_lag2 at index - 2\n",
      "Dropping column : pas_wt_lag2 at index - 16\n",
      "Dropping column : pas_lag1 at index - 15\n",
      "Dropping column : cmd_lag3 at index - 2\n",
      "Dropping column : pas at index - 13\n",
      "Dropping column : dd18_sm_lag2 at index - 8\n",
      "Dropping column : dd18_sm at index - 6\n",
      "Dropping column : dd18_sm_lag1 at index - 6\n",
      "Dropping column : for_age at index - 0\n",
      "Dropping column : dd5_wt_lag2 at index - 7\n",
      "Dropping column : dd5_wt at index - 5\n",
      "Remaining columns :\n",
      " ['for_con', 'cmi_sm', 'cmi_sm_lag1', 'cmi_sm_lag2', 'cmi_sm_lag3', 'dd5_wt_lag1', 'dd5_wt_lag3']\n"
     ]
    },
    {
     "name": "stderr",
     "output_type": "stream",
     "text": [
      "[Parallel(n_jobs=-1)]: Done   6 out of  14 | elapsed:    0.0s remaining:    0.0s\n",
      "[Parallel(n_jobs=-1)]: Done   9 out of  14 | elapsed:    0.0s remaining:    0.0s\n",
      "[Parallel(n_jobs=-1)]: Done  12 out of  14 | elapsed:    0.0s remaining:    0.0s\n",
      "[Parallel(n_jobs=-1)]: Done  14 out of  14 | elapsed:    0.0s finished\n",
      "[Parallel(n_jobs=-1)]: Using backend LokyBackend with 6 concurrent workers.\n",
      "[Parallel(n_jobs=-1)]: Done   5 out of  13 | elapsed:    0.0s remaining:    0.0s\n",
      "[Parallel(n_jobs=-1)]: Done   8 out of  13 | elapsed:    0.0s remaining:    0.0s\n",
      "[Parallel(n_jobs=-1)]: Done  11 out of  13 | elapsed:    0.0s remaining:    0.0s\n",
      "[Parallel(n_jobs=-1)]: Done  13 out of  13 | elapsed:    0.0s finished\n",
      "[Parallel(n_jobs=-1)]: Using backend LokyBackend with 6 concurrent workers.\n",
      "[Parallel(n_jobs=-1)]: Done   4 out of  12 | elapsed:    0.0s remaining:    0.0s\n",
      "[Parallel(n_jobs=-1)]: Done   7 out of  12 | elapsed:    0.0s remaining:    0.0s\n",
      "[Parallel(n_jobs=-1)]: Done  10 out of  12 | elapsed:    0.0s remaining:    0.0s\n",
      "[Parallel(n_jobs=-1)]: Done  12 out of  12 | elapsed:    0.0s finished\n",
      "[Parallel(n_jobs=-1)]: Using backend LokyBackend with 6 concurrent workers.\n",
      "[Parallel(n_jobs=-1)]: Done   3 out of  11 | elapsed:    0.0s remaining:    0.0s\n",
      "[Parallel(n_jobs=-1)]: Done   6 out of  11 | elapsed:    0.0s remaining:    0.0s\n",
      "[Parallel(n_jobs=-1)]: Done   9 out of  11 | elapsed:    0.0s remaining:    0.0s\n",
      "[Parallel(n_jobs=-1)]: Done  11 out of  11 | elapsed:    0.0s finished\n",
      "[Parallel(n_jobs=-1)]: Using backend LokyBackend with 6 concurrent workers.\n",
      "[Parallel(n_jobs=-1)]: Done   2 out of  10 | elapsed:    0.0s remaining:    0.0s\n",
      "[Parallel(n_jobs=-1)]: Done   5 out of  10 | elapsed:    0.0s remaining:    0.0s\n",
      "[Parallel(n_jobs=-1)]: Done   8 out of  10 | elapsed:    0.0s remaining:    0.0s\n",
      "[Parallel(n_jobs=-1)]: Done  10 out of  10 | elapsed:    0.0s finished\n",
      "[Parallel(n_jobs=-1)]: Using backend LokyBackend with 6 concurrent workers.\n",
      "[Parallel(n_jobs=-1)]: Done   2 out of   9 | elapsed:    0.0s remaining:    0.0s\n",
      "[Parallel(n_jobs=-1)]: Done   4 out of   9 | elapsed:    0.0s remaining:    0.0s\n",
      "[Parallel(n_jobs=-1)]: Done   6 out of   9 | elapsed:    0.0s remaining:    0.0s\n",
      "[Parallel(n_jobs=-1)]: Done   9 out of   9 | elapsed:    0.0s finished\n",
      "[Parallel(n_jobs=-1)]: Using backend LokyBackend with 6 concurrent workers.\n",
      "[Parallel(n_jobs=-1)]: Done   3 out of   8 | elapsed:    0.0s remaining:    0.0s\n",
      "[Parallel(n_jobs=-1)]: Done   5 out of   8 | elapsed:    0.0s remaining:    0.0s\n",
      "[Parallel(n_jobs=-1)]: Done   8 out of   8 | elapsed:    0.0s finished\n",
      "[Parallel(n_jobs=-1)]: Using backend LokyBackend with 6 concurrent workers.\n",
      "[Parallel(n_jobs=-1)]: Done   2 out of   7 | elapsed:    0.0s remaining:    0.0s\n",
      "[Parallel(n_jobs=-1)]: Done   4 out of   7 | elapsed:    0.0s remaining:    0.0s\n",
      "[Parallel(n_jobs=-1)]: Done   7 out of   7 | elapsed:    0.0s finished\n"
     ]
    },
    {
     "data": {
      "text/html": [
       "<div>\n",
       "<style scoped>\n",
       "    .dataframe tbody tr th:only-of-type {\n",
       "        vertical-align: middle;\n",
       "    }\n",
       "\n",
       "    .dataframe tbody tr th {\n",
       "        vertical-align: top;\n",
       "    }\n",
       "\n",
       "    .dataframe thead th {\n",
       "        text-align: right;\n",
       "    }\n",
       "</style>\n",
       "<table border=\"1\" class=\"dataframe\">\n",
       "  <thead>\n",
       "    <tr style=\"text-align: right;\">\n",
       "      <th></th>\n",
       "      <th>for_con</th>\n",
       "      <th>cmi_sm</th>\n",
       "      <th>cmi_sm_lag1</th>\n",
       "      <th>cmi_sm_lag2</th>\n",
       "      <th>cmi_sm_lag3</th>\n",
       "      <th>dd5_wt_lag1</th>\n",
       "      <th>dd5_wt_lag3</th>\n",
       "    </tr>\n",
       "  </thead>\n",
       "  <tbody>\n",
       "    <tr>\n",
       "      <th>0</th>\n",
       "      <td>31.434</td>\n",
       "      <td>-10.600</td>\n",
       "      <td>-2.034</td>\n",
       "      <td>-4.475</td>\n",
       "      <td>-5.782</td>\n",
       "      <td>6.000</td>\n",
       "      <td>8.0</td>\n",
       "    </tr>\n",
       "    <tr>\n",
       "      <th>1</th>\n",
       "      <td>12.763</td>\n",
       "      <td>-12.612</td>\n",
       "      <td>-3.725</td>\n",
       "      <td>-4.590</td>\n",
       "      <td>-6.097</td>\n",
       "      <td>6.130</td>\n",
       "      <td>9.0</td>\n",
       "    </tr>\n",
       "    <tr>\n",
       "      <th>2</th>\n",
       "      <td>20.251</td>\n",
       "      <td>-12.468</td>\n",
       "      <td>-3.589</td>\n",
       "      <td>-4.417</td>\n",
       "      <td>-5.943</td>\n",
       "      <td>6.000</td>\n",
       "      <td>9.0</td>\n",
       "    </tr>\n",
       "    <tr>\n",
       "      <th>3</th>\n",
       "      <td>19.127</td>\n",
       "      <td>-12.661</td>\n",
       "      <td>-3.770</td>\n",
       "      <td>-4.666</td>\n",
       "      <td>-6.141</td>\n",
       "      <td>6.666</td>\n",
       "      <td>9.0</td>\n",
       "    </tr>\n",
       "    <tr>\n",
       "      <th>4</th>\n",
       "      <td>62.192</td>\n",
       "      <td>-5.643</td>\n",
       "      <td>-4.704</td>\n",
       "      <td>-9.364</td>\n",
       "      <td>-9.939</td>\n",
       "      <td>4.000</td>\n",
       "      <td>3.0</td>\n",
       "    </tr>\n",
       "    <tr>\n",
       "      <th>...</th>\n",
       "      <td>...</td>\n",
       "      <td>...</td>\n",
       "      <td>...</td>\n",
       "      <td>...</td>\n",
       "      <td>...</td>\n",
       "      <td>...</td>\n",
       "      <td>...</td>\n",
       "    </tr>\n",
       "    <tr>\n",
       "      <th>3930</th>\n",
       "      <td>0.942</td>\n",
       "      <td>1.339</td>\n",
       "      <td>5.510</td>\n",
       "      <td>-3.593</td>\n",
       "      <td>-0.021</td>\n",
       "      <td>6.000</td>\n",
       "      <td>5.0</td>\n",
       "    </tr>\n",
       "    <tr>\n",
       "      <th>3931</th>\n",
       "      <td>4.995</td>\n",
       "      <td>3.185</td>\n",
       "      <td>5.716</td>\n",
       "      <td>-2.304</td>\n",
       "      <td>0.119</td>\n",
       "      <td>6.000</td>\n",
       "      <td>5.0</td>\n",
       "    </tr>\n",
       "    <tr>\n",
       "      <th>3932</th>\n",
       "      <td>18.592</td>\n",
       "      <td>-7.635</td>\n",
       "      <td>-6.538</td>\n",
       "      <td>6.704</td>\n",
       "      <td>0.837</td>\n",
       "      <td>7.000</td>\n",
       "      <td>6.0</td>\n",
       "    </tr>\n",
       "    <tr>\n",
       "      <th>3933</th>\n",
       "      <td>0.595</td>\n",
       "      <td>2.003</td>\n",
       "      <td>5.517</td>\n",
       "      <td>-3.183</td>\n",
       "      <td>-0.466</td>\n",
       "      <td>5.000</td>\n",
       "      <td>4.0</td>\n",
       "    </tr>\n",
       "    <tr>\n",
       "      <th>3934</th>\n",
       "      <td>3.758</td>\n",
       "      <td>2.089</td>\n",
       "      <td>9.817</td>\n",
       "      <td>-4.928</td>\n",
       "      <td>1.524</td>\n",
       "      <td>8.000</td>\n",
       "      <td>7.0</td>\n",
       "    </tr>\n",
       "  </tbody>\n",
       "</table>\n",
       "<p>3892 rows × 7 columns</p>\n",
       "</div>"
      ],
      "text/plain": [
       "      for_con  cmi_sm  cmi_sm_lag1  cmi_sm_lag2  cmi_sm_lag3  dd5_wt_lag1  \\\n",
       "0      31.434 -10.600       -2.034       -4.475       -5.782        6.000   \n",
       "1      12.763 -12.612       -3.725       -4.590       -6.097        6.130   \n",
       "2      20.251 -12.468       -3.589       -4.417       -5.943        6.000   \n",
       "3      19.127 -12.661       -3.770       -4.666       -6.141        6.666   \n",
       "4      62.192  -5.643       -4.704       -9.364       -9.939        4.000   \n",
       "...       ...     ...          ...          ...          ...          ...   \n",
       "3930    0.942   1.339        5.510       -3.593       -0.021        6.000   \n",
       "3931    4.995   3.185        5.716       -2.304        0.119        6.000   \n",
       "3932   18.592  -7.635       -6.538        6.704        0.837        7.000   \n",
       "3933    0.595   2.003        5.517       -3.183       -0.466        5.000   \n",
       "3934    3.758   2.089        9.817       -4.928        1.524        8.000   \n",
       "\n",
       "      dd5_wt_lag3  \n",
       "0             8.0  \n",
       "1             9.0  \n",
       "2             9.0  \n",
       "3             9.0  \n",
       "4             3.0  \n",
       "...           ...  \n",
       "3930          5.0  \n",
       "3931          5.0  \n",
       "3932          6.0  \n",
       "3933          4.0  \n",
       "3934          7.0  \n",
       "\n",
       "[3892 rows x 7 columns]"
      ]
     },
     "execution_count": 69,
     "metadata": {},
     "output_type": "execute_result"
    }
   ],
   "source": [
    "# this excludes the faulty seasonal vars\n",
    "removeMultiColl(X22)"
   ]
  },
  {
   "cell_type": "code",
   "execution_count": 81,
   "id": "2267cac3",
   "metadata": {},
   "outputs": [],
   "source": [
    "# Vars kept\n",
    "# with v3.csv file\n",
    "cols1 =  ['for_con', 'cmi_sm', 'cmi_sm_lag1', 'cmi_sm_lag2', 'cmi_sm_lag3', 'dd5_wt_lag1', 'dd5_wt_lag3']"
   ]
  },
  {
   "cell_type": "code",
   "execution_count": 77,
   "id": "a99e92b6",
   "metadata": {},
   "outputs": [],
   "source": [
    "# These are the vars used in the first run of XGBoost models (not including for_pro_0 as it is categorical and skewed)\n",
    "cols1 =['for_age', 'for_con', 'map', 'map_lag1', 'map_lag2', 'map_lag3', 'mat', 'mat_lag1', 'mat_lag2', 'mat_lag3', 'rh', 'rh_lag1', 'rh_lag2', 'rh_lag3']\n",
    "X23 = X1[cols1]\n",
    "\n",
    "X23 = X23.dropna()"
   ]
  },
  {
   "cell_type": "code",
   "execution_count": 76,
   "id": "bd673025",
   "metadata": {},
   "outputs": [],
   "source": [
    "#print(X23.describe)"
   ]
  },
  {
   "cell_type": "code",
   "execution_count": 78,
   "id": "1b72307d",
   "metadata": {
    "scrolled": true
   },
   "outputs": [
    {
     "name": "stderr",
     "output_type": "stream",
     "text": [
      "[Parallel(n_jobs=-1)]: Using backend LokyBackend with 6 concurrent workers.\n",
      "[Parallel(n_jobs=-1)]: Done   6 out of  14 | elapsed:    0.0s remaining:    0.0s\n",
      "[Parallel(n_jobs=-1)]: Done   9 out of  14 | elapsed:    0.0s remaining:    0.0s\n",
      "[Parallel(n_jobs=-1)]: Done  12 out of  14 | elapsed:    0.0s remaining:    0.0s\n",
      "[Parallel(n_jobs=-1)]: Done  14 out of  14 | elapsed:    0.0s finished\n",
      "[Parallel(n_jobs=-1)]: Using backend LokyBackend with 6 concurrent workers.\n",
      "[Parallel(n_jobs=-1)]: Done   5 out of  13 | elapsed:    0.0s remaining:    0.0s\n",
      "[Parallel(n_jobs=-1)]: Done   8 out of  13 | elapsed:    0.0s remaining:    0.0s\n",
      "[Parallel(n_jobs=-1)]: Done  11 out of  13 | elapsed:    0.0s remaining:    0.0s\n",
      "[Parallel(n_jobs=-1)]: Done  13 out of  13 | elapsed:    0.0s finished\n",
      "[Parallel(n_jobs=-1)]: Using backend LokyBackend with 6 concurrent workers.\n",
      "[Parallel(n_jobs=-1)]: Done   4 out of  12 | elapsed:    0.0s remaining:    0.0s\n",
      "[Parallel(n_jobs=-1)]: Done   7 out of  12 | elapsed:    0.0s remaining:    0.0s\n",
      "[Parallel(n_jobs=-1)]: Done  10 out of  12 | elapsed:    0.0s remaining:    0.0s\n",
      "[Parallel(n_jobs=-1)]: Done  12 out of  12 | elapsed:    0.0s finished\n",
      "[Parallel(n_jobs=-1)]: Using backend LokyBackend with 6 concurrent workers.\n",
      "[Parallel(n_jobs=-1)]: Done   3 out of  11 | elapsed:    0.0s remaining:    0.0s\n",
      "[Parallel(n_jobs=-1)]: Done   6 out of  11 | elapsed:    0.0s remaining:    0.0s\n",
      "[Parallel(n_jobs=-1)]: Done   9 out of  11 | elapsed:    0.0s remaining:    0.0s\n",
      "[Parallel(n_jobs=-1)]: Done  11 out of  11 | elapsed:    0.0s finished\n",
      "[Parallel(n_jobs=-1)]: Using backend LokyBackend with 6 concurrent workers.\n"
     ]
    },
    {
     "name": "stdout",
     "output_type": "stream",
     "text": [
      "Dropping column : rh_lag1 at index - 11\n",
      "Dropping column : rh_lag2 at index - 11\n",
      "Dropping column : rh_lag3 at index - 11\n",
      "Dropping column : rh at index - 10\n",
      "Dropping column : map_lag3 at index - 5\n",
      "Dropping column : map_lag2 at index - 4\n",
      "Dropping column : map at index - 2\n",
      "Dropping column : map_lag1 at index - 2\n",
      "Dropping column : mat_lag1 at index - 3\n",
      "Dropping column : mat_lag3 at index - 4\n",
      "Dropping column : for_age at index - 0\n",
      "Dropping column : mat_lag2 at index - 2\n",
      "Remaining columns :\n",
      " ['for_con', 'mat']\n"
     ]
    },
    {
     "name": "stderr",
     "output_type": "stream",
     "text": [
      "[Parallel(n_jobs=-1)]: Done   2 out of  10 | elapsed:    0.0s remaining:    0.0s\n",
      "[Parallel(n_jobs=-1)]: Done   5 out of  10 | elapsed:    0.0s remaining:    0.0s\n",
      "[Parallel(n_jobs=-1)]: Done   8 out of  10 | elapsed:    0.0s remaining:    0.0s\n",
      "[Parallel(n_jobs=-1)]: Done  10 out of  10 | elapsed:    0.0s finished\n",
      "[Parallel(n_jobs=-1)]: Using backend LokyBackend with 6 concurrent workers.\n",
      "[Parallel(n_jobs=-1)]: Done   4 out of   9 | elapsed:    0.0s remaining:    0.0s\n",
      "[Parallel(n_jobs=-1)]: Done   6 out of   9 | elapsed:    0.0s remaining:    0.0s\n",
      "[Parallel(n_jobs=-1)]: Done   9 out of   9 | elapsed:    0.0s finished\n",
      "[Parallel(n_jobs=-1)]: Using backend LokyBackend with 6 concurrent workers.\n",
      "[Parallel(n_jobs=-1)]: Done   3 out of   8 | elapsed:    0.0s remaining:    0.0s\n",
      "[Parallel(n_jobs=-1)]: Done   5 out of   8 | elapsed:    0.0s remaining:    0.0s\n",
      "[Parallel(n_jobs=-1)]: Done   8 out of   8 | elapsed:    0.0s finished\n",
      "[Parallel(n_jobs=-1)]: Using backend LokyBackend with 6 concurrent workers.\n",
      "[Parallel(n_jobs=-1)]: Done   2 out of   7 | elapsed:    0.0s remaining:    0.0s\n",
      "[Parallel(n_jobs=-1)]: Done   4 out of   7 | elapsed:    0.0s remaining:    0.0s\n",
      "[Parallel(n_jobs=-1)]: Done   7 out of   7 | elapsed:    0.0s finished\n",
      "[Parallel(n_jobs=-1)]: Using backend LokyBackend with 6 concurrent workers.\n",
      "[Parallel(n_jobs=-1)]: Done   3 out of   6 | elapsed:    0.0s remaining:    0.0s\n",
      "[Parallel(n_jobs=-1)]: Done   6 out of   6 | elapsed:    0.0s finished\n",
      "[Parallel(n_jobs=-1)]: Using backend LokyBackend with 6 concurrent workers.\n",
      "[Parallel(n_jobs=-1)]: Done   2 out of   5 | elapsed:    0.0s remaining:    0.0s\n",
      "[Parallel(n_jobs=-1)]: Done   5 out of   5 | elapsed:    0.0s finished\n",
      "[Parallel(n_jobs=-1)]: Using backend LokyBackend with 6 concurrent workers.\n",
      "[Parallel(n_jobs=-1)]: Done   2 out of   4 | elapsed:    0.0s remaining:    0.0s\n",
      "[Parallel(n_jobs=-1)]: Done   4 out of   4 | elapsed:    0.0s remaining:    0.0s\n",
      "[Parallel(n_jobs=-1)]: Done   4 out of   4 | elapsed:    0.0s finished\n",
      "[Parallel(n_jobs=-1)]: Using backend LokyBackend with 6 concurrent workers.\n",
      "[Parallel(n_jobs=-1)]: Done   3 out of   3 | elapsed:    0.0s remaining:    0.0s\n",
      "[Parallel(n_jobs=-1)]: Done   3 out of   3 | elapsed:    0.0s finished\n",
      "[Parallel(n_jobs=-1)]: Using backend LokyBackend with 6 concurrent workers.\n",
      "[Parallel(n_jobs=-1)]: Done   2 out of   2 | elapsed:    0.0s remaining:    0.0s\n",
      "[Parallel(n_jobs=-1)]: Done   2 out of   2 | elapsed:    0.0s finished\n"
     ]
    },
    {
     "data": {
      "text/html": [
       "<div>\n",
       "<style scoped>\n",
       "    .dataframe tbody tr th:only-of-type {\n",
       "        vertical-align: middle;\n",
       "    }\n",
       "\n",
       "    .dataframe tbody tr th {\n",
       "        vertical-align: top;\n",
       "    }\n",
       "\n",
       "    .dataframe thead th {\n",
       "        text-align: right;\n",
       "    }\n",
       "</style>\n",
       "<table border=\"1\" class=\"dataframe\">\n",
       "  <thead>\n",
       "    <tr style=\"text-align: right;\">\n",
       "      <th></th>\n",
       "      <th>for_con</th>\n",
       "      <th>mat</th>\n",
       "    </tr>\n",
       "  </thead>\n",
       "  <tbody>\n",
       "    <tr>\n",
       "      <th>0</th>\n",
       "      <td>31.434</td>\n",
       "      <td>4.412</td>\n",
       "    </tr>\n",
       "    <tr>\n",
       "      <th>1</th>\n",
       "      <td>12.763</td>\n",
       "      <td>4.870</td>\n",
       "    </tr>\n",
       "    <tr>\n",
       "      <th>2</th>\n",
       "      <td>20.251</td>\n",
       "      <td>4.821</td>\n",
       "    </tr>\n",
       "    <tr>\n",
       "      <th>3</th>\n",
       "      <td>19.127</td>\n",
       "      <td>4.913</td>\n",
       "    </tr>\n",
       "    <tr>\n",
       "      <th>4</th>\n",
       "      <td>62.192</td>\n",
       "      <td>3.857</td>\n",
       "    </tr>\n",
       "    <tr>\n",
       "      <th>...</th>\n",
       "      <td>...</td>\n",
       "      <td>...</td>\n",
       "    </tr>\n",
       "    <tr>\n",
       "      <th>3930</th>\n",
       "      <td>0.942</td>\n",
       "      <td>5.926</td>\n",
       "    </tr>\n",
       "    <tr>\n",
       "      <th>3931</th>\n",
       "      <td>4.995</td>\n",
       "      <td>5.800</td>\n",
       "    </tr>\n",
       "    <tr>\n",
       "      <th>3932</th>\n",
       "      <td>18.592</td>\n",
       "      <td>6.915</td>\n",
       "    </tr>\n",
       "    <tr>\n",
       "      <th>3933</th>\n",
       "      <td>0.595</td>\n",
       "      <td>5.401</td>\n",
       "    </tr>\n",
       "    <tr>\n",
       "      <th>3934</th>\n",
       "      <td>3.758</td>\n",
       "      <td>4.707</td>\n",
       "    </tr>\n",
       "  </tbody>\n",
       "</table>\n",
       "<p>3892 rows × 2 columns</p>\n",
       "</div>"
      ],
      "text/plain": [
       "      for_con    mat\n",
       "0      31.434  4.412\n",
       "1      12.763  4.870\n",
       "2      20.251  4.821\n",
       "3      19.127  4.913\n",
       "4      62.192  3.857\n",
       "...       ...    ...\n",
       "3930    0.942  5.926\n",
       "3931    4.995  5.800\n",
       "3932   18.592  6.915\n",
       "3933    0.595  5.401\n",
       "3934    3.758  4.707\n",
       "\n",
       "[3892 rows x 2 columns]"
      ]
     },
     "execution_count": 78,
     "metadata": {},
     "output_type": "execute_result"
    }
   ],
   "source": [
    "# this excludes the faulty seasonal vars\n",
    "removeMultiColl(X23)"
   ]
  },
  {
   "cell_type": "code",
   "execution_count": null,
   "id": "cd60c014",
   "metadata": {},
   "outputs": [],
   "source": [
    "# Vars kept\n",
    "# Origianl vars kept after VIF. Only two kept meaning my model could be simpler but non-informative.\n",
    "cols1= ['for_con', 'mat']"
   ]
  },
  {
   "cell_type": "code",
   "execution_count": 79,
   "id": "8a8a58ac",
   "metadata": {},
   "outputs": [],
   "source": [
    "# MJF asked to run a new VIF with old vars (except elevation and conifer instead od deciduos) and the VIF subset (no for_pro_0 as it is categorical and skewed or problematic vars - with too many nulls or questionable range)\n",
    "cols1 =['for_age', 'for_con', 'map', 'map_lag1', 'map_lag2', 'map_lag3', 'mat', 'mat_lag1', 'mat_lag2', 'mat_lag3', 'rh', 'rh_lag1', 'rh_lag2', 'rh_lag3', 'cmi_sm', 'cmi_sm_lag1', 'cmi_sm_lag2', 'cmi_sm_lag3', 'dd5_wt_lag1', 'dd5_wt_lag3']\n",
    "X24 = X1[cols1]\n",
    "\n",
    "X24 = X24.dropna()"
   ]
  },
  {
   "cell_type": "code",
   "execution_count": 80,
   "id": "fa591bd0",
   "metadata": {
    "scrolled": true
   },
   "outputs": [
    {
     "name": "stderr",
     "output_type": "stream",
     "text": [
      "[Parallel(n_jobs=-1)]: Using backend LokyBackend with 6 concurrent workers.\n",
      "[Parallel(n_jobs=-1)]: Done   6 tasks      | elapsed:    0.0s\n",
      "[Parallel(n_jobs=-1)]: Done  14 out of  20 | elapsed:    0.0s remaining:    0.0s\n",
      "[Parallel(n_jobs=-1)]: Done  20 out of  20 | elapsed:    1.0s finished\n",
      "[Parallel(n_jobs=-1)]: Using backend LokyBackend with 6 concurrent workers.\n",
      "[Parallel(n_jobs=-1)]: Done   6 tasks      | elapsed:    0.0s\n",
      "[Parallel(n_jobs=-1)]: Done  12 out of  19 | elapsed:    0.0s remaining:    0.0s\n",
      "[Parallel(n_jobs=-1)]: Done  16 out of  19 | elapsed:    0.0s remaining:    0.0s\n",
      "[Parallel(n_jobs=-1)]: Done  19 out of  19 | elapsed:    0.0s finished\n",
      "[Parallel(n_jobs=-1)]: Using backend LokyBackend with 6 concurrent workers.\n",
      "[Parallel(n_jobs=-1)]: Done   6 tasks      | elapsed:    0.0s\n",
      "[Parallel(n_jobs=-1)]: Done  11 out of  18 | elapsed:    0.0s remaining:    0.0s\n",
      "[Parallel(n_jobs=-1)]: Done  15 out of  18 | elapsed:    0.0s remaining:    0.0s\n",
      "[Parallel(n_jobs=-1)]: Done  18 out of  18 | elapsed:    0.0s finished\n",
      "[Parallel(n_jobs=-1)]: Using backend LokyBackend with 6 concurrent workers.\n",
      "[Parallel(n_jobs=-1)]: Done   6 tasks      | elapsed:    0.0s\n",
      "[Parallel(n_jobs=-1)]: Done  10 out of  17 | elapsed:    0.0s remaining:    0.0s\n",
      "[Parallel(n_jobs=-1)]: Done  14 out of  17 | elapsed:    0.0s remaining:    0.0s\n",
      "[Parallel(n_jobs=-1)]: Done  17 out of  17 | elapsed:    0.0s finished\n",
      "[Parallel(n_jobs=-1)]: Using backend LokyBackend with 6 concurrent workers.\n",
      "[Parallel(n_jobs=-1)]: Done   9 out of  16 | elapsed:    0.0s remaining:    0.0s\n",
      "[Parallel(n_jobs=-1)]: Done  13 out of  16 | elapsed:    0.0s remaining:    0.0s\n",
      "[Parallel(n_jobs=-1)]: Done  16 out of  16 | elapsed:    0.0s finished\n",
      "[Parallel(n_jobs=-1)]: Using backend LokyBackend with 6 concurrent workers.\n"
     ]
    },
    {
     "name": "stdout",
     "output_type": "stream",
     "text": [
      "Dropping column : rh_lag2 at index - 12\n",
      "Dropping column : rh_lag1 at index - 11\n",
      "Dropping column : rh_lag3 at index - 11\n",
      "Dropping column : rh at index - 10\n",
      "Dropping column : map at index - 2\n",
      "Dropping column : map_lag1 at index - 2\n",
      "Dropping column : map_lag2 at index - 2\n",
      "Dropping column : map_lag3 at index - 2\n",
      "Dropping column : mat_lag3 at index - 5\n",
      "Dropping column : mat_lag1 at index - 3\n",
      "Dropping column : mat_lag2 at index - 3\n",
      "Dropping column : mat at index - 2\n",
      "Dropping column : for_age at index - 0\n",
      "Remaining columns :\n",
      " ['for_con', 'cmi_sm', 'cmi_sm_lag1', 'cmi_sm_lag2', 'cmi_sm_lag3', 'dd5_wt_lag1', 'dd5_wt_lag3']\n"
     ]
    },
    {
     "name": "stderr",
     "output_type": "stream",
     "text": [
      "[Parallel(n_jobs=-1)]: Done   8 out of  15 | elapsed:    0.0s remaining:    0.0s\n",
      "[Parallel(n_jobs=-1)]: Done  12 out of  15 | elapsed:    0.0s remaining:    0.0s\n",
      "[Parallel(n_jobs=-1)]: Done  15 out of  15 | elapsed:    0.0s finished\n",
      "[Parallel(n_jobs=-1)]: Using backend LokyBackend with 6 concurrent workers.\n",
      "[Parallel(n_jobs=-1)]: Done   6 out of  14 | elapsed:    0.0s remaining:    0.0s\n",
      "[Parallel(n_jobs=-1)]: Done   9 out of  14 | elapsed:    0.0s remaining:    0.0s\n",
      "[Parallel(n_jobs=-1)]: Done  12 out of  14 | elapsed:    0.0s remaining:    0.0s\n",
      "[Parallel(n_jobs=-1)]: Done  14 out of  14 | elapsed:    0.0s finished\n",
      "[Parallel(n_jobs=-1)]: Using backend LokyBackend with 6 concurrent workers.\n",
      "[Parallel(n_jobs=-1)]: Done   5 out of  13 | elapsed:    0.0s remaining:    0.0s\n",
      "[Parallel(n_jobs=-1)]: Done   8 out of  13 | elapsed:    0.0s remaining:    0.0s\n",
      "[Parallel(n_jobs=-1)]: Done  11 out of  13 | elapsed:    0.0s remaining:    0.0s\n",
      "[Parallel(n_jobs=-1)]: Done  13 out of  13 | elapsed:    0.0s finished\n",
      "[Parallel(n_jobs=-1)]: Using backend LokyBackend with 6 concurrent workers.\n",
      "[Parallel(n_jobs=-1)]: Done   4 out of  12 | elapsed:    0.0s remaining:    0.0s\n",
      "[Parallel(n_jobs=-1)]: Done   7 out of  12 | elapsed:    0.0s remaining:    0.0s\n",
      "[Parallel(n_jobs=-1)]: Done  10 out of  12 | elapsed:    0.0s remaining:    0.0s\n",
      "[Parallel(n_jobs=-1)]: Done  12 out of  12 | elapsed:    0.0s finished\n",
      "[Parallel(n_jobs=-1)]: Using backend LokyBackend with 6 concurrent workers.\n",
      "[Parallel(n_jobs=-1)]: Done   3 out of  11 | elapsed:    0.0s remaining:    0.0s\n",
      "[Parallel(n_jobs=-1)]: Done   6 out of  11 | elapsed:    0.0s remaining:    0.0s\n",
      "[Parallel(n_jobs=-1)]: Done   9 out of  11 | elapsed:    0.0s remaining:    0.0s\n",
      "[Parallel(n_jobs=-1)]: Done  11 out of  11 | elapsed:    0.0s finished\n",
      "[Parallel(n_jobs=-1)]: Using backend LokyBackend with 6 concurrent workers.\n",
      "[Parallel(n_jobs=-1)]: Done   2 out of  10 | elapsed:    0.0s remaining:    0.0s\n",
      "[Parallel(n_jobs=-1)]: Done   5 out of  10 | elapsed:    0.0s remaining:    0.0s\n",
      "[Parallel(n_jobs=-1)]: Done   8 out of  10 | elapsed:    0.0s remaining:    0.0s\n",
      "[Parallel(n_jobs=-1)]: Done  10 out of  10 | elapsed:    0.0s finished\n",
      "[Parallel(n_jobs=-1)]: Using backend LokyBackend with 6 concurrent workers.\n",
      "[Parallel(n_jobs=-1)]: Done   2 out of   9 | elapsed:    0.0s remaining:    0.0s\n",
      "[Parallel(n_jobs=-1)]: Done   4 out of   9 | elapsed:    0.0s remaining:    0.0s\n",
      "[Parallel(n_jobs=-1)]: Done   6 out of   9 | elapsed:    0.0s remaining:    0.0s\n",
      "[Parallel(n_jobs=-1)]: Done   9 out of   9 | elapsed:    0.0s finished\n",
      "[Parallel(n_jobs=-1)]: Using backend LokyBackend with 6 concurrent workers.\n",
      "[Parallel(n_jobs=-1)]: Done   3 out of   8 | elapsed:    0.0s remaining:    0.0s\n",
      "[Parallel(n_jobs=-1)]: Done   5 out of   8 | elapsed:    0.0s remaining:    0.0s\n",
      "[Parallel(n_jobs=-1)]: Done   8 out of   8 | elapsed:    0.0s finished\n",
      "[Parallel(n_jobs=-1)]: Using backend LokyBackend with 6 concurrent workers.\n",
      "[Parallel(n_jobs=-1)]: Done   2 out of   7 | elapsed:    0.0s remaining:    0.0s\n",
      "[Parallel(n_jobs=-1)]: Done   4 out of   7 | elapsed:    0.0s remaining:    0.0s\n",
      "[Parallel(n_jobs=-1)]: Done   7 out of   7 | elapsed:    0.0s finished\n"
     ]
    },
    {
     "data": {
      "text/html": [
       "<div>\n",
       "<style scoped>\n",
       "    .dataframe tbody tr th:only-of-type {\n",
       "        vertical-align: middle;\n",
       "    }\n",
       "\n",
       "    .dataframe tbody tr th {\n",
       "        vertical-align: top;\n",
       "    }\n",
       "\n",
       "    .dataframe thead th {\n",
       "        text-align: right;\n",
       "    }\n",
       "</style>\n",
       "<table border=\"1\" class=\"dataframe\">\n",
       "  <thead>\n",
       "    <tr style=\"text-align: right;\">\n",
       "      <th></th>\n",
       "      <th>for_con</th>\n",
       "      <th>cmi_sm</th>\n",
       "      <th>cmi_sm_lag1</th>\n",
       "      <th>cmi_sm_lag2</th>\n",
       "      <th>cmi_sm_lag3</th>\n",
       "      <th>dd5_wt_lag1</th>\n",
       "      <th>dd5_wt_lag3</th>\n",
       "    </tr>\n",
       "  </thead>\n",
       "  <tbody>\n",
       "    <tr>\n",
       "      <th>0</th>\n",
       "      <td>31.434</td>\n",
       "      <td>-10.600</td>\n",
       "      <td>-2.034</td>\n",
       "      <td>-4.475</td>\n",
       "      <td>-5.782</td>\n",
       "      <td>6.000</td>\n",
       "      <td>8.0</td>\n",
       "    </tr>\n",
       "    <tr>\n",
       "      <th>1</th>\n",
       "      <td>12.763</td>\n",
       "      <td>-12.612</td>\n",
       "      <td>-3.725</td>\n",
       "      <td>-4.590</td>\n",
       "      <td>-6.097</td>\n",
       "      <td>6.130</td>\n",
       "      <td>9.0</td>\n",
       "    </tr>\n",
       "    <tr>\n",
       "      <th>2</th>\n",
       "      <td>20.251</td>\n",
       "      <td>-12.468</td>\n",
       "      <td>-3.589</td>\n",
       "      <td>-4.417</td>\n",
       "      <td>-5.943</td>\n",
       "      <td>6.000</td>\n",
       "      <td>9.0</td>\n",
       "    </tr>\n",
       "    <tr>\n",
       "      <th>3</th>\n",
       "      <td>19.127</td>\n",
       "      <td>-12.661</td>\n",
       "      <td>-3.770</td>\n",
       "      <td>-4.666</td>\n",
       "      <td>-6.141</td>\n",
       "      <td>6.666</td>\n",
       "      <td>9.0</td>\n",
       "    </tr>\n",
       "    <tr>\n",
       "      <th>4</th>\n",
       "      <td>62.192</td>\n",
       "      <td>-5.643</td>\n",
       "      <td>-4.704</td>\n",
       "      <td>-9.364</td>\n",
       "      <td>-9.939</td>\n",
       "      <td>4.000</td>\n",
       "      <td>3.0</td>\n",
       "    </tr>\n",
       "    <tr>\n",
       "      <th>...</th>\n",
       "      <td>...</td>\n",
       "      <td>...</td>\n",
       "      <td>...</td>\n",
       "      <td>...</td>\n",
       "      <td>...</td>\n",
       "      <td>...</td>\n",
       "      <td>...</td>\n",
       "    </tr>\n",
       "    <tr>\n",
       "      <th>3930</th>\n",
       "      <td>0.942</td>\n",
       "      <td>1.339</td>\n",
       "      <td>5.510</td>\n",
       "      <td>-3.593</td>\n",
       "      <td>-0.021</td>\n",
       "      <td>6.000</td>\n",
       "      <td>5.0</td>\n",
       "    </tr>\n",
       "    <tr>\n",
       "      <th>3931</th>\n",
       "      <td>4.995</td>\n",
       "      <td>3.185</td>\n",
       "      <td>5.716</td>\n",
       "      <td>-2.304</td>\n",
       "      <td>0.119</td>\n",
       "      <td>6.000</td>\n",
       "      <td>5.0</td>\n",
       "    </tr>\n",
       "    <tr>\n",
       "      <th>3932</th>\n",
       "      <td>18.592</td>\n",
       "      <td>-7.635</td>\n",
       "      <td>-6.538</td>\n",
       "      <td>6.704</td>\n",
       "      <td>0.837</td>\n",
       "      <td>7.000</td>\n",
       "      <td>6.0</td>\n",
       "    </tr>\n",
       "    <tr>\n",
       "      <th>3933</th>\n",
       "      <td>0.595</td>\n",
       "      <td>2.003</td>\n",
       "      <td>5.517</td>\n",
       "      <td>-3.183</td>\n",
       "      <td>-0.466</td>\n",
       "      <td>5.000</td>\n",
       "      <td>4.0</td>\n",
       "    </tr>\n",
       "    <tr>\n",
       "      <th>3934</th>\n",
       "      <td>3.758</td>\n",
       "      <td>2.089</td>\n",
       "      <td>9.817</td>\n",
       "      <td>-4.928</td>\n",
       "      <td>1.524</td>\n",
       "      <td>8.000</td>\n",
       "      <td>7.0</td>\n",
       "    </tr>\n",
       "  </tbody>\n",
       "</table>\n",
       "<p>3892 rows × 7 columns</p>\n",
       "</div>"
      ],
      "text/plain": [
       "      for_con  cmi_sm  cmi_sm_lag1  cmi_sm_lag2  cmi_sm_lag3  dd5_wt_lag1  \\\n",
       "0      31.434 -10.600       -2.034       -4.475       -5.782        6.000   \n",
       "1      12.763 -12.612       -3.725       -4.590       -6.097        6.130   \n",
       "2      20.251 -12.468       -3.589       -4.417       -5.943        6.000   \n",
       "3      19.127 -12.661       -3.770       -4.666       -6.141        6.666   \n",
       "4      62.192  -5.643       -4.704       -9.364       -9.939        4.000   \n",
       "...       ...     ...          ...          ...          ...          ...   \n",
       "3930    0.942   1.339        5.510       -3.593       -0.021        6.000   \n",
       "3931    4.995   3.185        5.716       -2.304        0.119        6.000   \n",
       "3932   18.592  -7.635       -6.538        6.704        0.837        7.000   \n",
       "3933    0.595   2.003        5.517       -3.183       -0.466        5.000   \n",
       "3934    3.758   2.089        9.817       -4.928        1.524        8.000   \n",
       "\n",
       "      dd5_wt_lag3  \n",
       "0             8.0  \n",
       "1             9.0  \n",
       "2             9.0  \n",
       "3             9.0  \n",
       "4             3.0  \n",
       "...           ...  \n",
       "3930          5.0  \n",
       "3931          5.0  \n",
       "3932          6.0  \n",
       "3933          4.0  \n",
       "3934          7.0  \n",
       "\n",
       "[3892 rows x 7 columns]"
      ]
     },
     "execution_count": 80,
     "metadata": {},
     "output_type": "execute_result"
    }
   ],
   "source": [
    "# this excludes the faulty seasonal vars\n",
    "removeMultiColl(X24)"
   ]
  },
  {
   "cell_type": "code",
   "execution_count": null,
   "id": "020811a4",
   "metadata": {},
   "outputs": [],
   "source": [
    "# MJF's request, X24\n",
    "# There are the variables kept, which are the same as those of X2 which was run with all the universe of variables except for_pro and problematic vars.\n",
    "cols1 = ['for_con', 'cmi_sm', 'cmi_sm_lag1', 'cmi_sm_lag2', 'cmi_sm_lag3', 'dd5_wt_lag1', 'dd5_wt_lag3']"
   ]
  },
  {
   "cell_type": "code",
   "execution_count": 32,
   "id": "bb4db2d8",
   "metadata": {
    "scrolled": true
   },
   "outputs": [
    {
     "name": "stdout",
     "output_type": "stream",
     "text": [
      "<bound method NDFrame.describe of       for_con  cmi_sm  cmi_sm_lag1  cmi_sm_lag2  cmi_sm_lag3  dd5_wt  nffd_wt  \\\n",
      "0      60.374  -5.753        3.632       -2.837      -11.127     5.0      0.0   \n",
      "1      25.777  -4.637       10.508       -0.854       -4.958     5.0      0.0   \n",
      "2      53.178  -4.739        9.859       -1.417       -5.528     5.0      0.0   \n",
      "3      11.073  -3.405       11.312       -1.189       -4.410     6.0      0.0   \n",
      "4      32.724  -5.511        0.523       -3.657      -14.041     5.0      0.0   \n",
      "...       ...     ...          ...          ...          ...     ...      ...   \n",
      "3930    2.917   5.843        6.397       -0.149        1.227     7.0      1.0   \n",
      "3931   19.991  14.432        0.723       -1.454       -5.521     2.0      0.0   \n",
      "3932    0.000     NaN          NaN        4.129        7.226     NaN      NaN   \n",
      "3933    8.311   7.803       -0.564        2.738       11.140     7.0      1.0   \n",
      "3934   19.864     NaN          NaN        5.312        4.162     NaN      NaN   \n",
      "\n",
      "      nffd_wt_lag1  nffd_wt_lag2  nffd_wt_lag3  pas_sm  pas_sm_lag1  \\\n",
      "0              0.0           0.0           0.0     0.0        0.000   \n",
      "1              0.0           0.0           1.0     0.0        0.000   \n",
      "2              0.0           0.0           1.0     0.0        0.000   \n",
      "3              0.0           0.0           1.0     0.0        0.000   \n",
      "4              0.0           0.0           0.0     0.0        0.000   \n",
      "...            ...           ...           ...     ...          ...   \n",
      "3930           1.0           0.0           0.0     0.0        0.000   \n",
      "3931           0.0           1.0           0.0     0.0        0.000   \n",
      "3932           NaN           1.0           1.0     NaN          NaN   \n",
      "3933           0.0           0.0           1.0     0.0        0.565   \n",
      "3934           NaN           1.0           1.0     NaN          NaN   \n",
      "\n",
      "      pas_sm_lag2  pas_sm_lag3  \n",
      "0             0.0          0.0  \n",
      "1             0.0          0.0  \n",
      "2             0.0          0.0  \n",
      "3             0.0          0.0  \n",
      "4             0.0          0.0  \n",
      "...           ...          ...  \n",
      "3930          1.0          0.0  \n",
      "3931          0.0          0.0  \n",
      "3932          0.0          0.0  \n",
      "3933          0.0          1.0  \n",
      "3934          0.0          0.0  \n",
      "\n",
      "[3935 rows x 14 columns]>\n"
     ]
    }
   ],
   "source": [
    "import numpy as np\n",
    "\n",
    "# Vars kept by VIF + for_age manually added for correlation plot below\n",
    "cols1 = ['for_age','for_con', 'cmi_sm', 'cmi_sm_lag1', 'cmi_sm_lag2', 'cmi_sm_lag3', 'dd5_wt', 'nffd_wt', 'nffd_wt_lag1', 'nffd_wt_lag2', 'nffd_wt_lag3', 'pas_sm', 'pas_sm_lag1', 'pas_sm_lag2', 'pas_sm_lag3']\n",
    "X3 = X1[cols1]\n",
    "\n",
    "print(X3.describe)\n"
   ]
  },
  {
   "cell_type": "code",
   "execution_count": 63,
   "id": "bc985d57",
   "metadata": {},
   "outputs": [],
   "source": [
    "# create correlation map\n",
    "import matplotlib.pyplot as plt\n",
    "import seaborn as sns\n",
    "\n",
    "# Define function    \n",
    "def correlation_heatmap(X):\n",
    "    correlations = X.corr()\n",
    "\n",
    "    fig, ax = plt.subplots(figsize=(10,10))\n",
    "    sns.heatmap(correlations, vmax=1.0, center=0, fmt='.2f', cmap=\"YlGnBu\",\n",
    "                square=True, linewidths=.5, annot=True, cbar_kws={\"shrink\": .70}\n",
    "                )\n",
    "    "
   ]
  },
  {
   "cell_type": "code",
   "execution_count": 62,
   "id": "101b8924",
   "metadata": {},
   "outputs": [],
   "source": [
    "# Create correlation plot\n",
    "#features_names1 = [\"age\",\"deciduous\",\"elevation\",\"precipitation\",\"temperature\",\"precipitation_lag1\", \"temperature_lag1\", \"precipitation_lag2\", \"temperature_lag2\", \"precipitation_lag3\", \"temperature_lag3\",\"protected_0\",\"protected_1\",\n",
    "#                 \"cmi\", \"rh\" ,\"cmi_lag1\", \"rh_lag1\",\"cmi_lag2\", \"rh_lag2\",\"cmi_lag3\", \"rh_lag3\"]\n",
    "\n",
    "#features_names1 = [\"age\",\"deciduous\",\"elevation\",\"precipitation\",\"temperature\",\"precipitation_lag1\", \"temperature_lag1\", \"precipitation_lag2\", \"temperature_lag2\", \"precipitation_lag3\", \"temperature_lag3\",\n",
    "#                 \"rh\" ,\"rh_lag1\",\"rh_lag2\",\"rh_lag3\"]\n",
    "\n",
    "#correlation_heatmap(X1[features_names1])\n",
    "#correlation_heatmap(X3)\n",
    "# sorted_idx = xgb.feature_importances_.argsort()\n",
    "\n",
    "#plt.savefig('correlation5.png',  dpi=300, bbox_inches='tight')\n",
    "\n",
    "\n",
    "#plt.show()"
   ]
  },
  {
   "cell_type": "markdown",
   "id": "e67f4082",
   "metadata": {},
   "source": [
    "#### Create variable list for XGB models\n",
    "\n",
    "I decided to use _v3.csv files as the match rationale between breaks and climate variables seems more robust. These files have less null records than previous versions excpect for for_age and for_con. These vars forest age and composition were derived from a new approach using Beaudoin et al. and Hermosilla et. al data sets.\n",
    "\n",
    "I am leaving out variables that were initially selected by VIF but whose range of values is dubious (e.g., 'nffd_wt', 'nffd_wt_lag1', 'nffd_wt_lag2', 'nffd_wt_lag3', 'pas_sm', 'pas_sm_lag1', 'pas_sm_lag2', 'pas_sm_lag3'). It seems Climate NA can not downscale these metrics in a robust way. Also, I am leaving out climate variables with too many nulls (e.g. rad which had many -9999 values).\n",
    "\n",
    "Also, I only need to include one of for_pro_0 or for_pro_1 in my models but not both. Given that the former has more records with 1  values I will use it.\n",
    "\n",
    "#####  Variable selection after running VIF\n",
    "\n",
    "- Vars0: Original vars (14 vars) expect elevation and deciduous has been replaced by conifers\n",
    "\n",
    "cols1 =['for_age', 'for_con', 'map', 'map_lag1', 'map_lag2', 'map_lag3', 'mat', 'mat_lag1', 'mat_lag2', 'mat_lag3', 'rh', 'rh_lag1', 'rh_lag2', 'rh_lag3', 'for_pro_0']\n",
    "\n",
    "- Vars1: Using all 100+ vars, X2 df above\n",
    "\n",
    "cols1 = ['for_con', 'cmi_sm', 'cmi_sm_lag1', 'cmi_sm_lag2', 'cmi_sm_lag3', 'dd5_wt', 'nffd_wt', 'nffd_wt_lag1', 'nffd_wt_lag2', 'nffd_wt_lag3', 'pas_sm', 'pas_sm_lag1', 'pas_sm_lag2', 'pas_sm_lag3']\n",
    "\n",
    "- Vars2: Using all 100+ vars minues problematic vars (too many nulls: rad vars; stange range: nffd, pas).  X22 df above\n",
    "\n",
    "cols1 = ['for_con', 'cmi_sm', 'cmi_sm_lag1', 'cmi_sm_lag2', 'cmi_sm_lag3', 'dd5_wt_lag1', 'dd5_wt_lag3']\n",
    "\n",
    "- Vars3: Using all vars in first XGB models (In the first model I kept all vars with R <0.5). Initial number of vars 14. X23 df above\n",
    "\n",
    "cols1= ['for_con', 'mat']\n",
    "\n",
    "- Vars4: Vars2 from above + for_age, for_pro_0\n",
    "\n",
    "cols1 = ['for_con', 'cmi_sm', 'cmi_sm_lag1', 'cmi_sm_lag2', 'cmi_sm_lag3', 'dd5_wt_lag1', 'dd5_wt_lag3', 'for_age', 'for_pro_0']\n",
    "\n",
    "- Vars5: MJF's request. Original XGB run vars (14) + Vars2.  But at the ends the same vars as in Vars2 are left.\n",
    "\n",
    "cols1 =  ['for_con', 'cmi_sm', 'cmi_sm_lag1', 'cmi_sm_lag2', 'cmi_sm_lag3', 'dd5_wt_lag1', 'dd5_wt_lag3']\n",
    "\n",
    "In my XGB models, I will only run Vars0, Vars2, and Vars4. I will run a standard run with all records and a subset run with only records that do not have a match with disturbance data (Hansen et al.)\n"
   ]
  },
  {
   "cell_type": "code",
   "execution_count": 82,
   "id": "21ba4f41",
   "metadata": {},
   "outputs": [],
   "source": [
    "# Df 1: All vars form original XGB model \n",
    "# done already\n",
    "cols1 = ['for_age', 'for_con', 'map', 'map_lag1', 'map_lag2', 'map_lag3', 'mat', 'mat_lag1', 'mat_lag2', 'mat_lag3', 'rh', 'rh_lag1', 'rh_lag2', 'rh_lag3', 'for_pro_0']\n"
   ]
  },
  {
   "cell_type": "code",
   "execution_count": 89,
   "id": "c1738feb",
   "metadata": {},
   "outputs": [],
   "source": [
    "# Df 2: VIF subset only\n",
    "cols2 = ['for_con', 'cmi_sm', 'cmi_sm_lag1', 'cmi_sm_lag2', 'cmi_sm_lag3', 'dd5_wt_lag1', 'dd5_wt_lag3']\n"
   ]
  },
  {
   "cell_type": "code",
   "execution_count": 96,
   "id": "33fa9d36",
   "metadata": {},
   "outputs": [],
   "source": [
    "# Df 3: VIF subset + for_age, for_pro_0 \n",
    "cols3 = ['for_con', 'cmi_sm', 'cmi_sm_lag1', 'cmi_sm_lag2', 'cmi_sm_lag3', 'dd5_wt_lag1', 'dd5_wt_lag3', 'for_age', 'for_pro_0']\n"
   ]
  },
  {
   "cell_type": "code",
   "execution_count": 97,
   "id": "64941b2f",
   "metadata": {},
   "outputs": [
    {
     "name": "stdout",
     "output_type": "stream",
     "text": [
      "<bound method NDFrame.describe of       for_con  cmi_sm  cmi_sm_lag1  cmi_sm_lag2  cmi_sm_lag3  dd5_wt_lag1  \\\n",
      "0      31.434 -10.600       -2.034       -4.475       -5.782        6.000   \n",
      "1      12.763 -12.612       -3.725       -4.590       -6.097        6.130   \n",
      "2      20.251 -12.468       -3.589       -4.417       -5.943        6.000   \n",
      "3      19.127 -12.661       -3.770       -4.666       -6.141        6.666   \n",
      "4      62.192  -5.643       -4.704       -9.364       -9.939        4.000   \n",
      "...       ...     ...          ...          ...          ...          ...   \n",
      "3930    0.942   1.339        5.510       -3.593       -0.021        6.000   \n",
      "3931    4.995   3.185        5.716       -2.304        0.119        6.000   \n",
      "3932   18.592  -7.635       -6.538        6.704        0.837        7.000   \n",
      "3933    0.595   2.003        5.517       -3.183       -0.466        5.000   \n",
      "3934    3.758   2.089        9.817       -4.928        1.524        8.000   \n",
      "\n",
      "      dd5_wt_lag3  for_age  for_pro_0  \n",
      "0             8.0   82.398        1.0  \n",
      "1             9.0   83.758        1.0  \n",
      "2             9.0   90.001        1.0  \n",
      "3             9.0   91.311        1.0  \n",
      "4             3.0   68.810        1.0  \n",
      "...           ...      ...        ...  \n",
      "3930          5.0   66.368        1.0  \n",
      "3931          5.0   71.400        1.0  \n",
      "3932          6.0   93.352        1.0  \n",
      "3933          4.0   66.811        1.0  \n",
      "3934          7.0   89.369        1.0  \n",
      "\n",
      "[3935 rows x 9 columns]>\n"
     ]
    }
   ],
   "source": [
    "# Here I test whether the right columns are selected and the df is properly created.\n",
    "\n",
    "df2 = pd.read_csv(r'.\\data\\forest_evi_breaks_positive_v3.csv', skipinitialspace=True)\n",
    "#df2.head()\n",
    "\n",
    "# create non-protected dummy variable \n",
    "df3 = pd.get_dummies(df2, columns=['for_pro'], dtype=float)\n",
    "#cols2 = ['for_age','for_con', 'cmi_sm', 'cmi_sm_lag1', 'cmi_sm_lag2', 'cmi_sm_lag3', 'dd5_wt', 'nffd_wt', 'nffd_wt_lag1', 'nffd_wt_lag2', 'nffd_wt_lag3', 'pas_sm', 'pas_sm_lag1', 'pas_sm_lag2', 'pas_sm_lag3', 'for_pro_0', 'for_pro_1']\n",
    "\n",
    "# select columns for model\n",
    "X6 = df3[cols1]\n",
    "\n",
    "print(X6.describe)\n",
    "#print(X6.head())"
   ]
  },
  {
   "cell_type": "code",
   "execution_count": 98,
   "id": "7867791c",
   "metadata": {},
   "outputs": [
    {
     "data": {
      "text/plain": [
       "for_con        43\n",
       "cmi_sm          0\n",
       "cmi_sm_lag1     0\n",
       "cmi_sm_lag2     0\n",
       "cmi_sm_lag3     0\n",
       "dd5_wt_lag1     0\n",
       "dd5_wt_lag3     0\n",
       "for_age        42\n",
       "for_pro_0       0\n",
       "dtype: int64"
      ]
     },
     "execution_count": 98,
     "metadata": {},
     "output_type": "execute_result"
    }
   ],
   "source": [
    "# Count NAs per columns. These NAs are correct as nan. the rad variables above had -9999 values which could have biased the results.\n",
    "# Hence, the rad vars were dropped.\n",
    "X6.isna().sum()\n"
   ]
  },
  {
   "cell_type": "code",
   "execution_count": 99,
   "id": "ccd15bc8",
   "metadata": {},
   "outputs": [
    {
     "data": {
      "text/plain": [
       "(3935, 9)"
      ]
     },
     "execution_count": 99,
     "metadata": {},
     "output_type": "execute_result"
    }
   ],
   "source": [
    "X6.shape\n"
   ]
  },
  {
   "cell_type": "code",
   "execution_count": 100,
   "id": "cf93423f",
   "metadata": {},
   "outputs": [
    {
     "data": {
      "text/html": [
       "<div>\n",
       "<style scoped>\n",
       "    .dataframe tbody tr th:only-of-type {\n",
       "        vertical-align: middle;\n",
       "    }\n",
       "\n",
       "    .dataframe tbody tr th {\n",
       "        vertical-align: top;\n",
       "    }\n",
       "\n",
       "    .dataframe thead th {\n",
       "        text-align: right;\n",
       "    }\n",
       "</style>\n",
       "<table border=\"1\" class=\"dataframe\">\n",
       "  <thead>\n",
       "    <tr style=\"text-align: right;\">\n",
       "      <th></th>\n",
       "      <th>for_con</th>\n",
       "      <th>cmi_sm</th>\n",
       "      <th>cmi_sm_lag1</th>\n",
       "      <th>cmi_sm_lag2</th>\n",
       "      <th>cmi_sm_lag3</th>\n",
       "      <th>dd5_wt_lag1</th>\n",
       "      <th>dd5_wt_lag3</th>\n",
       "      <th>for_age</th>\n",
       "      <th>for_pro_0</th>\n",
       "    </tr>\n",
       "  </thead>\n",
       "  <tbody>\n",
       "    <tr>\n",
       "      <th>count</th>\n",
       "      <td>3892.000000</td>\n",
       "      <td>3935.000000</td>\n",
       "      <td>3935.000000</td>\n",
       "      <td>3935.000000</td>\n",
       "      <td>3935.000000</td>\n",
       "      <td>3935.000000</td>\n",
       "      <td>3935.000000</td>\n",
       "      <td>3893.000000</td>\n",
       "      <td>3935.000000</td>\n",
       "    </tr>\n",
       "    <tr>\n",
       "      <th>mean</th>\n",
       "      <td>32.827358</td>\n",
       "      <td>-1.534529</td>\n",
       "      <td>-0.577318</td>\n",
       "      <td>-1.497179</td>\n",
       "      <td>-1.249436</td>\n",
       "      <td>5.735864</td>\n",
       "      <td>5.616830</td>\n",
       "      <td>84.874855</td>\n",
       "      <td>0.934943</td>\n",
       "    </tr>\n",
       "    <tr>\n",
       "      <th>std</th>\n",
       "      <td>24.494719</td>\n",
       "      <td>5.321250</td>\n",
       "      <td>6.149891</td>\n",
       "      <td>5.223029</td>\n",
       "      <td>5.919851</td>\n",
       "      <td>2.873347</td>\n",
       "      <td>2.540958</td>\n",
       "      <td>18.584966</td>\n",
       "      <td>0.246658</td>\n",
       "    </tr>\n",
       "    <tr>\n",
       "      <th>min</th>\n",
       "      <td>0.000000</td>\n",
       "      <td>-16.618000</td>\n",
       "      <td>-16.886000</td>\n",
       "      <td>-16.811000</td>\n",
       "      <td>-16.882000</td>\n",
       "      <td>2.000000</td>\n",
       "      <td>2.000000</td>\n",
       "      <td>0.500000</td>\n",
       "      <td>0.000000</td>\n",
       "    </tr>\n",
       "    <tr>\n",
       "      <th>25%</th>\n",
       "      <td>14.624500</td>\n",
       "      <td>-5.034000</td>\n",
       "      <td>-4.588500</td>\n",
       "      <td>-4.777500</td>\n",
       "      <td>-4.870500</td>\n",
       "      <td>4.000000</td>\n",
       "      <td>4.000000</td>\n",
       "      <td>76.015000</td>\n",
       "      <td>1.000000</td>\n",
       "    </tr>\n",
       "    <tr>\n",
       "      <th>50%</th>\n",
       "      <td>24.649000</td>\n",
       "      <td>-1.656000</td>\n",
       "      <td>-0.876000</td>\n",
       "      <td>-0.856000</td>\n",
       "      <td>-1.239000</td>\n",
       "      <td>5.000000</td>\n",
       "      <td>5.000000</td>\n",
       "      <td>85.046000</td>\n",
       "      <td>1.000000</td>\n",
       "    </tr>\n",
       "    <tr>\n",
       "      <th>75%</th>\n",
       "      <td>47.640750</td>\n",
       "      <td>2.272000</td>\n",
       "      <td>4.323500</td>\n",
       "      <td>1.578000</td>\n",
       "      <td>3.304500</td>\n",
       "      <td>6.000000</td>\n",
       "      <td>6.000000</td>\n",
       "      <td>95.194000</td>\n",
       "      <td>1.000000</td>\n",
       "    </tr>\n",
       "    <tr>\n",
       "      <th>max</th>\n",
       "      <td>100.000000</td>\n",
       "      <td>14.549000</td>\n",
       "      <td>12.932000</td>\n",
       "      <td>11.907000</td>\n",
       "      <td>12.850000</td>\n",
       "      <td>23.313000</td>\n",
       "      <td>23.313000</td>\n",
       "      <td>174.394000</td>\n",
       "      <td>1.000000</td>\n",
       "    </tr>\n",
       "  </tbody>\n",
       "</table>\n",
       "</div>"
      ],
      "text/plain": [
       "           for_con       cmi_sm  cmi_sm_lag1  cmi_sm_lag2  cmi_sm_lag3  \\\n",
       "count  3892.000000  3935.000000  3935.000000  3935.000000  3935.000000   \n",
       "mean     32.827358    -1.534529    -0.577318    -1.497179    -1.249436   \n",
       "std      24.494719     5.321250     6.149891     5.223029     5.919851   \n",
       "min       0.000000   -16.618000   -16.886000   -16.811000   -16.882000   \n",
       "25%      14.624500    -5.034000    -4.588500    -4.777500    -4.870500   \n",
       "50%      24.649000    -1.656000    -0.876000    -0.856000    -1.239000   \n",
       "75%      47.640750     2.272000     4.323500     1.578000     3.304500   \n",
       "max     100.000000    14.549000    12.932000    11.907000    12.850000   \n",
       "\n",
       "       dd5_wt_lag1  dd5_wt_lag3      for_age    for_pro_0  \n",
       "count  3935.000000  3935.000000  3893.000000  3935.000000  \n",
       "mean      5.735864     5.616830    84.874855     0.934943  \n",
       "std       2.873347     2.540958    18.584966     0.246658  \n",
       "min       2.000000     2.000000     0.500000     0.000000  \n",
       "25%       4.000000     4.000000    76.015000     1.000000  \n",
       "50%       5.000000     5.000000    85.046000     1.000000  \n",
       "75%       6.000000     6.000000    95.194000     1.000000  \n",
       "max      23.313000    23.313000   174.394000     1.000000  "
      ]
     },
     "execution_count": 100,
     "metadata": {},
     "output_type": "execute_result"
    }
   ],
   "source": [
    "X6.describe()"
   ]
  },
  {
   "cell_type": "code",
   "execution_count": 101,
   "id": "616675e7",
   "metadata": {
    "scrolled": true
   },
   "outputs": [
    {
     "name": "stdout",
     "output_type": "stream",
     "text": [
      "Response/label data\n",
      "0     672.967\n",
      "1    1070.553\n",
      "2    1048.369\n",
      "3     781.968\n",
      "4     458.737\n",
      "Name: magnitude, dtype: float64\n"
     ]
    }
   ],
   "source": [
    "# predictor\n",
    "y1 = df2.iloc[:,6]\n",
    "print(\"Response/label data\")\n",
    "print(y1.head())"
   ]
  },
  {
   "cell_type": "code",
   "execution_count": 102,
   "id": "793e4779",
   "metadata": {},
   "outputs": [
    {
     "data": {
      "text/plain": [
       "count    3935.000000\n",
       "mean      802.658876\n",
       "std       390.213785\n",
       "min        81.806000\n",
       "25%       535.356000\n",
       "50%       724.616000\n",
       "75%       969.261500\n",
       "max      3606.961000\n",
       "Name: magnitude, dtype: float64"
      ]
     },
     "execution_count": 102,
     "metadata": {},
     "output_type": "execute_result"
    }
   ],
   "source": [
    "y1.describe()"
   ]
  },
  {
   "cell_type": "markdown",
   "id": "b779dd6f",
   "metadata": {},
   "source": [
    "#### References"
   ]
  },
  {
   "cell_type": "markdown",
   "id": "0c055ee4",
   "metadata": {},
   "source": [
    "Mostly tutorials & blogs.\n",
    "\n",
    "https://www.youtube.com/watch?v=OQKQHNCVf5k\n",
    "\n",
    "https://www.youtube.com/watch?v=GrJP9FLV3FE&t=2167s\n",
    "\n",
    "https://datascience.stackexchange.com/questions/16342/unbalanced-multiclass-data-with-xgboost\n",
    "\n",
    "https://mljar.com/blog/xgboost-save-load-python/\n",
    "\n",
    "https://machinelearningmastery.com/xgboost-for-regression/\n",
    "\n",
    "https://scikit-learn.org/stable/modules/model_evaluation.html#scoring-parameter\n",
    "\n",
    "https://pandas.pydata.org/pandas-docs/stable/reference/api/pandas.get_dummies.html\n",
    "\n",
    "https://www.datatechnotes.com/2019/06/regression-example-with-xgbregressor-in.html\n",
    "\n",
    "https://github.com/parrt/dtreeviz\n",
    "\n",
    "https://stackoverflow.com/questions/37627923/how-to-get-feature-importance-in-xgboost\n",
    "\n",
    "https://towardsdatascience.com/be-careful-when-interpreting-your-features-importance-in-xgboost-6e16132588e7\n",
    "\n",
    "https://scikit-learn.org/stable/modules/partial_dependence.html\n",
    "\n",
    "https://scikit-learn.org/stable/auto_examples/inspection/plot_partial_dependence.html#way-partial-dependence-with-different-models\n",
    "\n",
    "https://mljar.com/blog/xgboost-early-stopping/\n",
    "\n",
    "https://scikit-learn.org/stable/modules/classes.html#module-sklearn.metrics\n",
    "\n",
    "https://github.com/parrt/dtreeviz\n",
    "\n",
    "\n",
    "\n"
   ]
  },
  {
   "cell_type": "code",
   "execution_count": null,
   "id": "6be2b3e0",
   "metadata": {},
   "outputs": [],
   "source": []
  }
 ],
 "metadata": {
  "kernelspec": {
   "display_name": "Python 3 (ipykernel)",
   "language": "python",
   "name": "python3"
  },
  "language_info": {
   "codemirror_mode": {
    "name": "ipython",
    "version": 3
   },
   "file_extension": ".py",
   "mimetype": "text/x-python",
   "name": "python",
   "nbconvert_exporter": "python",
   "pygments_lexer": "ipython3",
   "version": "3.10.12"
  }
 },
 "nbformat": 4,
 "nbformat_minor": 5
}
