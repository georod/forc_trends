{
 "cells": [
  {
   "cell_type": "markdown",
   "id": "5796f876",
   "metadata": {},
   "source": [
    "## Extreme Gradient Boosting Tutorial - Using XGBRegressor"
   ]
  },
  {
   "cell_type": "markdown",
   "id": "e6e34ca0",
   "metadata": {},
   "source": [
    "Peter R., 2023-08-01"
   ]
  },
  {
   "cell_type": "markdown",
   "id": "413f9ee6",
   "metadata": {},
   "source": [
    "### Intro\n",
    "There are several way to carry our Extreme Gradient Boosting. You could use R or Python.  There are several R packages to do so such as \"dismo\" and \"xgboosting\". In Python there are several ways as well. You can do XGB with the sklearn framework and within this framework you can use \"xgboost\"  train(), XGBClassifier(), XGBRegression() etc.  Here I use XGBRegression().\n",
    "\n",
    "Here I try XGBRegressor following Jason Brownlee's tutorial (see reference at the end)."
   ]
  },
  {
   "cell_type": "markdown",
   "id": "3e9fe312",
   "metadata": {},
   "source": [
    "#### File and folder path settings"
   ]
  },
  {
   "cell_type": "code",
   "execution_count": 1,
   "id": "b327cd33",
   "metadata": {},
   "outputs": [
    {
     "name": "stdout",
     "output_type": "stream",
     "text": [
      "C:\\Users\\Peter R\\github\\forc_trends\\models\\xgboost\n"
     ]
    }
   ],
   "source": [
    "# Import the os module\n",
    "import os\n",
    "\n",
    "# Get the current working directory\n",
    "cwd = os.getcwd()\n",
    "\n",
    "print(cwd)"
   ]
  },
  {
   "cell_type": "markdown",
   "id": "1c656c99",
   "metadata": {},
   "source": [
    "#### Load and explore the data"
   ]
  },
  {
   "cell_type": "code",
   "execution_count": 3,
   "id": "911fd651",
   "metadata": {},
   "outputs": [
    {
     "name": "stdout",
     "output_type": "stream",
     "text": [
      "(506, 14)\n",
      "        0     1     2   3      4      5     6       7   8      9     10  \\\n",
      "0  0.00632  18.0  2.31   0  0.538  6.575  65.2  4.0900   1  296.0  15.3   \n",
      "1  0.02731   0.0  7.07   0  0.469  6.421  78.9  4.9671   2  242.0  17.8   \n",
      "2  0.02729   0.0  7.07   0  0.469  7.185  61.1  4.9671   2  242.0  17.8   \n",
      "3  0.03237   0.0  2.18   0  0.458  6.998  45.8  6.0622   3  222.0  18.7   \n",
      "4  0.06905   0.0  2.18   0  0.458  7.147  54.2  6.0622   3  222.0  18.7   \n",
      "\n",
      "       11    12    13  \n",
      "0  396.90  4.98  24.0  \n",
      "1  396.90  9.14  21.6  \n",
      "2  392.83  4.03  34.7  \n",
      "3  394.63  2.94  33.4  \n",
      "4  396.90  5.33  36.2  \n"
     ]
    }
   ],
   "source": [
    "# load and summarize the housing dataset\n",
    "from pandas import read_csv\n",
    "from matplotlib import pyplot as plt\n",
    "# load dataset\n",
    "url = 'https://raw.githubusercontent.com/jbrownlee/Datasets/master/housing.csv'\n",
    "dataframe = read_csv(url, header=None)\n",
    "# summarize shape\n",
    "print(dataframe.shape)\n",
    "# summarize first few lines\n",
    "print(dataframe.head())"
   ]
  },
  {
   "cell_type": "code",
   "execution_count": 5,
   "id": "3d77475b",
   "metadata": {},
   "outputs": [
    {
     "name": "stdout",
     "output_type": "stream",
     "text": [
      "         0     1     2  3      4      5     6       7\n",
      "0  0.00632  18.0  2.31  0  0.538  6.575  65.2  4.0900\n",
      "1  0.02731   0.0  7.07  0  0.469  6.421  78.9  4.9671\n",
      "2  0.02729   0.0  7.07  0  0.469  7.185  61.1  4.9671\n",
      "3  0.03237   0.0  2.18  0  0.458  6.998  45.8  6.0622\n",
      "4  0.06905   0.0  2.18  0  0.458  7.147  54.2  6.0622\n"
     ]
    }
   ],
   "source": [
    "# You can subset data frame if needed\n",
    "X1 = dataframe.iloc[:,0:8]\n",
    "print(X1.head())\n"
   ]
  },
  {
   "cell_type": "code",
   "execution_count": 12,
   "id": "c050a805",
   "metadata": {},
   "outputs": [
    {
     "name": "stdout",
     "output_type": "stream",
     "text": [
      "[[6.320e-03 1.800e+01 2.310e+00 0.000e+00 5.380e-01]\n",
      " [2.731e-02 0.000e+00 7.070e+00 0.000e+00 4.690e-01]\n",
      " [2.729e-02 0.000e+00 7.070e+00 0.000e+00 4.690e-01]]\n"
     ]
    }
   ],
   "source": [
    "# To run the mode, a data set with only values (no header) is needed.  Basically, this is an array.\n",
    "data = dataframe.values # extract only values to run the model\n",
    "print(data[:3, :5])"
   ]
  },
  {
   "cell_type": "markdown",
   "id": "69240282",
   "metadata": {},
   "source": [
    "#### Set up & run model\n",
    "\n",
    "Here the model evaluation metric is mean absoulte error. Other metrics are available for regression."
   ]
  },
  {
   "cell_type": "code",
   "execution_count": 13,
   "id": "fe2c3acb",
   "metadata": {},
   "outputs": [
    {
     "name": "stdout",
     "output_type": "stream",
     "text": [
      "Mean MAE: 2.113 (0.317)\n"
     ]
    }
   ],
   "source": [
    "# evaluate an xgboost regression model on the housing dataset\n",
    "from numpy import absolute\n",
    "from pandas import read_csv\n",
    "from sklearn.model_selection import cross_val_score\n",
    "from sklearn.model_selection import RepeatedKFold\n",
    "from xgboost import XGBRegressor\n",
    "\n",
    "# load the dataset\n",
    "#url = 'https://raw.githubusercontent.com/jbrownlee/Datasets/master/housing.csv'\n",
    "#dataframe = read_csv(url, header=None)\n",
    "#data = dataframe.values\n",
    "\n",
    "# split data into input and output columns\n",
    "X, y = data[:, :-1], data[:, -1]\n",
    "\n",
    "# define model\n",
    "model = XGBRegressor()\n",
    "\n",
    "# define model evaluation method\n",
    "cv = RepeatedKFold(n_splits=10, n_repeats=3, random_state=1)\n",
    "\n",
    "# evaluate model\n",
    "# -1 means using all processors in parallel\n",
    "scores = cross_val_score(model, X, y, scoring='neg_mean_absolute_error', cv=cv, n_jobs=-1)\n",
    "\n",
    "# force scores to be positive\n",
    "scores = absolute(scores)\n",
    "print('Mean MAE: %.3f (%.3f)' % (scores.mean(), scores.std()) )"
   ]
  },
  {
   "cell_type": "code",
   "execution_count": 27,
   "id": "ecf3e843",
   "metadata": {},
   "outputs": [
    {
     "name": "stdout",
     "output_type": "stream",
     "text": [
      "Mean MSE: 2.113 (0.317)\n"
     ]
    }
   ],
   "source": [
    "# evaluate model with mean square error\n",
    "scores2 = cross_val_score(model, X, y, scoring='neg_mean_squared_error', cv=cv, n_jobs=-1)\n",
    "\n",
    "# force scores to be positive\n",
    "scores2 = absolute(scores)\n",
    "print('Mean MSE: %.3f (%.3f)' % (scores2.mean(), scores2.std()) )"
   ]
  },
  {
   "cell_type": "code",
   "execution_count": 26,
   "id": "44add067",
   "metadata": {},
   "outputs": [
    {
     "name": "stdout",
     "output_type": "stream",
     "text": [
      "Mean Var. Explained: 0.881 (0.053)\n"
     ]
    }
   ],
   "source": [
    "import statistics\n",
    "\n",
    "# evaluate model with variance explained\n",
    "scores3 = cross_val_score(model, X, y, scoring='explained_variance', cv=cv, n_jobs=-1)\n",
    "#print(scores3)\n",
    "\n",
    "# force scores to be positive\n",
    "#print(statistics.mean(scores3))\n",
    "print('Mean Var. Explained: %.3f (%.3f)' % (scores3.mean(), scores3.std()) )"
   ]
  },
  {
   "cell_type": "markdown",
   "id": "35a46a26",
   "metadata": {},
   "source": [
    "#### Fine tunning parameters\n",
    "Fine tune parameters to find a better model (potentially). Note: This currently does not work becasue of the llow number of fire and insect drivers in my test data"
   ]
  },
  {
   "cell_type": "code",
   "execution_count": 6,
   "id": "e65e8335",
   "metadata": {
    "scrolled": false
   },
   "outputs": [],
   "source": [
    "# Fine tune parameters using GridSearchCV. This won't work becasue of the limitation of the data\n",
    "\n",
    "# Model 3: GridSearch Model but this does not have the same properties as a XGBClassifier() output\n",
    "#param_grid1 = {\n",
    "#'max_depth' : [3,4,5],\n",
    "#'learning_rate': [0.1, 0.01, 0.05],\n",
    "#'gamma': [0, 0.25, 1.0],\n",
    "#'reg_lambda': [0, 1.0, 10.0],\n",
    "#}\n",
    "\n",
    "\n",
    "# grid_search is my new model\n",
    "# subsample is for running the model faster\n",
    "#model_gs = GridSearchCV(\n",
    "#    estimator=xgb.XGBClassifier(objective='multi:softmax', seed=seed, eval_metric='aucpr', subsample=0.9,  colsample_bytree=0.5) ,\n",
    "#    param_grid=param_grid1,\n",
    "#    scoring = 'roc_auc',\n",
    "#    n_jobs = 10,\n",
    "#    cv = 3, #Can't be bigger than the number of records per group. These seem to be the folds\n",
    "#    verbose=True\n",
    "#)\n",
    "\n",
    "#model_gs.fit(x2_train, y2_train)\n",
    "\n"
   ]
  },
  {
   "cell_type": "markdown",
   "id": "a2f4754c",
   "metadata": {},
   "source": [
    "#### Predictions\n",
    "Now let's see how well the models can predict when given new data."
   ]
  },
  {
   "cell_type": "code",
   "execution_count": 14,
   "id": "a10bbe9d",
   "metadata": {},
   "outputs": [
    {
     "name": "stdout",
     "output_type": "stream",
     "text": [
      "Predicted: 24.019\n"
     ]
    }
   ],
   "source": [
    "# fit a final xgboost model on the housing dataset and make a prediction\n",
    "from numpy import asarray\n",
    "\n",
    "# define model\n",
    "model = XGBRegressor()\n",
    "\n",
    "# fit model\n",
    "model.fit(X, y)\n",
    "\n",
    "# define new data\n",
    "row = [0.00632,18.00,2.310,0,0.5380,6.5750,65.20,4.0900,1,296.0,15.30,396.90,4.98]\n",
    "new_data = asarray([row])\n",
    "\n",
    "# make a prediction\n",
    "yhat = model.predict(new_data)\n",
    "\n",
    "# summarize prediction\n",
    "print('Predicted: %.3f' % yhat)"
   ]
  },
  {
   "cell_type": "markdown",
   "id": "9b553749",
   "metadata": {},
   "source": [
    "#### Model accuracy\n",
    "Let's measure the accuracy of the models. This does not apply when run regression only when doing classification.\n",
    "\n",
    "You cannot calculate accuracy for regression algorithms. There are no classes. You must calculate an error like mean squared error. (Jason B.)"
   ]
  },
  {
   "cell_type": "code",
   "execution_count": 15,
   "id": "4664a192",
   "metadata": {},
   "outputs": [],
   "source": [
    "# Accuracy score. T\n",
    "#from sklearn.metrics import accuracy_score #0.9142857142857143\n",
    "\n",
    "#print('model_m2:', accuracy_score(y2_test, predictions2))\n"
   ]
  },
  {
   "cell_type": "markdown",
   "id": "32d2860b",
   "metadata": {},
   "source": [
    "#### Model plots"
   ]
  },
  {
   "cell_type": "code",
   "execution_count": 19,
   "id": "3a5608bf",
   "metadata": {},
   "outputs": [
    {
     "data": {
      "image/png": "[encoded data removed]",
      "text/plain": [
       "<Figure size 640x480 with 1 Axes>"
      ]
     },
     "metadata": {},
     "output_type": "display_data"
    }
   ],
   "source": [
    "import xgboost as xgb\n",
    "\n",
    "xgb.plot_importance(model, max_num_features=10)\n",
    "plt.show()\n"
   ]
  },
  {
   "cell_type": "code",
   "execution_count": 18,
   "id": "28bb28e3",
   "metadata": {},
   "outputs": [],
   "source": [
    "# save in JSON format\n",
    "#model.save_model(\"model_regression1.json\")\n",
    "# save in text format\n",
    "#model_m2.save_model(\"model_m2.txt\")\n"
   ]
  },
  {
   "cell_type": "code",
   "execution_count": null,
   "id": "25d257e0",
   "metadata": {},
   "outputs": [],
   "source": [
    "# load saved model\n",
    "#model2 = xgb.Regressor()\n",
    "#model2.load_model(\"model_regression1.json\")\n"
   ]
  },
  {
   "cell_type": "markdown",
   "id": "b779dd6f",
   "metadata": {},
   "source": [
    "#### References"
   ]
  },
  {
   "cell_type": "markdown",
   "id": "0c055ee4",
   "metadata": {},
   "source": [
    "See tutorials:\n",
    "\n",
    "https://www.youtube.com/watch?v=OQKQHNCVf5k\n",
    "\n",
    "https://www.youtube.com/watch?v=GrJP9FLV3FE&t=2167s\n",
    "\n",
    "https://datascience.stackexchange.com/questions/16342/unbalanced-multiclass-data-with-xgboost\n",
    "\n",
    "https://mljar.com/blog/xgboost-save-load-python/\n",
    "\n",
    "https://machinelearningmastery.com/xgboost-for-regression/\n",
    "\n",
    "https://scikit-learn.org/stable/modules/model_evaluation.html#scoring-parameter\n"
   ]
  },
  {
   "cell_type": "code",
   "execution_count": null,
   "id": "a3c250b7",
   "metadata": {},
   "outputs": [],
   "source": []
  }
 ],
 "metadata": {
  "kernelspec": {
   "display_name": "Python 3 (ipykernel)",
   "language": "python",
   "name": "python3"
  },
  "language_info": {
   "codemirror_mode": {
    "name": "ipython",
    "version": 3
   },
   "file_extension": ".py",
   "mimetype": "text/x-python",
   "name": "python",
   "nbconvert_exporter": "python",
   "pygments_lexer": "ipython3",
   "version": "3.8.17"
  }
 },
 "nbformat": 4,
 "nbformat_minor": 5
}
